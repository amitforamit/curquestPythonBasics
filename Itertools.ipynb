{
 "cells": [
  {
   "cell_type": "markdown",
   "metadata": {},
   "source": [
    "# Itertools Module\n",
    "# Iterators,Iterables"
   ]
  },
  {
   "cell_type": "markdown",
   "metadata": {},
   "source": [
    "# Resources\n",
    "https://medium.com/@jasonrigden/a-guide-to-python-itertools-82e5a306cdf8\n",
    "\n",
    "https://dbader.org/blog/python-iterators\n",
    "\n",
    "https://realpython.com/python-itertools/\n",
    "\n",
    "https://data-flair.training/blogs/python-itertools-tutorial/"
   ]
  },
  {
   "cell_type": "markdown",
   "metadata": {},
   "source": [
    "1--- https://medium.com/@jasonrigden/a-guide-to-python-itertools-82e5a306cdf8"
   ]
  },
  {
   "cell_type": "markdown",
   "metadata": {},
   "source": [
    "# accumulate()"
   ]
  },
  {
   "cell_type": "markdown",
   "metadata": {},
   "source": [
    "The accumulate() function takes a function as an argument. It also takes an iterable. It returns the accumulated results."
   ]
  },
  {
   "cell_type": "code",
   "execution_count": 3,
   "metadata": {},
   "outputs": [],
   "source": [
    "import itertools\n",
    "import operator"
   ]
  },
  {
   "cell_type": "code",
   "execution_count": 23,
   "metadata": {
    "scrolled": true
   },
   "outputs": [
    {
     "name": "stdout",
     "output_type": "stream",
     "text": [
      "1\t2\t6\t24\t120\t"
     ]
    }
   ],
   "source": [
    "data = [1, 2, 3, 4, 5]\n",
    "itr = itertools.accumulate(data, operator.mul)\n",
    "for i in itr:\n",
    "    print(i,end=\"\\t\")"
   ]
  },
  {
   "cell_type": "code",
   "execution_count": 22,
   "metadata": {
    "scrolled": true
   },
   "outputs": [
    {
     "name": "stdout",
     "output_type": "stream",
     "text": [
      "3\t3\t6\t6\t7\t9\t9\t9\t"
     ]
    }
   ],
   "source": [
    "data = [3,2,6,4,7,9,1,0]\n",
    "itr = itertools.accumulate(data, max)\n",
    "for i in itr:\n",
    "    print(i,end=\"\\t\")"
   ]
  },
  {
   "cell_type": "code",
   "execution_count": 21,
   "metadata": {},
   "outputs": [
    {
     "name": "stdout",
     "output_type": "stream",
     "text": [
      "2\t5\t11\t12\t20\t20\t23\t"
     ]
    }
   ],
   "source": [
    "# if no function is passed, summation is applied\n",
    "data = [2,3,6,1,8,0,3]\n",
    "itr = itertools.accumulate(data)\n",
    "for i in itr:\n",
    "    print(i,end=\"\\t\")"
   ]
  },
  {
   "cell_type": "markdown",
   "metadata": {},
   "source": [
    "# combinations()"
   ]
  },
  {
   "cell_type": "markdown",
   "metadata": {},
   "source": [
    "This function takes an iterable and a integer n. This will create all the unique combination that have n members."
   ]
  },
  {
   "cell_type": "code",
   "execution_count": 3,
   "metadata": {},
   "outputs": [
    {
     "name": "stdout",
     "output_type": "stream",
     "text": [
      "('apple', 'mango')\t('apple', 'pear')\t('mango', 'pear')\t"
     ]
    }
   ],
   "source": [
    "fruits = ['apple', 'mango', 'pear']\n",
    "itr = itertools.combinations(fruits, 2)\n",
    "for i in itr:\n",
    "    print(i,end=\"\\t\")"
   ]
  },
  {
   "cell_type": "code",
   "execution_count": 7,
   "metadata": {},
   "outputs": [
    {
     "name": "stdout",
     "output_type": "stream",
     "text": [
      "('apple', 'mango', 'pear')\t"
     ]
    }
   ],
   "source": [
    "fruits = ['apple', 'mango', 'pear']\n",
    "itr = itertools.combinations(fruits, 3)\n",
    "for i in itr:\n",
    "    print(i,end=\"\\t\")"
   ]
  },
  {
   "cell_type": "markdown",
   "metadata": {},
   "source": [
    "# combinations_with_replacement()"
   ]
  },
  {
   "cell_type": "markdown",
   "metadata": {},
   "source": [
    "This is just like combinations() function, however this allows individual elements to be repeated more than once."
   ]
  },
  {
   "cell_type": "code",
   "execution_count": 8,
   "metadata": {},
   "outputs": [
    {
     "name": "stdout",
     "output_type": "stream",
     "text": [
      "('apple', 'apple')\t('apple', 'mango')\t('apple', 'pear')\t('mango', 'mango')\t('mango', 'pear')\t('pear', 'pear')\t"
     ]
    }
   ],
   "source": [
    "fruits = ['apple', 'mango', 'pear']\n",
    "itr = itertools.combinations_with_replacement(fruits, 2)\n",
    "for i in itr:\n",
    "    print(i,end=\"\\t\")"
   ]
  },
  {
   "cell_type": "markdown",
   "metadata": {},
   "source": [
    "# count()"
   ]
  },
  {
   "cell_type": "markdown",
   "metadata": {},
   "source": [
    "itertools.count(start=0, step=1)\n",
    "\n",
    "Generates an iterator that returns evenly stepped (step) values starting with a specified number (start).\n",
    "When used in a loop - need to provide break condition otherwise will create infinite loop."
   ]
  },
  {
   "cell_type": "code",
   "execution_count": 10,
   "metadata": {},
   "outputs": [
    {
     "name": "stdout",
     "output_type": "stream",
     "text": [
      "100\t102\t104\t106\t108\t110\t112\t114\t116\t118\t120\t122\t124\t126\t"
     ]
    }
   ],
   "source": [
    "for r in itertools.count(100,2):\n",
    "    print(r,end=\"\\t\")\n",
    "    if r > 125:\n",
    "        break"
   ]
  },
  {
   "cell_type": "markdown",
   "metadata": {},
   "source": [
    "# cycle()"
   ]
  },
  {
   "cell_type": "markdown",
   "metadata": {},
   "source": [
    "itertools.cycle(iterable)\n",
    "\n",
    "Generates an endless iterator that cycles through the elements of iterable."
   ]
  },
  {
   "cell_type": "code",
   "execution_count": 11,
   "metadata": {
    "scrolled": true
   },
   "outputs": [
    {
     "name": "stdout",
     "output_type": "stream",
     "text": [
      "apple\tmango\tpear\tapple\tmango\tpear\tapple\tmango\tpear\tapple\tmango\tpear\tapple\tmango\tpear\tapple\tmango\tpear\tapple\tmango\tpear\tapple\tmango\tpear\tapple\tmango\tpear\tapple\tmango\tpear\tapple\tmango\tpear\tapple\tmango\tpear\tapple\tmango\tpear\tapple\tmango\tpear\tapple\tmango\tpear\tapple\tmango\tpear\tapple\tmango\tpear\tapple\tmango\tpear\tapple\tmango\tpear\tapple\tmango\tpear\tapple\tmango\tpear\tapple\tmango\tpear\tapple\tmango\tpear\tapple\tmango\tpear\tapple\tmango\tpear\tapple\tmango\tpear\tapple\tmango\tpear\tapple\tmango\tpear\tapple\tmango\tpear\tapple\tmango\tpear\tapple\tmango\tpear\tapple\tmango\tpear\tapple\tmango\tpear\tapple\tmango\tpear\tapple\tmango\tpear\tapple\tmango\tpear\tapple\tmango\tpear\tapple\tmango\tpear\tapple\tmango\tpear\tapple\tmango\tpear\tapple\tmango\tpear\tapple\tmango\tpear\tapple\tmango\tpear\tapple\tmango\tpear\tapple\tmango\tpear\tapple\tmango\tpear\tapple\tmango\tpear\tapple\tmango\tpear\tapple\tmango\tpear\tapple\tmango\tpear\tapple\tmango\tpear\tapple\tmango\tpear\tapple\tmango\tpear\tapple\tmango\tpear\tapple\tmango\tpear\tapple\tmango\tpear\tapple\tmango\tpear\tapple\tmango\tpear\tapple\tmango\tpear\tapple\tmango\tpear\tapple\tmango\tpear\tapple\tmango\tpear\tapple\tmango\tpear\tapple\tmango\tpear\tapple\tmango\tpear\tapple\tmango\tpear\tapple\tmango\tpear\tapple\tmango\tpear\tapple\tmango\tpear\tapple\tmango\tpear\tapple\tmango\tpear\tapple\tmango\tpear\tapple\tmango\tpear\tapple\tmango\tpear\tapple\tmango\tpear\tapple\tmango\tpear\tapple\tmango\tpear\tapple\tmango\tpear\tapple\tmango\tpear\tapple\tmango\tpear\tapple\tmango\tpear\tapple\tmango\tpear\tapple\tmango\tpear\tapple\tmango\tpear\tapple\tmango\tpear\tapple\tmango\tpear\tapple\tmango\tpear\tapple\tmango\tpear\tapple\tmango\tpear\tapple\tmango\tpear\tapple\tmango\tpear\tapple\tmango\tpear\tapple\tmango\tpear\tapple\tmango\tpear\tapple\tmango\tpear\tapple\tmango\tpear\tapple\tmango\tpear\tapple\tmango\tpear\tapple\tmango\tpear\tapple\tmango\tpear\tapple\tmango\tpear\tapple\tmango\tpear\tapple\tmango\tpear\tapple\tmango\tpear\tapple\tmango\tpear\tapple\tmango\tpear\tapple\tmango\tpear\tapple\tmango\tpear\tapple\tmango\tpear\tapple\tmango\tpear\tapple\tmango\tpear\tapple\tmango\tpear\tapple\tmango\tpear\tapple\tmango\tpear\tapple\tmango\tpear\tapple\tmango\tpear\tapple\tmango\tpear\tapple\tmango\tpear\tapple\tmango\tpear\tapple\tmango\tpear\tapple\tmango\tpear\tapple\tmango\tpear\tapple\tmango\tpear\tapple\tmango\tpear\tapple\tmango\tpear\tapple\tmango\tpear\tapple\tmango\tpear\tapple\tmango\tpear\tapple\tmango\tpear\tapple\tmango\tpear\tapple\tmango\tpear\tapple\tmango\tpear\tapple\tmango\tpear\tapple\tmango\tpear\tapple\tmango\tpear\tapple\tmango\tpear\tapple\tmango\tpear\tapple\tmango\tpear\tapple\tmango\tpear\tapple\tmango\tpear\tapple\tmango\tpear\tapple\tmango\tpear\tapple\tmango\tpear\tapple\tmango\tpear\tapple\tmango\tpear\tapple\tmango\tpear\tapple\tmango\tpear\tapple\tmango\tpear\tapple\tmango\tpear\tapple\tmango\tpear\tapple\tmango\tpear\tapple\tmango\tpear\tapple\tmango\tpear\tapple\tmango\tpear\tapple\tmango\tpear\tapple\tmango\tpear\tapple\tmango\tpear\tapple\tmango\tpear\tapple\tmango\tpear\tapple\tmango\tpear\tapple\tmango\tpear\tapple\tmango\tpear\tapple\tmango\tpear\tapple\tmango\tpear\tapple\tmango\tpear\tapple\tmango\tpear\tapple\tmango\tpear\tapple\tmango\tpear\tapple\tmango\tpear\tapple\tmango\tpear\tapple\tmango\tpear\tapple\tmango\tpear\tapple\tmango\tpear\tapple\tmango\tpear\tapple\tmango\tpear\tapple\tmango\tpear\tapple\tmango\tpear\tapple\tmango\tpear\tapple\tmango\tpear\tapple\tmango\tpear\tapple\tmango\tpear\tapple\tmango\tpear\tapple\tmango\tpear\tapple\tmango\tpear\tapple\tmango\tpear\tapple\tmango\tpear\tapple\tmango\tpear\tapple\tmango\tpear\tapple\tmango\tpear\tapple\tmango\tpear\tapple\tmango\tpear\tapple\tmango\tpear\tapple\tmango\tpear\tapple\tmango\tpear\tapple\tmango\tpear\tapple\tmango\tpear\tapple\tmango\tpear\tapple\tmango\tpear\tapple\tmango\tpear\tapple\tmango\tpear\tapple\tmango\tpear\tapple\tmango\tpear\tapple\tmango\tpear\tapple\tmango\tpear\tapple\tmango\tpear\tapple\tmango\tpear\tapple\tmango\tpear\tapple\tmango\tpear\tapple\tmango\tpear\tapple\tmango\tpear\tapple\tmango\tpear\tapple\tmango\tpear\tapple\tmango\tpear\tapple\tmango\tpear\tapple\tmango\tpear\tapple\tmango\tpear\tapple\tmango\tpear\tapple\tmango\tpear\tapple\tmango\tpear\tapple\tmango\tpear\tapple\tmango\tpear\tapple\tmango\tpear\tapple\tmango\tpear\tapple\tmango\tpear\tapple\tmango\tpear\tapple\tmango\tpear\tapple\tmango\tpear\tapple\tmango\tpear\tapple\tmango\tpear\tapple\tmango\tpear\tapple\tmango\tpear\tapple\tmango\tpear\tapple\tmango\tpear\tapple\tmango\tpear\tapple\tmango\tpear\tapple\tmango\tpear\tapple\tmango\tpear\tapple\tmango\tpear\tapple\tmango\tpear\tapple\tmango\tpear\tapple\tmango\tpear\tapple\tmango\tpear\tapple\tmango\tpear\tapple\tmango\tpear\tapple\tmango\tpear\tapple\tmango\tpear\tapple\tmango\tpear\tapple\tmango\tpear\tapple\tmango\tpear\tapple\tmango\tpear\tapple\tmango\tpear\tapple\tmango\tpear\tapple\tmango\tpear\tapple\tmango\tpear\tapple\tmango\tpear\tapple\tmango\tpear\tapple\tmango\tpear\tapple\tmango\tpear\tapple\tmango\tpear\tapple\tmango\tpear\tapple\tmango\tpear\tapple\tmango\tpear\tapple\tmango\tpear\tapple\tmango\tpear\tapple\tmango\tpear\tapple\tmango\tpear\tapple\tmango\tpear\tapple\tmango\tpear\tapple\tmango\tpear\tapple\tmango\tpear\tapple\tmango\tpear\tapple\tmango\tpear\tapple\tmango\tpear\tapple\tmango\tpear\tapple\tmango\tpear\tapple\tmango\tpear\tapple\tmango\tpear\tapple\tmango\tpear\tapple\tmango\tpear\tapple\tmango\tpear\tapple\tmango\tpear\tapple\tmango\tpear\tapple\tmango\tpear\tapple\tmango\tpear\tapple\tmango\tpear\tapple\tmango\tpear\tapple\tmango\tpear\tapple\tmango\tpear\tapple\tmango\tpear\tapple\tmango\tpear\tapple\tmango\tpear\tapple\tmango\tpear\tapple\tmango\tpear\tapple\tmango\tpear\tapple\tmango\tpear\tapple\tmango\tpear\tapple\tmango\tpear\tapple\tmango\tpear\tapple\tmango\tpear\tapple\tmango\tpear\tapple\tmango\tpear\tapple\tmango\tpear\tapple\tmango\tpear\tapple\tmango\tpear\tapple\tmango\tpear\tapple\tmango\tpear\tapple\tmango\tpear\tapple\tmango\tpear\tapple\tmango\tpear\tapple\tmango\tpear\tapple\tmango\tpear\tapple\tmango\tpear\tapple\tmango\tpear\tapple\tmango\tpear\tapple\tmango\tpear\tapple\tmango\tpear\tapple\tmango\tpear\tapple\tmango\tpear\tapple\tmango\tpear\tapple\tmango\tpear\tapple\tmango\tpear\tapple\tmango\tpear\tapple\tmango\tpear\tapple\tmango\tpear\tapple\tmango\tpear\tapple\tmango\tpear\tapple\tmango\tpear\tapple\tmango\tpear\tapple\tmango\tpear\tapple\tmango\tpear\tapple\tmango\tpear\tapple\tmango\tpear\tapple\tmango\tpear\tapple\tmango\tpear\tapple\tmango\tpear\tapple\tmango\tpear\tapple\tmango\tpear\tapple\tmango\tpear\tapple\tmango\tpear\tapple\tmango\tpear\tapple\tmango\tpear\tapple\tmango\tpear\tapple\tmango\tpear\tapple\tmango\tpear\tapple\tmango\tpear\tapple\tmango\tpear\tapple\tmango\tpear\tapple\tmango\tpear\tapple\tmango\tpear\tapple\tmango\tpear\tapple\tmango\tpear\tapple\tmango\tpear\tapple\tmango\tpear\tapple\tmango\tpear\tapple\tmango\tpear\tapple\tmango\tpear\tapple\tmango\tpear\tapple\tmango\tpear\tapple\tmango\tpear\tapple\tmango\tpear\tapple\tmango\tpear\tapple\tmango\tpear\tapple\tmango\tpear\tapple\tmango\tpear\tapple\tmango\tpear\tapple\tmango\tpear\tapple\tmango\tpear\tapple\tmango\tpear\tapple\tmango\tpear\tapple\tmango\tpear\tapple\tmango\tpear\tapple\tmango\tpear\tapple\tmango\tpear\tapple\tmango\tpear\tapple\tmango\tpear\tapple\tmango\tpear\tapple\tmango\tpear\tapple\tmango\tpear\tapple\tmango\tpear\tapple\tmango\tpear\tapple\tmango\tpear\tapple\tmango\tpear\tapple\tmango\tpear\tapple\tmango\tpear\tapple\tmango\tpear\tapple\tmango\tpear\tapple\tmango\tpear\tapple\tmango\tpear\tapple\tmango\tpear\tapple\tmango\tpear\tapple\tmango\tpear\tapple\tmango\tpear\tapple\tmango\tpear\tapple\tmango\tpear\tapple\tmango\tpear\tapple\tmango\tpear\tapple\tmango\tpear\tapple\tmango\tpear\tapple\tmango\tpear\tapple\tmango\tpear\tapple\tmango\tpear\tapple\tmango\tpear\tapple\tmango\tpear\tapple\tmango\tpear\tapple\tmango\tpear\tapple\tmango\tpear\tapple\tmango\tpear\tapple\tmango\tpear\tapple\tmango\tpear\tapple\tmango\tpear\tapple\tmango\tpear\tapple\tmango\tpear\tapple\tmango\tpear\tapple\tmango\tpear\tapple\tmango\tpear\tapple\tmango\tpear\tapple\tmango\tpear\tapple\tmango\tpear\tapple\tmango\tpear\tapple\tmango\tpear\tapple\tmango\tpear\tapple\tmango\tpear\tapple\tmango\tpear\tapple\tmango\tpear\tapple\tmango\tpear\tapple\tmango\tpear\tapple\tmango\tpear\tapple\tmango\tpear\tapple\tmango\tpear\tapple\tmango\tpear\tapple\tmango\tpear\tapple\tmango\tpear\tapple\tmango\tpear\tapple\tmango\tpear\tapple\tmango\tpear\tapple\tmango\tpear\tapple\tmango\tpear\tapple\tmango\tpear\tapple\tmango\tpear\tapple\tmango\tpear\tapple\tmango\tpear\tapple\tmango\tpear\tapple\tmango\tpear\tapple\tmango\tpear\tapple\tmango\tpear\tapple\tmango\tpear\tapple\tmango\tpear\tapple\tmango\tpear\tapple\tmango\tpear\tapple\tmango\tpear\tapple\tmango\tpear\tapple\tmango\tpear\tapple\tmango\tpear\tapple\tmango\tpear\tapple\tmango\tpear\tapple\tmango\tpear\tapple\tmango\tpear\tapple\tmango\tpear\tapple\tmango\tpear\tapple\tmango\tpear\tapple\tmango\tpear\tapple\tmango\tpear\tapple\tmango\tpear\tapple\tmango\tpear\tapple\tmango\tpear\tapple\tmango\tpear\tapple\tmango\tpear\tapple\tmango\tpear\tapple\tmango\tpear\tapple\tmango\tpear\tapple\tmango\tpear\tapple\tmango\tpear\tapple\tmango\tpear\tapple\tmango\tpear\tapple\tmango\tpear\tapple\tmango\tpear\tapple\tmango\tpear\tapple\tmango\tpear\tapple\tmango\tpear\tapple\tmango\tpear\tapple\tmango\tpear\tapple\tmango\tpear\tapple\tmango\tpear\tapple\tmango\tpear\tapple\tmango\tpear\tapple\tmango\tpear\tapple\tmango\tpear\tapple\tmango\tpear\tapple\tmango\tpear\tapple\tmango\tpear\tapple\tmango\tpear\tapple\tmango\tpear\tapple\tmango\tpear\tapple\tmango\tpear\tapple\tmango\tpear\tapple\tmango\tpear\tapple\tmango\tpear\tapple\tmango\tpear\tapple\tmango\tpear\tapple\tmango\tpear\tapple\tmango\tpear\tapple\tmango\tpear\tapple\tmango\tpear\tapple\tmango\tpear\tapple\tmango\tpear\tapple\tmango\tpear\tapple\tmango\tpear\tapple\tmango\tpear\tapple\tmango\tpear\tapple\tmango\tpear\tapple\tmango\tpear\tapple\tmango\tpear\tapple\tmango\tpear\tapple\tmango\tpear\tapple\tmango\tpear\tapple\tmango\tpear\tapple\tmango\tpear\tapple\tmango\tpear\tapple\tmango\tpear\tapple\tmango\tpear\tapple\tmango\tpear\tapple\tmango\tpear\tapple\tmango\tpear\tapple\tmango\tpear\tapple\tmango\tpear\tapple\tmango\tpear\tapple\tmango\tpear\tapple\tmango\tpear\tapple\tmango\tpear\tapple\tmango\tpear\tapple\tmango\tpear\tapple\tmango\tpear\tapple\tmango\tpear\tapple\tmango\tpear\tapple\tmango\tpear\tapple\tmango\tpear\tapple\tmango\tpear\tapple\tmango\tpear\tapple\tmango\tpear\tapple\tmango\tpear\tapple\tmango\tpear\tapple\tmango\tpear\tapple\tmango\tpear\tapple\tmango\tpear\tapple\tmango\tpear\tapple\tmango\tpear\tapple\tmango\tpear\tapple\tmango\tpear\tapple\tmango\tpear\tapple\tmango\tpear\tapple\tmango\tpear\tapple\tmango\tpear\tapple\tmango\tpear\tapple\tmango\tpear\tapple\tmango\tpear\tapple\tmango\tpear\tapple\tmango\tpear\tapple\tmango\tpear\tapple\tmango\tpear\tapple\tmango\tpear\tapple\tmango\tpear\tapple\tmango\tpear\tapple\tmango\tpear\tapple\tmango\tpear\tapple\tmango\tpear\tapple\tmango\tpear\tapple\tmango\tpear\tapple\tmango\tpear\tapple\tmango\tpear\tapple\tmango\tpear\tapple\tmango\tpear\tapple\tmango\tpear\tapple\tmango\tpear\tapple\tmango\tpear\tapple\tmango\tpear\tapple\tmango\tpear\tapple\tmango\tpear\tapple\tmango\tpear\tapple\tmango\tpear\tapple\tmango\tpear\tapple\tmango\tpear\tapple\tmango\tpear\tapple\tmango\tpear\tapple\tmango\tpear\tapple\tmango\tpear\tapple\tmango\tpear\tapple\tmango\tpear\tapple\tmango\tpear\tapple\tmango\tpear\tapple\tmango\tpear\tapple\tmango\tpear\tapple\tmango\tpear\tapple\tmango\tpear\tapple\tmango\tpear\tapple\tmango\tpear\tapple\tmango\tpear\tapple\tmango\tpear\tapple\tmango\tpear\tapple\tmango\tpear\tapple\tmango\tpear\tapple\tmango\tpear\tapple\tmango\tpear\tapple\tmango\tpear\tapple\tmango\tpear\tapple\tmango\tpear\tapple\tmango\tpear\tapple\tmango\tpear\tapple\tmango\tpear\tapple\tmango\tpear\tapple\tmango\tpear\tapple\tmango\tpear\tapple\tmango\tpear\tapple\tmango\tpear\tapple\tmango\tpear\tapple\tmango\tpear\tapple\tmango\tpear\tapple\tmango\tpear\tapple\tmango\tpear\tapple\tmango\tpear\tapple\tmango\tpear\tapple\tmango\tpear\tapple\tmango\tpear\tapple\tmango\tpear\tapple\tmango\tpear\tapple\tmango\tpear\tapple\tmango\tpear\tapple\tmango\tpear\tapple\tmango\tpear\tapple\tmango\tpear\tapple\tmango\tpear\tapple\tmango\tpear\tapple\tmango\tpear"
     ]
    },
    {
     "name": "stdout",
     "output_type": "stream",
     "text": [
      "\tapple\tmango\tpear\tapple\tmango\tpear\tapple\tmango\tpear\tapple\tmango\tpear\tapple\tmango\tpear\tapple\tmango\tpear\tapple\tmango\tpear\tapple\tmango\tpear\tapple\tmango\tpear\tapple\tmango\tpear\tapple\tmango\tpear\tapple\tmango\tpear\tapple\tmango\tpear\tapple\tmango\tpear\tapple\tmango\tpear\tapple\tmango\tpear\tapple\tmango\tpear\tapple\tmango\tpear\tapple\tmango\tpear\tapple\tmango\tpear\tapple\tmango\tpear\tapple\tmango\tpear\tapple\tmango\tpear\tapple\tmango\tpear\tapple\tmango\tpear\tapple\tmango\tpear\tapple\tmango\tpear\tapple\tmango\tpear\tapple\tmango\tpear\tapple\tmango\tpear\tapple\tmango\tpear\tapple\tmango\tpear\tapple\tmango\tpear\tapple\tmango\tpear\tapple\tmango\tpear\tapple\tmango\tpear\tapple\tmango\tpear\tapple\tmango\tpear\tapple\tmango\tpear\tapple\tmango\tpear\tapple\tmango\tpear\tapple\tmango\tpear\tapple\tmango\tpear\tapple\tmango\tpear\tapple\tmango\tpear\tapple\tmango\tpear\tapple\tmango\tpear\tapple\tmango\tpear\tapple\tmango\tpear\tapple\tmango\tpear\tapple\tmango\tpear\tapple\tmango\tpear\tapple\tmango\tpear\tapple\tmango\tpear\tapple\tmango\tpear\tapple\tmango\tpear\tapple\tmango\tpear\tapple\tmango\tpear\tapple\tmango\tpear\tapple\tmango\tpear\tapple\tmango\tpear\tapple\tmango\tpear\tapple\tmango\tpear\tapple\tmango\tpear\tapple\tmango\tpear\tapple\tmango\tpear\tapple\tmango\tpear\tapple\tmango\tpear\tapple\tmango\tpear\tapple\tmango\tpear\tapple\tmango\tpear\tapple\tmango\tpear\tapple\tmango\tpear\tapple\tmango\tpear\tapple\tmango\tpear\tapple\tmango\tpear\tapple\tmango\tpear\tapple\tmango\tpear\tapple\tmango\tpear\tapple\tmango\tpear\tapple\tmango\tpear\tapple\tmango\tpear\tapple\tmango\tpear\tapple\tmango\tpear\tapple\tmango\tpear\tapple\tmango\tpear\tapple\tmango\tpear\tapple\tmango\tpear\tapple\tmango\tpear\tapple\tmango\tpear\tapple\tmango\tpear\tapple\tmango\tpear\tapple\tmango\tpear\tapple\tmango\tpear\tapple\tmango\tpear\tapple\tmango\tpear\tapple\tmango\tpear\tapple\tmango\tpear\tapple\tmango\tpear\tapple\tmango\tpear\tapple\tmango\tpear\tapple\tmango\tpear\tapple\tmango\tpear\tapple\tmango\tpear\tapple\tmango\tpear\tapple\tmango\tpear\tapple\tmango\tpear\tapple\tmango\tpear\tapple\tmango\tpear\tapple\tmango\tpear\tapple\tmango\tpear\tapple\tmango\tpear\tapple\tmango\tpear\tapple\tmango\tpear\tapple\tmango\tpear\tapple\tmango\tpear\tapple\tmango\tpear\tapple\tmango\tpear\tapple\tmango\tpear\tapple\tmango\tpear\tapple\tmango\tpear\tapple\tmango\tpear\tapple\tmango\tpear\tapple\tmango\tpear\tapple\tmango\tpear\tapple\tmango\tpear\tapple\tmango\tpear\tapple\tmango\tpear\tapple\tmango\tpear\tapple\tmango\tpear\tapple\tmango\tpear\tapple\tmango\tpear\tapple\tmango\tpear\tapple\tmango\tpear\tapple\tmango\tpear\tapple\tmango\tpear\tapple\tmango\tpear\tapple\tmango\tpear\tapple\tmango\tpear\tapple\tmango\tpear\tapple\tmango\tpear\tapple\tmango\tpear\tapple\tmango\tpear\tapple\tmango\tpear\tapple\tmango\tpear\tapple\tmango\tpear\tapple\tmango\tpear\tapple\tmango\tpear\tapple\tmango\tpear\tapple\tmango\tpear\tapple\tmango\tpear\tapple\tmango\tpear\tapple\tmango\tpear\tapple\tmango\tpear\tapple\tmango\tpear\tapple\tmango\tpear\tapple\tmango\tpear\tapple\tmango\tpear\tapple\tmango\tpear\tapple\tmango\tpear\tapple\tmango\tpear\tapple\tmango\tpear\tapple\tmango\tpear\tapple\tmango\tpear\tapple\tmango\tpear\tapple\tmango\tpear\tapple\tmango\tpear\tapple\tmango\tpear\tapple\tmango\tpear\tapple\tmango\tpear\tapple\tmango\tpear\tapple\tmango\tpear\tapple\tmango\tpear\tapple\tmango\tpear\tapple\tmango\tpear\tapple\tmango\tpear\tapple\tmango\tpear\tapple\tmango\tpear\tapple\tmango\tpear\tapple\tmango\tpear\tapple\tmango\tpear\tapple\tmango\tpear\tapple\tmango\tpear\tapple\tmango\tpear\tapple\tmango\tpear\tapple\tmango\tpear\tapple\tmango\tpear\tapple\tmango\tpear\tapple\tmango\tpear\tapple\tmango\tpear\tapple\tmango\tpear\tapple\tmango\tpear\tapple\tmango\tpear\tapple\tmango\tpear\tapple\tmango\tpear\tapple\tmango\tpear\tapple\tmango\tpear\tapple\tmango\tpear\tapple\tmango\tpear\tapple\tmango\tpear\tapple\tmango\tpear\tapple\tmango\tpear\tapple\tmango\tpear\tapple\tmango\tpear\tapple\tmango\tpear\tapple\tmango\tpear\tapple\tmango\tpear\tapple\tmango\tpear\tapple\tmango\tpear\tapple\tmango\tpear\tapple\tmango\tpear\tapple\tmango\tpear\tapple\tmango\tpear\tapple\tmango\tpear\tapple\tmango\tpear\tapple\tmango\tpear\tapple\tmango\tpear\tapple\tmango\tpear\tapple\tmango\tpear\tapple\tmango\tpear\tapple\tmango\tpear\tapple\tmango\tpear\tapple\tmango\tpear\tapple\tmango\tpear\tapple\tmango\tpear\tapple\tmango\tpear\tapple\tmango\tpear\tapple\tmango\tpear\tapple\tmango\tpear\tapple\tmango\tpear\tapple\tmango\tpear\tapple\tmango\tpear\tapple\tmango\tpear\tapple\tmango\tpear\tapple\tmango\tpear\tapple\tmango\tpear\tapple\tmango\tpear\tapple\tmango\tpear\tapple\tmango\tpear\tapple\tmango\tpear\tapple\tmango\tpear\tapple\tmango\tpear\tapple\tmango\tpear\tapple\tmango\tpear\tapple\tmango\tpear\tapple\tmango\tpear\tapple\tmango\tpear\tapple\tmango\tpear\tapple\tmango\tpear\tapple\tmango\tpear\tapple\tmango\tpear\tapple\tmango\tpear\tapple\tmango\tpear\tapple\tmango\tpear\tapple\tmango\tpear\tapple\tmango\tpear\tapple\tmango\tpear\tapple\tmango\tpear\tapple\tmango\tpear\tapple\tmango\tpear\tapple\tmango\tpear\tapple\tmango\tpear\tapple\tmango\tpear\tapple\tmango\tpear\tapple\tmango\tpear\tapple\tmango\tpear\tapple\tmango\tpear\tapple\tmango\tpear\tapple\tmango\tpear\tapple\tmango\tpear\tapple\tmango\tpear\tapple\tmango\tpear\tapple\tmango\tpear\tapple\tmango\tpear\tapple\tmango\tpear\tapple\tmango\tpear\tapple\tmango\tpear\tapple\tmango\tpear\tapple\tmango\tpear\tapple\tmango\tpear\tapple\tmango\tpear\tapple\tmango\tpear\tapple\tmango\tpear\tapple\tmango\tpear\tapple\tmango\tpear\tapple\tmango\tpear\tapple\tmango\tpear\tapple\tmango\tpear\tapple\tmango\tpear\tapple\tmango\tpear\tapple\tmango\tpear\tapple\tmango\tpear\tapple\tmango\tpear\tapple\tmango\tpear\tapple\tmango\tpear\tapple\tmango\tpear\tapple\tmango\tpear\tapple\tmango\tpear\tapple\tmango\tpear\tapple\tmango\tpear\tapple\tmango\tpear\tapple\tmango\tpear\tapple\tmango\tpear\tapple\tmango\tpear\tapple\tmango\tpear\tapple\tmango\tpear\tapple\tmango\tpear\tapple\tmango\tpear\tapple\tmango\tpear\tapple\tmango\tpear\tapple\tmango\tpear\tapple\tmango\tpear\tapple\tmango\tpear\tapple\tmango\tpear\tapple\tmango\tpear\tapple\tmango\tpear\tapple\tmango\tpear\tapple\tmango\tpear\tapple\tmango\tpear\tapple\tmango\tpear\tapple\tmango\tpear\tapple\tmango\tpear\tapple\tmango\tpear\tapple\tmango\tpear\tapple\tmango\tpear\tapple\tmango\tpear\tapple\tmango\tpear\tapple\tmango\tpear\tapple\tmango\tpear\tapple\tmango\tpear\tapple\tmango\tpear\tapple\tmango\tpear\tapple\tmango\tpear\tapple\tmango\tpear\tapple\tmango\tpear\tapple\tmango\tpear\tapple\tmango\tpear\tapple\tmango\tpear\tapple\tmango\tpear\tapple\tmango\tpear\tapple\tmango\tpear\tapple\tmango\tpear\tapple\tmango\tpear\tapple\tmango\tpear\tapple\tmango\tpear\tapple\tmango\tpear\tapple\tmango\tpear\tapple\tmango\tpear\tapple\tmango\tpear\tapple\tmango\tpear\tapple\tmango\tpear\tapple\tmango\tpear\tapple\tmango\tpear\tapple\tmango\tpear\tapple\tmango\tpear\tapple\tmango\tpear\tapple\tmango\tpear\tapple\tmango\tpear\tapple\tmango\tpear\tapple\tmango\tpear\tapple\tmango\tpear\tapple\tmango\tpear\tapple\tmango\tpear\tapple\tmango\tpear\tapple\tmango\tpear\tapple\tmango\tpear\tapple\tmango\tpear\tapple\tmango\tpear\tapple\tmango\tpear\tapple\tmango\tpear\tapple\tmango\tpear\tapple\tmango\tpear\tapple\tmango\tpear\tapple\tmango\tpear\tapple\tmango\tpear\tapple\tmango\tpear\tapple\tmango\tpear\tapple\tmango\tpear\tapple\tmango\tpear\tapple\tmango\tpear\tapple\tmango\tpear\tapple\tmango\tpear\tapple\tmango\tpear\tapple\tmango\tpear\tapple\tmango\tpear\tapple\tmango\tpear\tapple\tmango\tpear\tapple\tmango\tpear\tapple\tmango\tpear\tapple\tmango\tpear\tapple\tmango\tpear\tapple\tmango\tpear\tapple\tmango\tpear\tapple\tmango\tpear\tapple\tmango\tpear\tapple\tmango\tpear\tapple\tmango\tpear\tapple\tmango\tpear\tapple\tmango\tpear\tapple\tmango\tpear\tapple\tmango\tpear\tapple\tmango\tpear\tapple\tmango\tpear\tapple\tmango\tpear\tapple\tmango\tpear\tapple\tmango\tpear\tapple\tmango\tpear\tapple\tmango\tpear\tapple\tmango\tpear\tapple\tmango\tpear\tapple\tmango\tpear\tapple\tmango\tpear\tapple\tmango\tpear\tapple\tmango\tpear\tapple\tmango\tpear\tapple\tmango\tpear\tapple\tmango\tpear\tapple\tmango\tpear\tapple\tmango\tpear\tapple\tmango\tpear\tapple\tmango\tpear\tapple\tmango\tpear\tapple\tmango\tpear\tapple\tmango\tpear\tapple\tmango\tpear\tapple\tmango\tpear\tapple\tmango\tpear\tapple\tmango\tpear\tapple\tmango\tpear\tapple\tmango\tpear\tapple\tmango\tpear\tapple\tmango\tpear\tapple\tmango\tpear\tapple\tmango\tpear\tapple\tmango\tpear\tapple\tmango\tpear\tapple\tmango\tpear\tapple\tmango\tpear\tapple\tmango\tpear\tapple\tmango\tpear\tapple\tmango\tpear\tapple\tmango\tpear\tapple\tmango\tpear\tapple\tmango\tpear\tapple\tmango\tpear\tapple\tmango\tpear\tapple\tmango\tpear\tapple\tmango\tpear\tapple\tmango\tpear\tapple\tmango\tpear\tapple\tmango\tpear\tapple\tmango\tpear\tapple\tmango\tpear\tapple\tmango\tpear\tapple\tmango\tpear\tapple\tmango\tpear\tapple\tmango\tpear\tapple\tmango\tpear\tapple\tmango\tpear\tapple\tmango\tpear\tapple\tmango\tpear\tapple\tmango\tpear\tapple\tmango\tpear\tapple\tmango\tpear\tapple\tmango\tpear\tapple\tmango\tpear\tapple\tmango\tpear\tapple\tmango\tpear\tapple\tmango\tpear\tapple\tmango\tpear\tapple\tmango\tpear\tapple\tmango\tpear\tapple\tmango\tpear\tapple\tmango\tpear\tapple\tmango\tpear\tapple\tmango\tpear\tapple\tmango\tpear\tapple\tmango\tpear\tapple\tmango\tpear\tapple\tmango\tpear\tapple\tmango\tpear\tapple\tmango\tpear\tapple\tmango\tpear\tapple\tmango\tpear\tapple\tmango\tpear\tapple\tmango\tpear\tapple\tmango\tpear\tapple\tmango\tpear\tapple\tmango\tpear\tapple\tmango\tpear\tapple\tmango\tpear\tapple\tmango\tpear\tapple\tmango\tpear\tapple\tmango\tpear\tapple\tmango\tpear\tapple\tmango\tpear\tapple\tmango\tpear\tapple\tmango\tpear\tapple\tmango\tpear\tapple\t"
     ]
    },
    {
     "name": "stdout",
     "output_type": "stream",
     "text": [
      "mango\tpear\tapple\tmango\tpear\tapple\tmango\tpear\tapple\tmango\tpear\tapple\tmango\tpear\tapple\tmango\tpear\tapple\tmango\tpear\tapple\tmango\tpear\tapple\tmango\tpear\tapple\tmango\tpear\tapple\tmango\tpear\tapple\tmango\tpear\tapple\tmango\tpear\tapple\tmango\tpear\tapple\tmango\tpear\tapple\tmango\tpear\tapple\tmango\tpear\tapple\tmango\tpear\tapple\tmango\tpear\tapple\tmango\tpear\tapple\tmango\tpear\tapple\tmango\tpear\tapple\tmango\tpear\tapple\tmango\tpear\tapple\tmango\tpear\tapple\tmango\tpear\tapple\tmango\tpear\tapple\tmango\tpear\tapple\tmango\tpear\tapple\tmango\tpear\tapple\tmango\tpear\tapple\tmango\tpear\tapple\tmango\tpear\tapple\tmango\tpear\tapple\tmango\tpear\tapple\tmango\tpear\tapple\tmango\tpear\tapple\tmango\tpear\tapple\tmango\tpear\tapple\tmango\tpear\tapple\tmango\tpear\tapple\tmango\tpear\tapple\tmango\tpear\tapple\tmango\tpear\tapple\tmango\tpear\tapple\tmango\tpear\tapple\tmango\tpear\tapple\tmango\tpear\tapple\tmango\tpear\tapple\tmango\tpear\tapple\tmango\tpear\tapple\tmango\tpear\tapple\tmango\tpear\tapple\tmango\tpear\tapple\tmango\tpear\tapple\tmango\tpear\tapple\tmango\tpear\tapple\tmango\tpear\tapple\tmango\tpear\tapple\tmango\tpear\tapple\tmango\tpear\tapple\tmango\tpear\tapple\tmango\tpear\tapple\tmango\tpear\tapple\tmango\tpear\tapple\tmango\tpear\tapple\tmango\tpear\tapple\tmango\tpear\tapple\tmango\tpear\tapple\tmango\tpear\tapple\tmango\tpear\tapple\tmango\tpear\tapple\tmango\tpear\tapple\tmango\tpear\tapple\tmango\tpear\tapple\tmango\tpear\tapple\tmango\tpear\tapple\tmango\tpear\tapple\tmango\tpear\tapple\tmango\tpear\tapple\tmango\tpear\tapple\tmango\tpear\tapple\tmango\tpear\tapple\tmango\tpear\tapple\tmango\tpear\tapple\tmango\tpear\tapple\tmango\tpear\tapple\tmango\tpear\tapple\tmango\tpear\tapple\tmango\tpear\tapple\tmango\tpear\tapple\tmango\tpear\tapple\tmango\tpear\tapple\tmango\tpear\tapple\tmango\tpear\tapple\tmango\tpear\tapple\tmango\tpear\tapple\tmango\tpear\tapple\tmango\tpear\tapple\tmango\tpear\tapple\tmango\tpear\tapple\tmango\tpear\tapple\tmango\tpear\tapple\tmango\tpear\tapple\tmango\tpear\tapple\tmango\tpear\tapple\tmango\tpear\tapple\tmango\tpear\tapple\tmango\tpear\tapple\tmango\tpear\tapple\tmango\tpear\tapple\tmango\tpear\tapple\tmango\tpear\tapple\tmango\tpear\tapple\tmango\tpear\tapple\tmango\tpear\tapple\tmango\tpear\tapple\tmango\tpear\tapple\tmango\tpear\tapple\tmango\tpear\tapple\tmango\tpear\tapple\tmango\tpear\tapple\tmango\tpear\tapple\tmango\tpear\tapple\tmango\tpear\tapple\tmango\tpear\tapple\tmango\tpear\tapple\tmango\tpear\tapple\tmango\tpear\tapple\tmango\tpear\tapple\tmango\tpear\tapple\tmango\tpear\tapple\tmango\tpear\tapple\tmango\tpear\tapple\tmango\tpear\tapple\tmango\tpear\tapple\tmango\tpear\tapple\tmango\tpear\tapple\tmango\tpear\tapple\tmango\tpear\tapple\tmango\tpear\tapple\tmango\tpear\tapple\tmango\tpear\tapple\tmango\tpear\tapple\tmango\tpear\tapple\tmango\tpear\tapple\tmango\tpear\tapple\tmango\tpear\tapple\tmango\tpear\tapple\tmango\tpear\tapple\tmango\tpear\tapple\tmango\tpear\tapple\tmango\tpear\tapple\tmango\tpear\tapple\tmango\tpear\tapple\tmango\tpear\tapple\tmango\tpear\tapple\tmango\tpear\tapple\tmango\tpear\tapple\tmango\tpear\tapple\tmango\tpear\tapple\tmango\tpear\tapple\tmango\tpear\tapple\tmango\tpear\tapple\tmango\tpear\tapple\tmango\tpear\tapple\tmango\tpear\tapple\tmango\tpear\tapple\tmango\tpear\tapple\tmango\tpear\tapple\tmango\tpear\tapple\tmango\tpear\tapple\tmango\tpear\tapple\tmango\tpear\tapple\tmango\tpear\tapple\tmango\tpear\tapple\tmango\tpear\tapple\tmango\tpear\tapple\tmango\tpear\tapple\tmango\tpear\tapple\tmango\tpear\tapple\tmango\tpear\tapple\tmango\tpear\tapple\tmango\tpear\tapple\tmango\tpear\tapple\tmango\tpear\tapple\tmango\tpear\tapple\tmango\tpear\tapple\tmango\tpear\tapple\tmango\tpear\tapple\tmango\tpear\tapple\tmango\tpear\tapple\tmango\tpear\tapple\tmango\tpear\tapple\tmango\tpear\tapple\tmango\tpear\tapple\tmango\tpear\tapple\tmango\tpear\tapple\tmango\tpear\tapple\tmango\tpear\tapple\tmango\tpear\tapple\tmango\tpear\tapple\tmango\tpear\tapple\tmango\tpear\tapple\tmango\tpear\tapple\tmango\tpear\tapple\tmango\tpear\tapple\tmango\tpear\tapple\tmango\tpear\tapple\tmango\tpear\tapple\tmango\tpear\tapple\tmango\tpear\tapple\tmango\tpear\tapple\tmango\tpear\tapple\tmango\tpear\tapple\tmango\tpear\tapple\tmango\tpear\tapple\tmango\tpear\tapple\tmango\tpear\tapple\tmango\tpear\tapple\tmango\tpear\tapple\tmango\tpear\tapple\tmango\tpear\tapple\tmango\tpear\tapple\tmango\tpear\tapple\tmango\tpear\tapple\tmango\tpear\tapple\tmango\tpear\tapple\tmango\tpear\tapple\tmango\tpear\tapple\tmango\tpear\tapple\tmango\tpear\tapple\tmango\tpear\tapple\tmango\tpear\tapple\tmango\tpear\tapple\tmango\tpear\tapple\tmango\tpear\tapple\tmango\tpear\tapple\tmango\tpear\tapple\tmango\tpear\tapple\tmango\tpear\tapple\tmango\tpear\tapple\tmango\tpear\tapple\tmango\tpear\tapple\tmango\tpear\tapple\tmango\tpear\tapple\tmango\tpear\tapple\tmango\tpear\tapple\tmango\tpear\tapple\tmango\tpear\tapple\tmango\tpear\tapple\tmango\tpear\tapple\tmango\tpear\tapple\tmango\tpear\tapple\tmango\tpear\tapple\tmango\tpear\tapple\tmango\tpear\tapple\tmango\tpear\tapple\tmango\tpear\tapple\tmango\tpear\tapple\tmango\tpear\tapple\tmango\tpear\tapple\tmango\tpear\tapple\tmango\tpear\tapple\tmango\tpear\tapple\tmango\tpear\tapple\tmango\tpear\tapple\tmango\tpear\tapple\tmango\tpear\tapple\tmango\tpear\tapple\tmango\tpear\tapple\tmango\tpear\tapple\tmango\tpear\tapple\tmango\tpear\tapple\tmango\tpear\tapple\tmango\tpear\tapple\tmango\tpear\tapple\tmango\tpear\tapple\tmango\tpear\tapple\tmango\tpear\tapple\tmango\tpear\tapple\tmango\tpear\tapple\tmango\tpear\tapple\tmango\tpear\tapple\tmango\tpear\tapple\tmango\tpear\tapple\tmango\tpear\tapple\tmango\tpear\tapple\tmango\tpear\tapple\tmango\tpear\tapple\tmango\tpear\tapple\tmango\tpear\tapple\tmango\tpear\tapple\tmango\tpear\tapple\tmango\tpear\tapple\tmango\tpear\tapple\tmango\tpear\tapple\tmango\tpear\tapple\tmango\tpear\tapple\tmango\tpear\tapple\tmango\tpear\tapple\tmango\tpear\tapple\tmango\tpear\tapple\tmango\tpear\tapple\tmango\tpear\tapple\tmango\tpear\tapple\tmango\tpear\tapple\tmango\tpear\tapple\tmango\tpear\tapple\tmango\tpear\tapple\tmango\tpear\tapple\tmango\tpear\tapple\tmango\tpear\tapple\tmango\tpear\tapple\tmango\tpear\tapple\tmango\tpear\tapple\tmango\tpear\tapple\tmango\tpear\tapple\tmango\tpear\tapple\tmango\tpear\tapple\tmango\tpear\tapple\tmango\tpear\tapple\tmango\tpear\tapple\tmango\tpear\tapple\tmango\tpear\tapple\tmango\tpear\tapple\tmango\tpear\tapple\tmango\tpear\tapple\tmango\tpear\tapple\tmango\tpear\tapple\tmango\tpear\tapple\tmango\tpear\tapple\tmango\tpear\tapple\tmango\tpear\tapple\tmango\tpear\tapple\tmango\tpear\tapple\tmango\tpear\tapple\tmango\tpear\tapple\tmango\tpear\tapple\tmango\tpear\tapple\tmango\tpear\tapple\tmango\tpear\tapple\tmango\tpear\tapple\tmango\tpear\tapple\tmango\tpear\tapple\tmango\tpear\tapple\tmango\tpear\tapple\tmango\tpear\tapple\tmango\tpear\tapple\tmango\tpear\tapple\tmango\tpear\tapple\tmango\tpear\tapple\tmango\tpear\tapple\tmango\tpear\tapple\tmango\tpear\tapple\tmango\tpear\tapple\tmango\tpear\tapple\tmango\tpear\tapple\tmango\tpear\tapple\tmango\tpear\tapple\tmango\tpear\tapple\tmango\tpear\tapple\tmango\tpear\tapple\tmango\tpear\tapple\tmango\tpear\tapple\tmango\tpear\tapple\tmango\tpear\tapple\tmango\tpear\tapple\tmango\tpear\tapple\tmango\tpear\tapple\tmango\tpear\tapple\tmango\tpear\tapple\tmango\tpear\tapple\tmango\tpear\tapple\tmango\tpear\tapple\tmango\tpear\tapple\tmango\tpear\tapple\tmango\tpear\tapple\tmango\tpear\tapple\tmango\tpear\tapple\tmango\tpear\tapple\tmango\tpear\tapple\tmango\tpear\tapple\tmango\tpear\tapple\tmango\tpear\tapple\tmango\tpear\tapple\tmango\tpear\tapple\tmango\tpear\tapple\tmango\tpear\tapple\tmango\tpear\tapple\tmango\tpear\tapple\tmango\tpear\tapple\tmango\tpear\tapple\tmango\tpear\tapple\tmango\tpear\tapple\tmango\tpear\tapple\tmango\tpear\tapple\tmango\tpear\tapple\tmango\tpear\tapple\tmango\tpear\tapple\tmango\tpear\tapple\tmango\tpear\tapple\tmango\tpear\tapple\tmango\tpear\tapple\tmango\tpear\tapple\tmango\tpear\tapple\tmango\tpear\tapple\tmango\tpear\tapple\tmango\tpear\tapple\tmango\tpear\tapple\tmango\tpear\tapple\tmango\tpear\tapple\tmango\tpear\tapple\tmango\tpear\tapple\tmango\tpear\tapple\tmango\tpear\tapple\tmango\tpear\tapple\tmango\tpear\tapple\tmango\tpear\tapple\tmango\tpear\tapple\tmango\tpear\tapple\tmango\tpear\tapple\tmango\tpear\tapple\tmango\tpear\tapple\tmango\tpear\tapple\tmango\tpear\tapple\tmango\tpear\tapple\tmango\tpear\tapple\tmango\tpear\tapple\tmango\tpear\tapple\tmango\tpear\tapple\tmango\tpear\tapple\tmango\tpear\tapple\tmango\tpear\tapple\tmango\tpear\tapple\tmango\tpear\tapple\tmango\tpear\tapple\tmango\tpear\tapple\tmango\tpear\tapple\tmango\tpear\tapple\tmango\tpear\tapple\tmango\tpear\tapple\tmango\tpear\tapple\tmango\tpear\tapple\tmango\tpear\tapple\tmango\tpear\tapple\tmango\tpear\tapple\tmango\tpear\tapple\tmango\tpear\tapple\tmango\tpear\tapple\tmango\tpear\tapple\tmango\tpear\tapple\tmango\tpear\tapple\tmango\tpear\tapple\tmango\tpear\tapple\tmango\tpear\tapple\tmango\tpear\tapple\tmango\tpear\tapple\tmango\tpear\tapple\tmango\tpear\tapple\tmango\tpear\tapple\tmango\tpear\tapple\tmango\tpear\tapple\tmango\tpear\tapple\tmango\tpear\tapple\tmango\tpear\tapple\tmango\tpear\tapple\tmango\tpear\tapple\tmango\tpear\tapple\tmango\tpear\tapple\tmango\tpear\tapple\tmango\tpear\tapple\tmango\tpear\tapple\tmango\tpear\tapple\tmango\tpear\tapple\tmango\tpear\tapple\tmango\tpear\tapple\tmango\tpear\tapple\tmango\tpear\tapple\tmango\tpear\tapple\tmango\tpear\tapple\tmango\tpear\tapple\tmango\tpear\tapple\tmango\tpear\tapple\tmango\tpear\tapple\tmango\tpear\tapple\tmango\tpear\tapple\tmango\tpear\tapple\tmango\tpear\tapple\tmango\tpear\tapple\tmango\tpear\tapple\tmango\tpear\tapple\tmango\tpear\tapple\tmango\tpear\tapple\tmango\tpear\tapple\tmango\tpear\tapple\tmango\tpear\tapple\tmango\tpear\tapple\tmango\tpear\tapple\tmango\tpear"
     ]
    },
    {
     "name": "stdout",
     "output_type": "stream",
     "text": [
      "\tapple\tmango\tpear\tapple\tmango\tpear\tapple\tmango\tpear\tapple\tmango\tpear\tapple\tmango\tpear\tapple\tmango\tpear\tapple\tmango\tpear\tapple\tmango\tpear\tapple\tmango\tpear\tapple\tmango\tpear\tapple\tmango\tpear\tapple\tmango\tpear\tapple\tmango\tpear\tapple\tmango\tpear\tapple\tmango\tpear\tapple\tmango\tpear\tapple\tmango\tpear\tapple\tmango\tpear\tapple\tmango\tpear\tapple\tmango\tpear\tapple\tmango\tpear\tapple\tmango\tpear\tapple\tmango\tpear\tapple\tmango\tpear\tapple\tmango\tpear\tapple\tmango\tpear\tapple\tmango\tpear\tapple\tmango\tpear\tapple\tmango\tpear\tapple\tmango\tpear\tapple\tmango\tpear\tapple\tmango\tpear\tapple\tmango\tpear\tapple\tmango\tpear\tapple\tmango\tpear\tapple\tmango\tpear\tapple\tmango\tpear\tapple\tmango\tpear\tapple\tmango\tpear\tapple\tmango\tpear\tapple\tmango\tpear\tapple\tmango\tpear\tapple\tmango\tpear\tapple\tmango\tpear\tapple\tmango\tpear\tapple\tmango\tpear\tapple\tmango\tpear\tapple\tmango\tpear\tapple\tmango\tpear\tapple\tmango\tpear\tapple\tmango\tpear\tapple\tmango\tpear\tapple\tmango\tpear\tapple\tmango\tpear\tapple\tmango\tpear\tapple\tmango\tpear\tapple\tmango\tpear\tapple\tmango\tpear\tapple\tmango\tpear\tapple\tmango\tpear\tapple\tmango\tpear\tapple\tmango\tpear\tapple\tmango\tpear\tapple\tmango\tpear\tapple\tmango\tpear\tapple\tmango\tpear\tapple\tmango\tpear\tapple\tmango\tpear\tapple\tmango\tpear\tapple\tmango\tpear\tapple\tmango\tpear\tapple\tmango\tpear\tapple\tmango\tpear\tapple\tmango\tpear\tapple\tmango\tpear\tapple\tmango\tpear\tapple\tmango\tpear\tapple\tmango\tpear\tapple\tmango\tpear\tapple\tmango\tpear\tapple\tmango\tpear\tapple\tmango\tpear\tapple\tmango\tpear\tapple\tmango\tpear\tapple\tmango\tpear\tapple\tmango\tpear\tapple\tmango\tpear\tapple\tmango\tpear\tapple\tmango\tpear\tapple\tmango\tpear\tapple\tmango\tpear\tapple\tmango\tpear\tapple\tmango\tpear\tapple\tmango\tpear\tapple\tmango\tpear\tapple\tmango\tpear\tapple\tmango\tpear\tapple\tmango\tpear\tapple\tmango\tpear\tapple\tmango\tpear\tapple\tmango\tpear\tapple\tmango\tpear\tapple\tmango\tpear\tapple\tmango\tpear\tapple\tmango\tpear\tapple\tmango\tpear\tapple\tmango\tpear\tapple\tmango\tpear\tapple\tmango\tpear\tapple\tmango\tpear\tapple\tmango\tpear\tapple\tmango\tpear\tapple\tmango\tpear\tapple\tmango\tpear\tapple\tmango\tpear\tapple\tmango\tpear\tapple\tmango\tpear\tapple\tmango\tpear\tapple\tmango\tpear\tapple\tmango\tpear\tapple\tmango\tpear\tapple\tmango\tpear\tapple\tmango\tpear\tapple\tmango\tpear\tapple\tmango\tpear\tapple\tmango\tpear\tapple\tmango\tpear\tapple\tmango\tpear\tapple\tmango\tpear\tapple\tmango\tpear\tapple\tmango\tpear\tapple\tmango\tpear\tapple\tmango\tpear\tapple\tmango\tpear\tapple\tmango\tpear\tapple\tmango\tpear\tapple\tmango\tpear\tapple\tmango\tpear\tapple\tmango\tpear\tapple\tmango\tpear\tapple\tmango\tpear\tapple\tmango\tpear\tapple\tmango\tpear\tapple\tmango\tpear\tapple\tmango\tpear\tapple\tmango\tpear\tapple\tmango\tpear\tapple\tmango\tpear\tapple\tmango\tpear\tapple\tmango\tpear\tapple\tmango\tpear\tapple\tmango\tpear\tapple\tmango\tpear\tapple\tmango\tpear\tapple\tmango\tpear\tapple\tmango\tpear\tapple\tmango\tpear\tapple\tmango\tpear\tapple\tmango\tpear\tapple\tmango\tpear\tapple\tmango\tpear\tapple\tmango\tpear\tapple\tmango\tpear\tapple\tmango\tpear\tapple\tmango\tpear\tapple\tmango\tpear\tapple\tmango\tpear\tapple\tmango\tpear\tapple\tmango\tpear\tapple\tmango\tpear\tapple\tmango\tpear\tapple\tmango\tpear\tapple\tmango\tpear\tapple\tmango\tpear\tapple\tmango\tpear\tapple\tmango\tpear\tapple\tmango\tpear\tapple\tmango\tpear\tapple\tmango\tpear\tapple\tmango\tpear\tapple\tmango\tpear\tapple\tmango\tpear\tapple\tmango\tpear\tapple\tmango\tpear\tapple\tmango\tpear\tapple\tmango\tpear\tapple\tmango\tpear\tapple\tmango\tpear\tapple\tmango\tpear\tapple\tmango\tpear\tapple\tmango\tpear\tapple\tmango\tpear\tapple\tmango\tpear\tapple\tmango\tpear\tapple\tmango\tpear\tapple\tmango\tpear\tapple\tmango\tpear\tapple\tmango\tpear\tapple\tmango\tpear\tapple\tmango\tpear\tapple\tmango\tpear\tapple\tmango\tpear\tapple\tmango\tpear\tapple\tmango\tpear\tapple\tmango\tpear\tapple\tmango\tpear\tapple\tmango\tpear\tapple\tmango\tpear\tapple\tmango\tpear\tapple\tmango\tpear\tapple\tmango\tpear\tapple\tmango\tpear\tapple\tmango\tpear\tapple\tmango\tpear\tapple\tmango\tpear\tapple\tmango\tpear\tapple\tmango\tpear\tapple\tmango\tpear\tapple\tmango\tpear\tapple\tmango\tpear\tapple\tmango\tpear\tapple\tmango\tpear\tapple\tmango\tpear\tapple\tmango\tpear\tapple\tmango\tpear\tapple\tmango\tpear\tapple\tmango\tpear\tapple\tmango\tpear\tapple\tmango\tpear\tapple\tmango\tpear\tapple\tmango\tpear\tapple\tmango\tpear\tapple\tmango\tpear\tapple\tmango\tpear\tapple\tmango\tpear\tapple\tmango\tpear\tapple\tmango\tpear\tapple\tmango\tpear\tapple\tmango\tpear\tapple\tmango\tpear\tapple\tmango\tpear\tapple\tmango\tpear\tapple\tmango\tpear\tapple\tmango\tpear\tapple\tmango\tpear\tapple\tmango\tpear\tapple\tmango\tpear\tapple\tmango\tpear\tapple\tmango\tpear\tapple\tmango\tpear\tapple\tmango\tpear\tapple\tmango\tpear\tapple\tmango\tpear\tapple\tmango\tpear\tapple\tmango\tpear\tapple\tmango\tpear\tapple\tmango\tpear\tapple\tmango\tpear\tapple\tmango\tpear\tapple\tmango\tpear\tapple\tmango\tpear\tapple\tmango\tpear\tapple\tmango\tpear\tapple\tmango\tpear\tapple\tmango\tpear\tapple\tmango\tpear\tapple\tmango\tpear\tapple\tmango\tpear\tapple\tmango\tpear\tapple\tmango\tpear\tapple\tmango\tpear\tapple\tmango\tpear\tapple\tmango\tpear\tapple\tmango\tpear\tapple\tmango\tpear\tapple\tmango\tpear\tapple\tmango\tpear\tapple\tmango\tpear\tapple\tmango\tpear\tapple\tmango\tpear\tapple\tmango\tpear\tapple\tmango\tpear\tapple\tmango\tpear\tapple\tmango\tpear\tapple\tmango\tpear\tapple\tmango\tpear\tapple\tmango\tpear\tapple\tmango\tpear\tapple\tmango\tpear\tapple\tmango\tpear\tapple\tmango\tpear\tapple\tmango\tpear\tapple\tmango\tpear\tapple\tmango\tpear\tapple\tmango\tpear\tapple\tmango\tpear\tapple\tmango\tpear\tapple\tmango\tpear\tapple\tmango\tpear\tapple\tmango\tpear\tapple\tmango\tpear\tapple\tmango\tpear\tapple\tmango\tpear\tapple\tmango\tpear\tapple\tmango\tpear\tapple\tmango\tpear\tapple\tmango\tpear\tapple\tmango\tpear\tapple\tmango\tpear\tapple\tmango\tpear\tapple\tmango\tpear\tapple\tmango\tpear\tapple\tmango\tpear\tapple\tmango\tpear\tapple\tmango\tpear\tapple\tmango\tpear\tapple\tmango\tpear\tapple\tmango\tpear\tapple\tmango\tpear\tapple\tmango\tpear\tapple\tmango\tpear\tapple\tmango\tpear\tapple\tmango\tpear\tapple\tmango\tpear\tapple\tmango\tpear\tapple\tmango\tpear\tapple\tmango\tpear\tapple\tmango\tpear\tapple\tmango\tpear\tapple\tmango\tpear\tapple\tmango\tpear\tapple\tmango\tpear\tapple\tmango\tpear\tapple\tmango\tpear\tapple\tmango\tpear\tapple\tmango\tpear\tapple\tmango\tpear\tapple\tmango\tpear\tapple\tmango\tpear\tapple\tmango\tpear\tapple\tmango\tpear\tapple\tmango\tpear\tapple\tmango\tpear\tapple\tmango\tpear\tapple\tmango\tpear\tapple\tmango\tpear\tapple\tmango\tpear\tapple\tmango\tpear\tapple\tmango\tpear\tapple\tmango\tpear\tapple\tmango\tpear\tapple\tmango\tpear\tapple\tmango\tpear\tapple\tmango\tpear\tapple\tmango\tpear\tapple\tmango\tpear\tapple\tmango\tpear\tapple\tmango\tpear\tapple\tmango\tpear\tapple\tmango\tpear\tapple\tmango\tpear\tapple\tmango\tpear\tapple\tmango\tpear\tapple\tmango\tpear\tapple\tmango\tpear\tapple\tmango\tpear\tapple\tmango\tpear\tapple\tmango\tpear\tapple\tmango\tpear\tapple\tmango\tpear\tapple\tmango\tpear\tapple\tmango\tpear\tapple\tmango\tpear\tapple\tmango\tpear\tapple\tmango\tpear\tapple\tmango\tpear\tapple\tmango\tpear\tapple\tmango\tpear\tapple\tmango\tpear\tapple\tmango\tpear\tapple\tmango\tpear\tapple\tmango\tpear\tapple\tmango\tpear\tapple\tmango\tpear\tapple\tmango\tpear\tapple\tmango\tpear\tapple\tmango\tpear\tapple\tmango\tpear\tapple\tmango\tpear\tapple\tmango\tpear\tapple\tmango\tpear\tapple\tmango\tpear\tapple\tmango\tpear\tapple\tmango\tpear\tapple\tmango\tpear\tapple\tmango\tpear\tapple\tmango\tpear\tapple\tmango\tpear\tapple\tmango\tpear\tapple\tmango\tpear\tapple\tmango\tpear\tapple\tmango\tpear\tapple\tmango\tpear\tapple\tmango\tpear\tapple\tmango\tpear\tapple\tmango\tpear\tapple\tmango\tpear\tapple\tmango\tpear\tapple\tmango\tpear\tapple\tmango\tpear\tapple\tmango\tpear\tapple\tmango\tpear\tapple\tmango\tpear\tapple\tmango\tpear\tapple\tmango\tpear\tapple\tmango\tpear\tapple\tmango\tpear\tapple\tmango\tpear\tapple\tmango\tpear\tapple\tmango\tpear\tapple\tmango\tpear\tapple\tmango\tpear\tapple\tmango\tpear\tapple\tmango\tpear\tapple\tmango\tpear\tapple\tmango\tpear\tapple\tmango\tpear\tapple\tmango\tpear\tapple\tmango\tpear\tapple\tmango\tpear\tapple\tmango\tpear\tapple\tmango\tpear\tapple\tmango\tpear\tapple\tmango\tpear\tapple\tmango\tpear\tapple\tmango\tpear\tapple\tmango\tpear\tapple\tmango\tpear\tapple\tmango\tpear\tapple\tmango\tpear\tapple\tmango\tpear\tapple\tmango\tpear\tapple\tmango\tpear\tapple\tmango\tpear\tapple\tmango\tpear\tapple\tmango\tpear\tapple\tmango\tpear\tapple\tmango\tpear\tapple\tmango\tpear\tapple\tmango\tpear\tapple\tmango\tpear\tapple\tmango\tpear\tapple\tmango\tpear\tapple\tmango\tpear\tapple\tmango\tpear\tapple\tmango\tpear\tapple\tmango\tpear\tapple\tmango\tpear\tapple\tmango\tpear\tapple\tmango\tpear\tapple\tmango\tpear\tapple\tmango\tpear\tapple\tmango\tpear\tapple\tmango\tpear\tapple\tmango\tpear\tapple\tmango\tpear\tapple\tmango\tpear\tapple\tmango\tpear\tapple\tmango\tpear\tapple\tmango\tpear\tapple\tmango\tpear\tapple\tmango\tpear\tapple\tmango\tpear\tapple\tmango\tpear\tapple\tmango\tpear\tapple\tmango\tpear\tapple\tmango\tpear\tapple\tmango\tpear\tapple\tmango\tpear\tapple\tmango\tpear\tapple\tmango\tpear\tapple\tmango\tpear\tapple\tmango\tpear\tapple\tmango\tpear\tapple\tmango\tpear\tapple\tmango\tpear\tapple\tmango\tpear\tapple\tmango\tpear\tapple\tmango\tpear\tapple\tmango\tpear\tapple\tmango\tpear\tapple\tmango\tpear\tapple\tmango\tpear\tapple\tmango\tpear\tapple\tmango\tpear\tapple\tmango\tpear\tapple\tmango\tpear\tapple\tmango\tpear\tapple\tmango\tpear\tapple\t"
     ]
    },
    {
     "name": "stdout",
     "output_type": "stream",
     "text": [
      "mango\tpear\tapple\tmango\tpear\tapple\tmango\tpear\tapple\tmango\tpear\tapple\tmango\tpear\tapple\tmango\tpear\tapple\tmango\tpear\tapple\tmango\tpear\tapple\tmango\tpear\tapple\tmango\tpear\tapple\tmango\tpear\tapple\tmango\tpear\tapple\tmango\tpear\tapple\tmango\tpear\tapple\tmango\tpear\tapple\tmango\tpear\tapple\tmango\tpear\tapple\tmango\tpear\tapple\tmango\tpear\tapple\tmango\tpear\tapple\tmango\tpear\tapple\tmango\tpear\tapple\tmango\tpear\tapple\tmango\tpear\tapple\tmango\tpear\tapple\tmango\tpear\tapple\tmango\tpear\tapple\tmango\tpear\tapple\tmango\tpear\tapple\tmango\tpear\tapple\tmango\tpear\tapple\tmango\tpear\tapple\tmango\tpear\tapple\tmango\tpear\tapple\tmango\tpear\tapple\tmango\tpear\tapple\tmango\tpear\tapple\tmango\tpear\tapple\tmango\tpear\tapple\tmango\tpear\tapple\tmango\tpear\tapple\tmango\tpear\tapple\tmango\tpear\tapple\tmango\tpear\tapple\tmango\tpear\tapple\tmango\tpear\tapple\tmango\tpear\tapple\tmango\tpear\tapple\tmango\tpear\tapple\tmango\tpear\tapple\tmango\tpear\tapple\tmango\tpear\tapple\tmango\tpear\tapple\tmango\tpear\tapple\tmango\tpear\tapple\tmango\tpear\tapple\tmango\tpear\tapple\tmango\tpear\tapple\tmango\tpear\tapple\tmango\tpear\tapple\tmango\tpear\tapple\tmango\tpear\tapple\tmango\tpear\tapple\tmango\tpear\tapple\tmango\tpear\tapple\tmango\tpear\tapple\tmango\tpear\tapple\tmango\tpear\tapple\tmango\tpear\tapple\tmango\tpear\tapple\tmango\tpear\tapple\tmango\tpear\tapple\tmango\tpear\tapple\tmango\tpear\tapple\tmango\tpear\tapple\tmango\tpear\tapple\tmango\tpear\tapple\tmango\tpear\tapple\tmango\tpear\tapple\tmango\tpear\tapple\tmango\tpear\tapple\tmango\tpear\tapple\tmango\tpear\tapple\tmango\tpear\tapple\tmango\tpear\tapple\tmango\tpear\tapple\tmango\tpear\tapple\tmango\tpear\tapple\tmango\tpear\tapple\tmango\tpear\tapple\tmango\tpear\tapple\tmango\tpear\tapple\tmango\tpear\tapple\tmango\tpear\tapple\tmango\tpear\tapple\tmango\tpear\tapple\tmango\tpear\tapple\tmango\tpear\tapple\tmango\tpear\tapple\tmango\tpear\tapple\tmango\tpear\tapple\tmango\tpear\tapple\tmango\tpear\tapple\tmango\tpear\tapple\tmango\tpear\tapple\tmango\tpear\tapple\tmango\tpear\tapple\tmango\tpear\tapple\tmango\tpear\tapple\tmango\tpear\tapple\tmango\tpear\tapple\tmango\tpear\tapple\tmango\tpear\tapple\tmango\tpear\tapple\tmango\tpear\tapple\tmango\tpear\tapple\tmango\tpear\tapple\tmango\tpear\tapple\tmango\tpear\tapple\tmango\tpear\tapple\tmango\tpear\tapple\tmango\tpear\tapple\tmango\tpear\tapple\tmango\tpear\tapple\tmango\tpear\tapple\tmango\tpear\tapple\tmango\tpear\tapple\tmango\tpear\tapple\tmango\tpear\tapple\tmango\tpear\tapple\tmango\tpear\tapple\tmango\tpear\tapple\tmango\tpear\tapple\tmango\tpear\tapple\tmango\tpear\tapple\tmango\tpear\tapple\tmango\tpear\tapple\tmango\tpear\tapple\tmango\tpear\tapple\tmango\tpear\tapple\tmango\tpear\tapple\tmango\tpear\tapple\tmango\tpear\tapple\tmango\tpear\tapple\tmango\tpear\tapple\tmango\tpear\tapple\tmango\tpear\tapple\tmango\tpear\tapple\tmango\tpear\tapple\tmango\tpear\tapple\tmango\tpear\tapple\tmango\tpear\tapple\tmango\tpear\tapple\tmango\tpear\tapple\tmango\tpear\tapple\tmango\tpear\tapple\tmango\tpear\tapple\tmango\tpear\tapple\tmango\tpear\tapple\tmango\tpear\tapple\tmango\tpear\tapple\tmango\tpear\tapple\tmango\tpear\tapple\tmango\tpear\tapple\tmango\tpear\tapple\tmango\tpear\tapple\tmango\tpear\tapple\tmango\tpear\tapple\tmango\tpear\tapple\tmango\tpear\tapple\tmango\tpear\tapple\tmango\tpear\tapple\tmango\tpear\tapple\tmango\tpear\tapple\tmango\tpear\tapple\tmango\tpear\tapple\tmango\tpear\tapple\tmango\tpear\tapple\tmango\tpear\tapple\tmango\tpear\tapple\tmango\tpear\tapple\tmango\tpear\tapple\tmango\tpear\tapple\tmango\tpear\tapple\tmango\tpear\tapple\tmango\tpear\tapple\tmango\tpear\tapple\tmango\tpear\tapple\tmango\tpear\tapple\tmango\tpear\tapple\tmango\tpear\tapple\tmango\tpear\tapple\tmango\tpear\tapple\tmango\tpear\tapple\tmango\tpear\tapple\tmango\tpear\tapple\tmango\tpear\tapple\tmango\tpear\tapple\tmango\tpear\tapple\tmango\tpear\tapple\tmango\tpear\tapple\tmango\tpear\tapple\tmango\tpear\tapple\tmango\tpear\tapple\tmango\tpear\tapple\tmango\tpear\tapple\tmango\tpear\tapple\tmango\tpear\tapple\tmango\tpear\tapple\tmango\tpear\tapple\tmango\tpear\tapple\tmango\tpear\tapple\tmango\tpear\tapple\tmango\tpear\tapple\tmango\tpear\tapple\tmango\tpear\tapple\tmango\tpear\tapple\tmango\tpear\tapple\tmango\tpear\tapple\tmango\tpear\tapple\tmango\tpear\tapple\tmango\tpear\tapple\tmango\tpear\tapple\tmango\tpear\tapple\tmango\tpear\tapple\tmango\tpear\tapple\tmango\tpear\tapple\tmango\tpear\tapple\tmango\tpear\tapple\tmango\tpear\tapple\tmango\tpear\tapple\tmango\tpear\tapple\tmango\tpear\tapple\tmango\tpear\tapple\tmango\tpear\tapple\tmango\tpear\tapple\tmango\tpear\tapple\tmango\tpear\tapple\tmango\tpear\tapple\tmango\tpear\tapple\tmango\tpear\tapple\tmango\tpear\tapple\tmango\tpear\tapple\tmango\tpear\tapple\tmango\tpear\tapple\tmango\tpear\tapple\tmango\tpear\tapple\tmango\tpear\tapple\tmango\tpear\tapple\tmango\tpear\tapple\tmango\tpear\tapple\tmango\tpear\tapple\tmango\tpear\tapple\tmango\tpear\tapple\tmango\tpear\tapple\tmango\tpear\tapple\tmango\tpear\tapple\tmango\tpear\tapple\tmango\tpear\tapple\tmango\tpear\tapple\tmango\tpear\tapple\tmango\tpear\tapple\tmango\tpear\tapple\tmango\tpear\tapple\tmango\tpear\tapple\tmango\tpear\tapple\tmango\tpear\tapple\tmango\tpear\tapple\tmango\tpear\tapple\tmango\tpear\tapple\tmango\tpear\tapple\tmango\tpear\tapple\tmango\tpear\tapple\tmango\tpear\tapple\tmango\tpear\tapple\tmango\tpear\tapple\tmango\tpear\tapple\tmango\tpear\tapple\tmango\tpear\tapple\tmango\tpear\tapple\tmango\tpear\tapple\tmango\tpear\tapple\tmango\tpear\tapple\tmango\tpear\tapple\tmango\tpear\tapple\tmango\tpear\tapple\tmango\tpear\tapple\tmango\tpear\tapple\tmango\tpear\tapple\tmango\tpear\tapple\tmango\tpear\tapple\tmango\tpear\tapple\tmango\tpear\tapple\tmango\tpear\tapple\tmango\tpear\tapple\tmango\tpear\tapple\tmango\tpear\tapple\tmango\tpear\tapple\tmango\tpear\tapple\tmango\tpear\tapple\tmango\tpear\tapple\tmango\tpear\tapple\tmango\tpear\tapple\tmango\tpear\tapple\tmango\tpear\tapple\tmango\tpear\tapple\tmango\tpear\tapple\tmango\tpear\tapple\tmango\tpear\tapple\tmango\tpear\tapple\tmango\tpear\tapple\tmango\tpear\tapple\tmango\tpear\tapple\tmango\tpear\tapple\tmango\tpear\tapple\tmango\tpear\tapple\tmango\tpear\tapple\tmango\tpear\tapple\tmango\tpear\tapple\tmango\tpear\tapple\tmango\tpear\tapple\tmango\tpear\tapple\tmango\tpear\tapple\tmango\tpear\tapple\tmango\tpear\tapple\tmango\tpear\tapple\tmango\tpear\tapple\tmango\tpear\tapple\tmango\tpear\tapple\tmango\tpear\tapple\tmango\tpear\tapple\tmango\tpear\tapple\tmango\tpear\tapple\tmango\tpear\tapple\tmango\tpear\tapple\tmango\tpear\tapple\tmango\tpear\tapple\tmango\tpear\tapple\tmango\tpear\tapple\tmango\tpear\tapple\tmango\tpear\tapple\tmango\tpear\tapple\tmango\tpear\tapple\tmango\tpear\tapple\tmango\tpear\tapple\tmango\tpear\tapple\tmango\tpear\tapple\tmango\tpear\tapple\tmango\tpear\tapple\tmango\tpear\tapple\tmango\tpear\tapple\tmango\tpear\tapple\tmango\tpear\tapple\tmango\tpear\tapple\tmango\tpear\tapple\tmango\tpear\tapple\tmango\tpear\tapple\tmango\tpear\tapple\tmango\tpear\tapple\tmango\tpear\tapple\tmango\tpear\tapple\tmango\tpear\tapple\tmango\tpear\tapple\tmango\tpear\tapple\tmango\tpear\tapple\tmango\tpear\tapple\tmango\tpear\tapple\tmango\tpear\tapple\tmango\tpear\tapple\tmango\tpear\tapple\tmango\tpear\tapple\tmango\tpear\tapple\tmango\tpear\tapple\tmango\tpear\tapple\tmango\tpear\tapple\tmango\tpear\tapple\tmango\tpear\tapple\tmango\tpear\tapple\tmango\tpear\tapple\tmango\tpear\tapple\tmango\tpear\tapple\tmango\tpear\tapple\tmango\tpear\tapple\tmango\tpear\tapple\tmango\tpear\tapple\tmango\tpear\tapple\tmango\tpear\tapple\tmango\tpear\tapple\tmango\tpear\tapple\tmango\tpear\tapple\tmango\tpear\tapple\tmango\tpear\tapple\tmango\tpear\tapple\tmango\tpear\tapple\tmango\tpear\tapple\tmango\tpear\tapple\tmango\tpear\tapple\tmango\tpear\tapple\tmango\tpear\tapple\tmango\tpear\tapple\tmango\tpear\tapple\tmango\tpear\tapple\tmango\tpear\tapple\tmango\tpear\tapple\tmango\tpear\tapple\tmango\tpear\tapple\tmango\tpear\tapple\tmango\tpear\tapple\tmango\tpear\tapple\tmango\tpear\tapple\tmango\tpear\tapple\tmango\tpear\tapple\tmango\tpear\tapple\tmango\tpear\tapple\tmango\tpear\tapple\tmango\tpear\tapple\tmango\tpear\tapple\tmango\tpear\tapple\tmango\tpear\tapple\tmango\tpear\tapple\tmango\tpear\tapple\tmango\tpear\tapple\tmango\tpear\tapple\tmango\tpear\tapple\tmango\tpear\tapple\tmango\tpear\tapple\tmango\tpear\tapple\tmango\tpear\tapple\tmango\tpear\tapple\tmango\tpear\tapple\tmango\tpear\tapple\tmango\tpear\tapple\tmango\tpear\tapple\tmango\tpear\tapple\tmango\tpear\tapple\tmango\tpear\tapple\tmango\tpear\tapple\tmango\tpear\tapple\tmango\tpear\tapple\tmango\tpear\tapple\tmango\tpear\tapple\tmango\tpear\tapple\tmango\tpear\tapple\tmango\tpear\tapple\tmango\tpear\tapple\tmango\tpear\tapple\tmango\tpear\tapple\tmango\tpear\tapple\tmango\tpear\tapple\tmango\tpear\tapple\tmango\tpear\tapple\tmango\tpear\tapple\tmango\tpear\tapple\tmango\tpear\tapple\tmango\tpear\tapple\tmango\tpear\tapple\tmango\tpear\tapple\tmango\tpear\tapple\tmango\tpear\tapple\tmango\tpear\tapple\tmango\tpear\tapple\tmango\tpear\tapple\tmango\tpear\tapple\tmango\tpear\tapple\tmango\tpear\tapple\tmango\tpear\tapple\tmango\tpear\tapple\tmango\tpear\tapple\tmango\tpear\tapple\tmango\tpear\tapple\tmango\tpear\tapple\tmango\tpear\tapple\tmango\tpear\tapple\tmango\tpear\tapple\tmango\tpear\tapple\tmango\tpear\tapple\tmango\tpear\tapple\tmango\tpear\tapple\tmango\tpear\tapple\tmango\tpear\tapple\tmango\tpear\tapple\tmango\tpear\tapple\tmango\tpear\tapple\tmango\tpear\tapple\tmango\tpear\tapple\tmango\tpear\tapple\tmango\tpear\tapple\tmango\tpear\tapple\tmango\tpear\tapple\tmango\tpear\tapple\tmango\tpear\tapple\tmango\tpear\tapple\tmango\tpear\tapple\tmango\tpear\tapple\tmango\tpear\tapple\tmango\tpear\tapple\tmango\tpear\tapple\tmango\tpear\tapple\tmango\tpear\tapple\tmango\tpear"
     ]
    },
    {
     "name": "stdout",
     "output_type": "stream",
     "text": [
      "\tapple\tmango\tpear\tapple\tmango\tpear\tapple\tmango\tpear\tapple\tmango\tpear\tapple\tmango\tpear\tapple\tmango\tpear\tapple\tmango\tpear\tapple\tmango\tpear\tapple\tmango\tpear\tapple\tmango\tpear\tapple\tmango\tpear\tapple\tmango\tpear\tapple\tmango\tpear\tapple\tmango\tpear\tapple\tmango\tpear\tapple\tmango\tpear\tapple\tmango\tpear\tapple\tmango\tpear\tapple\tmango\tpear\tapple\tmango\tpear\tapple\tmango\tpear\tapple\tmango\tpear\tapple\tmango\tpear\tapple\tmango\tpear\tapple\tmango\tpear\tapple\tmango\tpear\tapple\tmango\tpear\tapple\tmango\tpear\tapple\tmango\tpear\tapple\tmango\tpear\tapple\tmango\tpear\tapple\tmango\tpear\tapple\tmango\tpear\tapple\tmango\tpear\tapple\tmango\tpear\tapple\tmango\tpear\tapple\tmango\tpear\tapple\tmango\tpear\tapple\tmango\tpear\tapple\tmango\tpear\tapple\tmango\tpear\tapple\tmango\tpear\tapple\tmango\tpear\tapple\tmango\tpear\tapple\tmango\tpear\tapple\tmango\tpear\tapple\tmango\tpear\tapple\tmango\tpear\tapple\tmango\tpear\tapple\tmango\tpear\tapple\tmango\tpear\tapple\tmango\tpear\tapple\tmango\tpear\tapple\tmango\tpear\tapple\tmango\tpear\tapple\tmango\tpear\tapple\tmango\tpear\tapple\tmango\tpear\tapple\tmango\tpear\tapple\tmango\tpear\tapple\tmango\tpear\tapple\tmango\tpear\tapple\tmango\tpear\tapple\tmango\tpear\tapple\tmango\tpear\tapple\tmango\tpear\tapple\tmango\tpear\tapple\tmango\tpear\tapple\tmango\tpear\tapple\tmango\tpear\tapple\tmango\tpear\tapple\tmango\tpear\tapple\tmango\tpear\tapple\tmango\tpear\tapple\tmango\tpear\tapple\tmango\tpear\tapple\tmango\tpear\tapple\tmango\tpear\tapple\tmango\tpear\tapple\tmango\tpear\tapple\tmango\tpear\tapple\tmango\tpear\tapple\tmango\tpear\tapple\tmango\tpear\tapple\tmango\tpear\tapple\tmango\tpear\tapple\tmango\tpear\tapple\tmango\tpear\tapple\tmango\tpear\tapple\tmango\tpear\tapple\tmango\tpear\tapple\tmango\tpear\tapple\tmango\tpear\tapple\tmango\tpear\tapple\tmango\tpear\tapple\tmango\tpear\tapple\tmango\tpear\tapple\tmango\tpear\tapple\tmango\tpear\tapple\tmango\tpear\tapple\tmango\tpear\tapple\tmango\tpear\tapple\tmango\tpear\tapple\tmango\tpear\tapple\tmango\tpear\tapple\tmango\tpear\tapple\tmango\tpear\tapple\tmango\tpear\tapple\tmango\tpear\tapple\tmango\tpear\tapple\tmango\tpear\tapple\tmango\tpear\tapple\tmango\tpear\tapple\tmango\tpear\tapple\tmango\tpear\tapple\tmango\tpear\tapple\tmango\tpear\tapple\tmango\tpear\tapple\tmango\tpear\tapple\tmango\tpear\tapple\tmango\tpear\tapple\tmango\tpear\tapple\tmango\tpear\tapple\tmango\tpear\tapple\tmango\tpear\tapple\tmango\tpear\tapple\tmango\tpear\tapple\tmango\tpear\tapple\tmango\tpear\tapple\tmango\tpear\tapple\tmango\tpear\tapple\tmango\tpear\tapple\tmango\tpear\tapple\tmango\tpear\tapple\tmango\tpear\tapple\tmango\tpear\tapple\tmango\tpear\tapple\tmango\tpear\tapple\tmango\tpear\tapple\tmango\tpear\tapple\tmango\tpear\tapple\tmango\tpear\tapple\tmango\tpear\tapple\tmango\tpear\tapple\tmango\tpear\tapple\tmango\tpear\tapple\tmango\tpear\tapple\tmango\tpear\tapple\tmango\tpear\tapple\tmango\tpear\tapple\tmango\tpear\tapple\tmango\tpear\tapple\tmango\tpear\tapple\tmango\tpear\tapple\tmango\tpear\tapple\tmango\tpear\tapple\tmango\tpear\tapple\tmango\tpear\tapple\tmango\tpear\tapple\tmango\tpear\tapple\tmango\tpear\tapple\tmango\tpear\tapple\tmango\tpear\tapple\tmango\tpear\tapple\tmango\tpear\tapple\tmango\tpear\tapple\tmango\tpear\tapple\tmango\tpear\tapple\tmango\tpear\tapple\tmango\tpear\tapple\tmango\tpear\tapple\tmango\tpear\tapple\tmango\tpear\tapple\tmango\tpear\tapple\tmango\tpear\tapple\tmango\tpear\tapple\tmango\tpear\tapple\tmango\tpear\tapple\tmango\tpear\tapple\tmango\tpear\tapple\tmango\tpear\tapple\tmango\tpear\tapple\tmango\tpear\tapple\tmango\tpear\tapple\tmango\tpear\tapple\tmango\tpear\tapple\tmango\tpear\tapple\tmango\tpear\tapple\tmango\tpear\tapple\tmango\tpear\tapple\tmango\tpear\tapple\tmango\tpear\tapple\tmango\tpear\tapple\tmango\tpear\tapple\tmango\tpear\tapple\tmango\tpear\tapple\tmango\tpear\tapple\tmango\tpear\tapple\tmango\tpear\tapple\tmango\tpear\tapple\tmango\tpear\tapple\tmango\tpear\tapple\tmango\tpear\tapple\tmango\tpear\tapple\tmango\tpear\tapple\tmango\tpear\tapple\tmango\tpear\tapple\tmango\tpear\tapple\tmango\tpear\tapple\tmango\tpear\tapple\tmango\tpear\tapple\tmango\tpear\tapple\tmango\tpear\tapple\tmango\tpear\tapple\tmango\tpear\tapple\tmango\tpear\tapple\tmango\tpear\tapple\tmango\tpear\tapple\tmango\tpear\tapple\tmango\tpear\tapple\tmango\tpear\tapple\tmango\tpear\tapple\tmango\tpear\tapple\tmango\tpear\tapple\tmango\tpear\tapple\tmango\tpear\tapple\tmango\tpear\tapple\tmango\tpear\tapple\tmango\tpear\tapple\tmango\tpear\tapple\tmango\tpear\tapple\tmango\tpear\tapple\tmango\tpear\tapple\tmango\tpear\tapple\tmango\tpear\tapple\tmango\tpear\tapple\tmango\tpear\tapple\tmango\tpear\tapple\tmango\tpear\tapple\tmango\tpear\tapple\tmango\tpear\tapple\tmango\tpear\tapple\tmango\tpear\tapple\tmango\tpear\tapple\tmango\tpear\tapple\tmango\tpear\tapple\tmango\tpear\tapple\tmango\tpear\tapple\tmango\tpear\tapple\tmango\tpear\tapple\tmango\tpear\tapple\tmango\tpear\tapple\tmango\tpear\tapple\tmango\tpear\tapple\tmango\tpear\tapple\tmango\tpear\tapple\tmango\tpear\tapple\tmango\tpear\tapple\tmango\tpear\tapple\tmango\tpear\tapple\tmango\tpear\tapple\tmango\tpear\tapple\tmango\tpear\tapple\tmango\tpear\tapple\tmango\tpear\tapple\tmango\tpear\tapple\tmango\tpear\tapple\tmango\tpear\tapple\tmango\tpear\tapple\tmango\tpear\tapple\tmango\tpear\tapple\tmango\tpear\tapple\tmango\tpear\tapple\tmango\tpear\tapple\tmango\tpear\tapple\tmango\tpear\tapple\tmango\tpear\tapple\tmango\tpear\tapple\tmango\tpear\tapple\tmango\tpear\tapple\tmango\tpear\tapple\tmango\tpear\tapple\tmango\tpear\tapple\tmango\tpear\tapple\tmango\tpear\tapple\tmango\tpear\tapple\tmango\tpear\tapple\tmango\tpear\tapple\tmango\tpear\tapple\tmango\tpear\tapple\tmango\tpear\tapple\tmango\tpear\tapple\tmango\tpear\tapple\tmango\tpear\tapple\tmango\tpear\tapple\tmango\tpear\tapple\tmango\tpear\tapple\tmango\tpear\tapple\tmango\tpear\tapple\tmango\tpear\tapple\tmango\tpear\tapple\tmango\tpear\tapple\tmango\tpear\tapple\tmango\tpear\tapple\tmango\tpear\tapple\tmango\tpear\tapple\tmango\tpear\tapple\tmango\tpear\tapple\tmango\tpear\tapple\tmango\tpear\tapple\tmango\tpear\tapple\tmango\tpear\tapple\tmango\tpear\tapple\tmango\tpear\tapple\tmango\tpear\tapple\tmango\tpear\tapple\tmango\tpear\tapple\tmango\tpear\tapple\tmango\tpear\tapple\tmango\tpear\tapple\tmango\tpear\tapple\tmango\tpear\tapple\tmango\tpear\tapple\tmango\tpear\tapple\tmango\tpear\tapple\tmango\tpear\tapple\tmango\tpear\tapple\tmango\tpear\tapple\tmango\tpear\tapple\tmango\tpear\tapple\tmango\tpear\tapple\tmango\tpear\tapple\tmango\tpear\tapple\tmango\tpear\tapple\tmango\tpear\tapple\tmango\tpear\tapple\tmango\tpear\tapple\tmango\tpear\tapple\tmango\tpear\tapple\tmango\tpear\tapple\tmango\tpear\tapple\tmango\tpear\tapple\tmango\tpear\tapple\tmango\tpear\tapple\tmango\tpear\tapple\tmango\tpear\tapple\tmango\tpear\tapple\tmango\tpear\tapple\tmango\tpear\tapple\tmango\tpear\tapple\tmango\tpear\tapple\tmango\tpear\tapple\tmango\tpear\tapple\tmango\tpear\tapple\tmango\tpear\tapple\tmango\tpear\tapple\tmango\tpear\tapple\tmango\tpear\tapple\tmango\tpear\tapple\tmango\tpear\tapple\tmango\tpear\tapple\tmango\tpear\tapple\tmango\tpear\tapple\tmango\tpear\tapple\tmango\tpear\tapple\tmango\tpear\tapple\tmango\tpear\tapple\tmango\tpear\tapple\tmango\tpear\tapple\tmango\tpear\tapple\tmango\tpear\tapple\tmango\tpear\tapple\tmango\tpear\tapple\tmango\tpear\tapple\tmango\tpear\tapple\tmango\tpear\tapple\tmango\tpear\tapple\tmango\tpear\tapple\tmango\tpear\tapple\tmango\tpear\tapple\tmango\tpear\tapple\tmango\tpear\tapple\tmango\tpear\tapple\tmango\tpear\tapple\tmango\tpear\tapple\tmango\tpear\tapple\tmango\tpear\tapple\tmango\tpear\tapple\tmango\tpear\tapple\tmango\tpear\tapple\tmango\tpear\tapple\tmango\tpear\tapple\tmango\tpear\tapple\tmango\tpear\tapple\tmango\tpear\tapple\tmango\tpear\tapple\tmango\tpear\tapple\tmango\tpear\tapple\tmango\tpear\tapple\tmango\tpear\tapple\tmango\tpear\tapple\tmango\tpear\tapple\tmango\tpear\tapple\tmango\tpear\tapple\tmango\tpear\tapple\tmango\tpear\tapple\tmango\tpear\tapple\tmango\tpear\tapple\tmango\tpear\tapple\tmango\tpear\tapple\tmango\tpear\tapple\tmango\tpear\tapple\tmango\tpear\tapple\tmango\tpear\tapple\tmango\tpear\tapple\tmango\tpear\tapple\tmango\tpear\tapple\tmango\tpear\tapple\tmango\tpear\tapple\tmango\tpear\tapple\tmango\tpear\tapple\tmango\tpear\tapple\tmango\tpear\tapple\tmango\tpear\tapple\tmango\tpear\tapple\tmango\tpear\tapple\tmango\tpear\tapple\tmango\tpear\tapple\tmango\tpear\tapple\tmango\tpear\tapple\tmango\tpear\tapple\tmango\tpear\tapple\tmango\tpear\tapple\tmango\tpear\tapple\tmango\tpear\tapple\tmango\tpear\tapple\tmango\tpear\tapple\tmango\tpear\tapple\tmango\tpear\tapple\tmango\tpear\tapple\tmango\tpear\tapple\tmango\tpear\tapple\tmango\tpear\tapple\tmango\tpear\tapple\tmango\tpear\tapple\tmango\tpear\tapple\tmango\tpear\tapple\tmango\tpear\tapple\tmango\tpear\tapple\tmango\tpear\tapple\tmango\tpear\tapple\tmango\tpear\tapple\tmango\tpear\tapple\tmango\tpear\tapple\tmango\tpear\tapple\tmango\tpear\tapple\tmango\tpear\tapple\tmango\tpear\tapple\tmango\tpear\tapple\tmango\tpear\tapple\tmango\tpear\tapple\tmango\tpear\tapple\tmango\tpear\tapple\tmango\tpear\tapple\tmango\tpear\tapple\tmango\tpear\tapple\tmango\tpear\tapple\tmango\tpear\tapple\tmango\tpear\tapple\tmango\tpear\tapple\tmango\tpear\tapple\tmango\tpear\tapple\tmango\tpear\tapple\tmango\tpear\tapple\tmango\tpear\tapple\tmango\tpear\tapple\tmango\tpear\tapple\tmango\tpear\tapple\tmango\tpear\tapple\tmango\tpear\tapple\tmango\tpear\tapple\tmango\tpear\tapple\tmango\tpear\tapple\tmango\tpear\tapple\tmango\tpear\tapple\tmango\tpear\tapple\tmango\tpear\tapple\tmango\tpear\tapple\tmango\tpear\tapple\tmango\tpear\tapple\tmango\tpear\tapple\tmango\tpear\tapple\tmango\tpear\tapple\tmango\tpear\tapple\tmango\tpear\tapple\tmango\tpear\tapple\tmango\tpear\tapple\tmango\tpear\tapple\tmango\tpear\tapple\t"
     ]
    },
    {
     "name": "stdout",
     "output_type": "stream",
     "text": [
      "mango\tpear\tapple\tmango\tpear\tapple\tmango\tpear\tapple\tmango\tpear\tapple\tmango\tpear\tapple\tmango\tpear\tapple\tmango\tpear\tapple\tmango\tpear\tapple\tmango\tpear\tapple\tmango\tpear\tapple\tmango\tpear\tapple\tmango\tpear\tapple\tmango\tpear\tapple\tmango\tpear\tapple\tmango\tpear\tapple\tmango\tpear\tapple\tmango\tpear\tapple\tmango\tpear\tapple\tmango\tpear\tapple\tmango\tpear\tapple\tmango\tpear\tapple\tmango\tpear\tapple\tmango\tpear\tapple\tmango\tpear\tapple\tmango\tpear\tapple\tmango\tpear\tapple\tmango\tpear\tapple\tmango\tpear\tapple\tmango\tpear\tapple\tmango\tpear\tapple\tmango\tpear\tapple\tmango\tpear\tapple\tmango\tpear\tapple\tmango\tpear\tapple\tmango\tpear\tapple\tmango\tpear\tapple\tmango\tpear\tapple\tmango\tpear\tapple\tmango\tpear\tapple\tmango\tpear\tapple\tmango\tpear\tapple\tmango\tpear\tapple\tmango\tpear\tapple\tmango\tpear\tapple\tmango\tpear\tapple\tmango\tpear\tapple\tmango\tpear\tapple\tmango\tpear\tapple\tmango\tpear\tapple\tmango\tpear\tapple\tmango\tpear\tapple\tmango\tpear\tapple\tmango\tpear\tapple\tmango\tpear\tapple\tmango\tpear\tapple\tmango\tpear\tapple\tmango\tpear\tapple\tmango\tpear\tapple\tmango\tpear\tapple\tmango\tpear\tapple\tmango\tpear\tapple\tmango\tpear\tapple\tmango\tpear\tapple\tmango\tpear\tapple\tmango\tpear\tapple\tmango\tpear\tapple\tmango\tpear\tapple\tmango\tpear\tapple\tmango\tpear\tapple\tmango\tpear\tapple\tmango\tpear\tapple\tmango\tpear\tapple\tmango\tpear\tapple\tmango\tpear\tapple\tmango\tpear\tapple\tmango\tpear\tapple\tmango\tpear\tapple\tmango\tpear\tapple\tmango\tpear\tapple\tmango\tpear\tapple\tmango\tpear\tapple\tmango\tpear\tapple\tmango\tpear\tapple\tmango\tpear\tapple\tmango\tpear\tapple\tmango\tpear\tapple\tmango\tpear\tapple\tmango\tpear\tapple\tmango\tpear\tapple\tmango\tpear\tapple\tmango\tpear\tapple\tmango\tpear\tapple\tmango\tpear\tapple\tmango\tpear\tapple\tmango\tpear\tapple\tmango\tpear\tapple\tmango\tpear\tapple\tmango\tpear\tapple\tmango\tpear\tapple\tmango\tpear\tapple\tmango\tpear\tapple\tmango\tpear\tapple\tmango\tpear\tapple\tmango\tpear\tapple\tmango\tpear\tapple\tmango\tpear\tapple\tmango\tpear\tapple\tmango\tpear\tapple\tmango\tpear\tapple\tmango\tpear\tapple\tmango\tpear\tapple\tmango\tpear\tapple\tmango\tpear\tapple\tmango\tpear\tapple\tmango\tpear\tapple\tmango\tpear\tapple\tmango\tpear\tapple\tmango\tpear\tapple\tmango\tpear\tapple\tmango\tpear\tapple\tmango\tpear\tapple\tmango\tpear\tapple\tmango\tpear\tapple\tmango\tpear\tapple\tmango\tpear\tapple\tmango\tpear\tapple\tmango\tpear\tapple\tmango\tpear\tapple\tmango\tpear\tapple\tmango\tpear\tapple\tmango\tpear\tapple\tmango\tpear\tapple\tmango\tpear\tapple\tmango\tpear\tapple\tmango\tpear\tapple\tmango\tpear\tapple\tmango\tpear\tapple\tmango\tpear\tapple\tmango\tpear\tapple\tmango\tpear\tapple\tmango\tpear\tapple\tmango\tpear\tapple\tmango\tpear\tapple\tmango\tpear\tapple\tmango\tpear\tapple\tmango\tpear\tapple\tmango\tpear\tapple\tmango\tpear\tapple\tmango\tpear\tapple\tmango\tpear\tapple\tmango\tpear\tapple\tmango\tpear\tapple\tmango\tpear\tapple\tmango\tpear\tapple\tmango\tpear\tapple\tmango\tpear\tapple\tmango\tpear\tapple\tmango\tpear\tapple\tmango\tpear\tapple\tmango\tpear\tapple\tmango\tpear\tapple\tmango\tpear\tapple\tmango\tpear\tapple\tmango\tpear\tapple\tmango\tpear\tapple\tmango\tpear\tapple\tmango\tpear\tapple\tmango\tpear\tapple\tmango\tpear\tapple\tmango\tpear\tapple\tmango\tpear\tapple\tmango\tpear\tapple\tmango\tpear\tapple\tmango\tpear\tapple\tmango\tpear\tapple\tmango\tpear\tapple\tmango\tpear\tapple\tmango\tpear\tapple\tmango\tpear\tapple\tmango\tpear\tapple\tmango\tpear\tapple\tmango\tpear\tapple\tmango\tpear\tapple\tmango\tpear\tapple\tmango\tpear\tapple\tmango\tpear\tapple\tmango\tpear\tapple\tmango\tpear\tapple\tmango\tpear\tapple\tmango\tpear\tapple\tmango\tpear\tapple\tmango\tpear\tapple\tmango\tpear\tapple\tmango\tpear\tapple\tmango\tpear\tapple\tmango\tpear\tapple\tmango\tpear\tapple\tmango\tpear\tapple\tmango\tpear\tapple\tmango\tpear\tapple\tmango\tpear\tapple\tmango\tpear\tapple\tmango\tpear\tapple\tmango\tpear\tapple\tmango\tpear\tapple\tmango\tpear\tapple\tmango\tpear\tapple\tmango\tpear\tapple\tmango\tpear\tapple\tmango\tpear\tapple\tmango\tpear\tapple\tmango\tpear\tapple\tmango\tpear\tapple\tmango\tpear\tapple\tmango\tpear\tapple\tmango\tpear\tapple\tmango\tpear\tapple\tmango\tpear\tapple\tmango\tpear\tapple\tmango\tpear\tapple\tmango\tpear\tapple\tmango\tpear\tapple\tmango\tpear\tapple\tmango\tpear\tapple\tmango\tpear\tapple\tmango\tpear\tapple\tmango\tpear\tapple\tmango\tpear\tapple\tmango\tpear\tapple\tmango\tpear\tapple\tmango\tpear\tapple\tmango\tpear\tapple\tmango\tpear\tapple\tmango\tpear\tapple\tmango\tpear\tapple\tmango\tpear\tapple\tmango\tpear\tapple\tmango\tpear\tapple\tmango\tpear\tapple\tmango\tpear\tapple\tmango\tpear\tapple\tmango\tpear\tapple\tmango\tpear\tapple\tmango\tpear\tapple\tmango\tpear\tapple\tmango\tpear\tapple\tmango\tpear\tapple\tmango\tpear\tapple\tmango\tpear\tapple\tmango\tpear\tapple\tmango\tpear\tapple\tmango\tpear\tapple\tmango\tpear\tapple\tmango\tpear\tapple\tmango\tpear\tapple\tmango\tpear\tapple\tmango\tpear\tapple\tmango\tpear\tapple\tmango\tpear\tapple\tmango\tpear\tapple\tmango\tpear\tapple\tmango\tpear\tapple\tmango\tpear\tapple\tmango\tpear\tapple\tmango\tpear\tapple\tmango\tpear\tapple\tmango\tpear\tapple\tmango\tpear\tapple\tmango\tpear\tapple\tmango\tpear\tapple\tmango\tpear\tapple\tmango\tpear\tapple\tmango\tpear\tapple\tmango\tpear\tapple\tmango\tpear\tapple\tmango\tpear\tapple\tmango\tpear\tapple\tmango\tpear\tapple\tmango\tpear\tapple\tmango\tpear\tapple\tmango\tpear\tapple\tmango\tpear\tapple\tmango\tpear\tapple\tmango\tpear\tapple\tmango\tpear\tapple\tmango\tpear\tapple\tmango\tpear\tapple\tmango\tpear\tapple\tmango\tpear\tapple\tmango\tpear\tapple\tmango\tpear\tapple\tmango\tpear\tapple\tmango\tpear\tapple\tmango\tpear\tapple\tmango\tpear\tapple\tmango\tpear\tapple\tmango\tpear\tapple\tmango\tpear\tapple\tmango\tpear\tapple\tmango\tpear\tapple\tmango\tpear\tapple\tmango\tpear\tapple\tmango\tpear\tapple\tmango\tpear\tapple\tmango\tpear\tapple\tmango\tpear\tapple\tmango\tpear\tapple\tmango\tpear\tapple\tmango\tpear\tapple\tmango\tpear\tapple\tmango\tpear\tapple\tmango\tpear\tapple\tmango\tpear\tapple\tmango\tpear\tapple\tmango\tpear\tapple\tmango\tpear\tapple\tmango\tpear\tapple\tmango\tpear\tapple\tmango\tpear\tapple\tmango\tpear\tapple\tmango\tpear\tapple\tmango\tpear\tapple\tmango\tpear\tapple\tmango\tpear\tapple\tmango\tpear\tapple\tmango\tpear\tapple\tmango\tpear\tapple\tmango\tpear\tapple\tmango\tpear\tapple\tmango\tpear\tapple\tmango\tpear\tapple\tmango\tpear\tapple\tmango\tpear\tapple\tmango\tpear\tapple\tmango\tpear\tapple\tmango\tpear\tapple\tmango\tpear\tapple\tmango\tpear\tapple\tmango\tpear\tapple\tmango\tpear\tapple\tmango\tpear\tapple\tmango\tpear\tapple\tmango\tpear\tapple\tmango\tpear\tapple\tmango\tpear\tapple\tmango\tpear\tapple\tmango\tpear\tapple\tmango\tpear\tapple\tmango\tpear\tapple\tmango\tpear\tapple\tmango\tpear\tapple\tmango\tpear\tapple\tmango\tpear\tapple\tmango\tpear\tapple\tmango\tpear\tapple\tmango\tpear\tapple\tmango\tpear\tapple\tmango\tpear\tapple\tmango\tpear\tapple\tmango\tpear\tapple\tmango\tpear\tapple\tmango\tpear\tapple\tmango\tpear\tapple\tmango\tpear\tapple\tmango\tpear\tapple\tmango\tpear\tapple\tmango\tpear\tapple\tmango\tpear\tapple\tmango\tpear\tapple\tmango\tpear\tapple\tmango\tpear\tapple\tmango\tpear\tapple\tmango\tpear\tapple\tmango\tpear\tapple\tmango\tpear\tapple\tmango\tpear\tapple\tmango\tpear\tapple\tmango\tpear\tapple\tmango\tpear\tapple\tmango\tpear\tapple\tmango\tpear\tapple\tmango\tpear\tapple\tmango\tpear\tapple\tmango\tpear\tapple\tmango\tpear\tapple\tmango\tpear\tapple\tmango\tpear\tapple\tmango\tpear\tapple\tmango\tpear\tapple\tmango\tpear\tapple\tmango\tpear\tapple\tmango\tpear\tapple\tmango\tpear\tapple\tmango\tpear\tapple\tmango\tpear\tapple\tmango\tpear\tapple\tmango\tpear\tapple\tmango\tpear\tapple\tmango\tpear\tapple\tmango\tpear\tapple\tmango\tpear\tapple\tmango\tpear\tapple\tmango\tpear\tapple\tmango\tpear\tapple\tmango\tpear\tapple\tmango\tpear\tapple\tmango\tpear\tapple\tmango\tpear\tapple\tmango\tpear\tapple\tmango\tpear\tapple\tmango\tpear\tapple\tmango\tpear\tapple\tmango\tpear\tapple\tmango\tpear\tapple\tmango\tpear\tapple\tmango\tpear\tapple\tmango\tpear\tapple\tmango\tpear\tapple\tmango\tpear\tapple\tmango\tpear\tapple\tmango\tpear\tapple\tmango\tpear\tapple\tmango\tpear\tapple\tmango\tpear\tapple\tmango\tpear\tapple\tmango\tpear\tapple\tmango\tpear\tapple\tmango\tpear\tapple\tmango\tpear\tapple\tmango\tpear\tapple\tmango\tpear\tapple\tmango\tpear\tapple\tmango\tpear\tapple\tmango\tpear\tapple\tmango\tpear\tapple\tmango\tpear\tapple\tmango\tpear\tapple\tmango\tpear\tapple\tmango\tpear\tapple\tmango\tpear\tapple\tmango\tpear\tapple\tmango\tpear\tapple\tmango\tpear\tapple\tmango\tpear\tapple\tmango\tpear\tapple\tmango\tpear\tapple\tmango\tpear\tapple\tmango\tpear\tapple\tmango\tpear\tapple\tmango\tpear\tapple\tmango\tpear\tapple\tmango\tpear\tapple\tmango\tpear\tapple\tmango\tpear\tapple\tmango\tpear\tapple\tmango\tpear\tapple\tmango\tpear\tapple\tmango\tpear\tapple\tmango\tpear\tapple\tmango\tpear\tapple\tmango\tpear\tapple\tmango\tpear\tapple\tmango\tpear\tapple\tmango\tpear\tapple\tmango\tpear\tapple\tmango\tpear\tapple\tmango\tpear\tapple\tmango\tpear\tapple\tmango\tpear\tapple\tmango\tpear\tapple\tmango\tpear\tapple\tmango\tpear\tapple\tmango\tpear\tapple\tmango\tpear\tapple\tmango\tpear\tapple\tmango\tpear\tapple\tmango\tpear\tapple\tmango\tpear\tapple\tmango\tpear\tapple\tmango\tpear\tapple\tmango\tpear\tapple\tmango\tpear\tapple\tmango\tpear\tapple\tmango\tpear\tapple\tmango\tpear\tapple\tmango\tpear\tapple\tmango\tpear\tapple\tmango\tpear\tapple\tmango\tpear\tapple\tmango\tpear\tapple\tmango\tpear\tapple\tmango\tpear\tapple\tmango\tpear\tapple\tmango\tpear\tapple\tmango\tpear\tapple\tmango\tpear\tapple\tmango\tpear\tapple\tmango\tpear\tapple\tmango\tpear\tapple\tmango\tpear"
     ]
    },
    {
     "name": "stdout",
     "output_type": "stream",
     "text": [
      "\tapple\tmango\tpear\tapple\tmango\tpear\tapple\tmango\tpear\tapple\tmango\tpear\tapple\tmango\tpear\tapple\tmango\tpear\tapple\tmango\tpear\tapple\tmango\tpear\tapple\tmango\tpear\tapple\tmango\tpear\tapple\tmango\tpear\tapple\tmango\tpear\tapple\tmango\tpear\tapple\tmango\tpear\tapple\tmango\tpear\tapple\tmango\tpear\tapple\tmango\tpear\tapple\tmango\tpear\tapple\tmango\tpear\tapple\tmango\tpear\tapple\tmango\tpear\tapple\tmango\tpear\tapple\tmango\tpear\tapple\tmango\tpear\tapple\tmango\tpear\tapple\tmango\tpear\tapple\tmango\tpear\tapple\tmango\tpear\tapple\tmango\tpear\tapple\tmango\tpear\tapple\tmango\tpear\tapple\tmango\tpear\tapple\tmango\tpear\tapple\tmango\tpear\tapple\tmango\tpear\tapple\tmango\tpear\tapple\tmango\tpear\tapple\tmango\tpear\tapple\tmango\tpear\tapple\tmango\tpear\tapple\tmango\tpear\tapple\tmango\tpear\tapple\tmango\tpear\tapple\tmango\tpear\tapple\tmango\tpear\tapple\tmango\tpear\tapple\tmango\tpear\tapple\tmango\tpear\tapple\tmango\tpear\tapple\tmango\tpear\tapple\tmango\tpear\tapple\tmango\tpear\tapple\tmango\tpear\tapple\tmango\tpear\tapple\tmango\tpear\tapple\tmango\tpear\tapple\tmango\tpear\tapple\tmango\tpear\tapple\tmango\tpear\tapple\tmango\tpear\tapple\tmango\tpear\tapple\tmango\tpear\tapple\tmango\tpear\tapple\tmango\tpear\tapple\tmango\tpear\tapple\tmango\tpear\tapple\tmango\tpear\tapple\tmango\tpear\tapple\tmango\tpear\tapple\tmango\tpear\tapple\tmango\tpear\tapple\tmango\tpear\tapple\tmango\tpear\tapple\tmango\tpear\tapple\tmango\tpear\tapple\tmango\tpear\tapple\tmango\tpear\tapple\tmango\tpear\tapple\tmango\tpear\tapple\tmango\tpear\tapple\tmango\tpear\tapple\tmango\tpear\tapple\tmango\tpear\tapple\tmango\tpear\tapple\tmango\tpear\tapple\tmango\tpear\tapple\tmango\tpear\tapple\tmango\tpear\tapple\tmango\tpear\tapple\tmango\tpear\tapple\tmango\tpear\tapple\tmango\tpear\tapple\tmango\tpear\tapple\tmango\tpear\tapple\tmango\tpear\tapple\tmango\tpear\tapple\tmango\tpear\tapple\tmango\tpear\tapple\tmango\tpear\tapple\tmango\tpear\tapple\tmango\tpear\tapple\tmango\tpear\tapple\tmango\tpear\tapple\tmango\tpear\tapple\tmango\tpear\tapple\tmango\tpear\tapple\tmango\tpear\tapple\tmango\tpear\tapple\tmango\tpear\tapple\tmango\tpear\tapple\tmango\tpear\tapple\tmango\tpear\tapple\tmango\tpear\tapple\tmango\tpear\tapple\tmango\tpear\tapple\tmango\tpear\tapple\tmango\tpear\tapple\tmango\tpear\tapple\tmango\tpear\tapple\tmango\tpear\tapple\tmango\tpear\tapple\tmango\tpear\tapple\tmango\tpear\tapple\tmango\tpear\tapple\tmango\tpear\tapple\tmango\tpear\tapple\tmango\tpear\tapple\tmango\tpear\tapple\tmango\tpear\tapple\tmango\tpear\tapple\tmango\tpear\tapple\tmango\tpear\tapple\tmango\tpear\tapple\tmango\tpear\tapple\tmango\tpear\tapple\tmango\tpear\tapple\tmango\tpear\tapple\tmango\tpear\tapple\tmango\tpear\tapple\tmango\tpear\tapple\tmango\tpear\tapple\tmango\tpear\tapple\tmango\tpear\tapple\tmango\tpear\tapple\tmango\tpear\tapple\tmango\tpear\tapple\tmango\tpear\tapple\tmango\tpear\tapple\tmango\tpear\tapple\tmango\tpear\tapple\tmango\tpear\tapple\tmango\tpear\tapple\tmango\tpear\tapple\tmango\tpear\tapple\tmango\tpear\tapple\tmango\tpear\tapple\tmango\tpear\tapple\tmango\tpear\tapple\tmango\tpear\tapple\tmango\tpear\tapple\tmango\tpear\tapple\tmango\tpear\tapple\tmango\tpear\tapple\tmango\tpear\tapple\tmango\tpear\tapple\tmango\tpear\tapple\tmango\tpear\tapple\tmango\tpear\tapple\tmango\tpear\tapple\tmango\tpear\tapple\tmango\tpear\tapple\tmango\tpear\tapple\tmango\tpear\tapple\tmango\tpear\tapple\tmango\tpear\tapple\tmango\tpear\tapple\tmango\tpear\tapple\tmango\tpear\tapple\tmango\tpear\tapple\tmango\tpear\tapple\tmango\tpear\tapple\tmango\tpear\tapple\tmango\tpear\tapple\tmango\tpear\tapple\tmango\tpear\tapple\tmango\tpear\tapple\tmango\tpear\tapple\tmango\tpear\tapple\tmango\tpear\tapple\tmango\tpear\tapple\tmango\tpear\tapple\tmango\tpear\tapple\tmango\tpear\tapple\tmango\tpear\tapple\tmango\tpear\tapple\tmango\tpear\tapple\tmango\tpear\tapple\tmango\tpear\tapple\tmango\tpear\tapple\tmango\tpear\tapple\tmango\tpear\tapple\tmango\tpear\tapple\tmango\tpear\tapple\tmango\tpear\tapple\tmango\tpear\tapple\tmango\tpear\tapple\tmango\tpear\tapple\tmango\tpear\tapple\tmango\tpear\tapple\tmango\tpear\tapple\tmango\tpear\tapple\tmango\tpear\tapple\tmango\tpear\tapple\tmango\tpear\tapple\tmango\tpear\tapple\tmango\tpear\tapple\tmango\tpear\tapple\tmango\tpear\tapple\tmango\tpear\tapple\tmango\tpear\tapple\tmango\tpear\tapple\tmango\tpear\tapple\tmango\tpear\tapple\tmango\tpear\tapple\tmango\tpear\tapple\tmango\tpear\tapple\tmango\tpear\tapple\tmango\tpear\tapple\tmango\tpear\tapple\tmango\tpear\tapple\tmango\tpear\tapple\tmango\tpear\tapple\tmango\tpear\tapple\tmango\tpear\tapple\tmango\tpear\tapple\tmango\tpear\tapple\tmango\tpear\tapple\tmango\tpear\tapple\tmango\tpear\tapple\tmango\tpear\tapple\tmango\tpear\tapple\tmango\tpear\tapple\tmango\tpear\tapple\tmango\tpear\tapple\tmango\tpear\tapple\tmango\tpear\tapple\tmango\tpear\tapple\tmango\tpear\tapple\tmango\tpear\tapple\tmango\tpear\tapple\tmango\tpear\tapple\tmango\tpear\tapple\tmango\tpear\tapple\tmango\tpear\tapple\tmango\tpear\tapple\tmango\tpear\tapple\tmango\tpear\tapple\tmango\tpear\tapple\tmango\tpear\tapple\tmango\tpear\tapple\tmango\tpear\tapple\tmango\tpear\tapple\tmango\tpear\tapple\tmango\tpear\tapple\tmango\tpear\tapple\tmango\tpear\tapple\tmango\tpear\tapple\tmango\tpear\tapple\tmango\tpear\tapple\tmango\tpear\tapple\tmango\tpear\tapple\tmango\tpear\tapple\tmango\tpear\tapple\tmango\tpear\tapple\tmango\tpear\tapple\tmango\tpear\tapple\tmango\tpear\tapple\tmango\tpear\tapple\tmango\tpear\tapple\tmango\tpear\tapple\tmango\tpear\tapple\tmango\tpear\tapple\tmango\tpear\tapple\tmango\tpear\tapple\tmango\tpear\tapple\tmango\tpear\tapple\tmango\tpear\tapple\tmango\tpear\tapple\tmango\tpear\tapple\tmango\tpear\tapple\tmango\tpear\tapple\tmango\tpear\tapple\tmango\tpear\tapple\tmango\tpear\tapple\tmango\tpear\tapple\tmango\tpear\tapple\tmango\tpear\tapple\tmango\tpear\tapple\tmango\tpear\tapple\tmango\tpear\tapple\tmango\tpear\tapple\tmango\tpear\tapple\tmango\tpear\tapple\tmango\tpear\tapple\tmango\tpear\tapple\tmango\tpear\tapple\tmango\tpear\tapple\tmango\tpear\tapple\tmango\tpear\tapple\tmango\tpear\tapple\tmango\tpear\tapple\tmango\tpear\tapple\tmango\tpear\tapple\tmango\tpear\tapple\tmango\tpear\tapple\tmango\tpear\tapple\tmango\tpear\tapple\tmango\tpear\tapple\tmango\tpear\tapple\tmango\tpear\tapple\tmango\tpear\tapple\tmango\tpear\tapple\tmango\tpear\tapple\tmango\tpear\tapple\tmango\tpear\tapple\tmango\tpear\tapple\tmango\tpear\tapple\tmango\tpear\tapple\tmango\tpear\tapple\tmango\tpear\tapple\tmango\tpear\tapple\tmango\tpear\tapple\tmango\tpear\tapple\tmango\tpear\tapple\tmango\tpear\tapple\tmango\tpear\tapple\tmango\tpear\tapple\tmango\tpear\tapple\tmango\tpear\tapple\tmango\tpear\tapple\tmango\tpear\tapple\tmango\tpear\tapple\tmango\tpear\tapple\tmango\tpear\tapple\tmango\tpear\tapple\tmango\tpear\tapple\tmango\tpear\tapple\tmango\tpear\tapple\tmango\tpear\tapple\tmango\tpear\tapple\tmango\tpear\tapple\tmango\tpear\tapple\tmango\tpear\tapple\tmango\tpear\tapple\tmango\tpear\tapple\tmango\tpear\tapple\tmango\tpear\tapple\tmango\tpear\tapple\tmango\tpear\tapple\tmango\tpear\tapple\tmango\tpear\tapple\tmango\tpear\tapple\tmango\tpear\tapple\tmango\tpear\tapple\tmango\tpear\tapple\tmango\tpear\tapple\tmango\tpear\tapple\tmango\tpear\tapple\tmango\tpear\tapple\tmango\tpear\tapple\tmango\tpear\tapple\tmango\tpear\tapple\tmango\tpear\tapple\tmango\tpear\tapple\tmango\tpear\tapple\tmango\tpear\tapple\tmango\tpear\tapple\tmango\tpear\tapple\tmango\tpear\tapple\tmango\tpear\tapple\tmango\tpear\tapple\tmango\tpear\tapple\tmango\tpear\tapple\tmango\tpear\tapple\tmango\tpear\tapple\tmango\tpear\tapple\tmango\tpear\tapple\tmango\tpear\tapple\tmango\tpear\tapple\tmango\tpear\tapple\tmango\tpear\tapple\tmango\tpear\tapple\tmango\tpear\tapple\tmango\tpear\tapple\tmango\tpear\tapple\tmango\tpear\tapple\tmango\tpear\tapple\tmango\tpear\tapple\tmango\tpear\tapple\tmango\tpear\tapple\tmango\tpear\tapple\tmango\tpear\tapple\tmango\tpear\tapple\tmango\tpear\tapple\tmango\tpear\tapple\tmango\tpear\tapple\tmango\tpear\tapple\tmango\tpear\tapple\tmango\tpear\tapple\tmango\tpear\tapple\tmango\tpear\tapple\tmango\tpear\tapple\tmango\tpear\tapple\tmango\tpear\tapple\tmango\tpear\tapple\tmango\tpear\tapple\tmango\tpear\tapple\tmango\tpear\tapple\tmango\tpear\tapple\tmango\tpear\tapple\tmango\tpear\tapple\tmango\tpear\tapple\tmango\tpear\tapple\tmango\tpear\tapple\tmango\tpear\tapple\tmango\tpear\tapple\tmango\tpear\tapple\tmango\tpear\tapple\tmango\tpear\tapple\tmango\tpear\tapple\tmango\tpear\tapple\tmango\tpear\tapple\tmango\tpear\tapple\tmango\tpear\tapple\tmango\tpear\tapple\tmango\tpear\tapple\tmango\tpear\tapple\tmango\tpear\tapple\tmango\tpear\tapple\tmango\tpear\tapple\tmango\tpear\tapple\tmango\tpear\tapple\tmango\tpear\tapple\tmango\tpear\tapple\tmango\tpear\tapple\tmango\tpear\tapple\tmango\tpear\tapple\tmango\tpear\tapple\tmango\tpear\tapple\tmango\tpear\tapple\tmango\tpear\tapple\tmango\tpear\tapple\tmango\tpear\tapple\tmango\tpear\tapple\tmango\tpear\tapple\tmango\tpear\tapple\tmango\tpear\tapple\tmango\tpear\tapple\tmango\tpear\tapple\tmango\tpear\tapple\tmango\tpear\tapple\tmango\tpear\tapple\tmango\tpear\tapple\tmango\tpear\tapple\tmango\tpear\tapple\tmango\tpear\tapple\tmango\tpear\tapple\tmango\tpear\tapple\tmango\tpear\tapple\tmango\tpear\tapple\tmango\tpear\tapple\tmango\tpear\tapple\tmango\tpear\tapple\tmango\tpear\tapple\tmango\tpear\tapple\tmango\tpear\tapple\tmango\tpear\tapple\tmango\tpear\tapple\tmango\tpear\tapple\tmango\tpear\tapple\tmango\tpear\tapple\tmango\tpear\tapple\tmango\tpear\tapple\tmango\tpear\tapple\tmango\tpear\tapple\tmango\tpear\tapple\tmango\tpear\tapple\tmango\tpear\tapple\tmango\tpear\tapple\tmango\tpear\tapple\tmango\tpear\tapple\tmango\tpear\tapple\tmango\tpear\tapple\tmango\tpear\tapple\tmango\tpear\tapple\tmango\tpear\tapple\tmango\tpear\tapple\tmango\tpear\tapple\tmango\tpear\tapple\t"
     ]
    },
    {
     "name": "stdout",
     "output_type": "stream",
     "text": [
      "mango\tpear\tapple\tmango\tpear\tapple\tmango\tpear\tapple\tmango\tpear\tapple\tmango\tpear\tapple\tmango\tpear\tapple\tmango\tpear\tapple\tmango\tpear\tapple\tmango\tpear\tapple\tmango\tpear\tapple\tmango\tpear\tapple\tmango\tpear\tapple\tmango\tpear\tapple\tmango\tpear\tapple\tmango\tpear\tapple\tmango\tpear\tapple\tmango\tpear\tapple\tmango\tpear\tapple\tmango\tpear\tapple\tmango\tpear\tapple\tmango\tpear\tapple\tmango\tpear\tapple\tmango\tpear\tapple\tmango\tpear\tapple\tmango\tpear\tapple\tmango\tpear\tapple\tmango\tpear\tapple\tmango\tpear\tapple\tmango\tpear\tapple\tmango\tpear\tapple\tmango\tpear\tapple\tmango\tpear\tapple\tmango\tpear\tapple\tmango\tpear\tapple\tmango\tpear\tapple\tmango\tpear\tapple\tmango\tpear\tapple\tmango\tpear\tapple\tmango\tpear\tapple\tmango\tpear\tapple\tmango\tpear\tapple\tmango\tpear\tapple\tmango\tpear\tapple\tmango\tpear\tapple\tmango\tpear\tapple\tmango\tpear\tapple\tmango\tpear\tapple\tmango\tpear\tapple\tmango\tpear\tapple\tmango\tpear\tapple\tmango\tpear\tapple\tmango\tpear\tapple\tmango\tpear\tapple\tmango\tpear\tapple\tmango\tpear\tapple\tmango\tpear\tapple\tmango\tpear\tapple\tmango\tpear\tapple\tmango\tpear\tapple\tmango\tpear\tapple\tmango\tpear\tapple\tmango\tpear\tapple\tmango\tpear\tapple\tmango\tpear\tapple\tmango\tpear\tapple\tmango\tpear\tapple\tmango\tpear\tapple\tmango\tpear\tapple\tmango\tpear\tapple\tmango\tpear\tapple\tmango\tpear\tapple\tmango\tpear\tapple\tmango\tpear\tapple\tmango\tpear\tapple\tmango\tpear\tapple\tmango\tpear\tapple\tmango\tpear\tapple\tmango\tpear\tapple\tmango\tpear\tapple\tmango\tpear\tapple\tmango\tpear\tapple\tmango\tpear\tapple\tmango\tpear\tapple\tmango\tpear\tapple\tmango\tpear\tapple\tmango\tpear\tapple\tmango\tpear\tapple\tmango\tpear\tapple\tmango\tpear\tapple\tmango\tpear\tapple\tmango\tpear\tapple\tmango\tpear\tapple\tmango\tpear\tapple\tmango\tpear\tapple\tmango\tpear\tapple\tmango\tpear\tapple\tmango\tpear\tapple\tmango\tpear\tapple\tmango\tpear\tapple\tmango\tpear\tapple\tmango\tpear\tapple\tmango\tpear\tapple\tmango\tpear\tapple\tmango\tpear\tapple\tmango\tpear\tapple\tmango\tpear\tapple\tmango\tpear\tapple\tmango\tpear\tapple\tmango\tpear\tapple\tmango\tpear\tapple\tmango\tpear\tapple\tmango\tpear\tapple\tmango\tpear\tapple\tmango\tpear\tapple\tmango\tpear\tapple\tmango\tpear\tapple\tmango\tpear\tapple\tmango\tpear\tapple\tmango\tpear\tapple\tmango\tpear\tapple\tmango\tpear\tapple\tmango\tpear\tapple\tmango\tpear\tapple\tmango\tpear\tapple\tmango\tpear\tapple\tmango\tpear\tapple\tmango\tpear\tapple\tmango\tpear\tapple\tmango\tpear\tapple\tmango\tpear\tapple\tmango\tpear\tapple\tmango\tpear\tapple\tmango\tpear\tapple\tmango\tpear\tapple\tmango\tpear\tapple\tmango\tpear\tapple\tmango\tpear\tapple\tmango\tpear\tapple\tmango\tpear\tapple\tmango\tpear\tapple\tmango\tpear\tapple\tmango\tpear\tapple\tmango\tpear\tapple\tmango\tpear\tapple\tmango\tpear\tapple\tmango\tpear\tapple\tmango\tpear\tapple\tmango\tpear\tapple\tmango\tpear\tapple\tmango\tpear\tapple\tmango\tpear\tapple\tmango\tpear\tapple\tmango\tpear\tapple\tmango\tpear\tapple\tmango\tpear\tapple\tmango\tpear\tapple\tmango\tpear\tapple\tmango\tpear\tapple\tmango\tpear\tapple\tmango\tpear\tapple\tmango\tpear\tapple\tmango\tpear\tapple\tmango\tpear\tapple\tmango\tpear\tapple\tmango\tpear\tapple\tmango\tpear\tapple\tmango\tpear\tapple\tmango\tpear\tapple\tmango\tpear\tapple\tmango\tpear\tapple\tmango\tpear\tapple\tmango\tpear\tapple\tmango\tpear\tapple\tmango\tpear\tapple\tmango\tpear\tapple\tmango\tpear\tapple\tmango\tpear\tapple\tmango\tpear\tapple\tmango\tpear\tapple\tmango\tpear\tapple\tmango\tpear\tapple\tmango\tpear\tapple\tmango\tpear\tapple\tmango\tpear\tapple\tmango\tpear\tapple\tmango\tpear\tapple\tmango\tpear\tapple\tmango\tpear\tapple\tmango\tpear\tapple\tmango\tpear\tapple\tmango\tpear\tapple\tmango\tpear\tapple\tmango\tpear\tapple\tmango\tpear\tapple\tmango\tpear\tapple\tmango\tpear\tapple\tmango\tpear\tapple\tmango\tpear\tapple\tmango\tpear\tapple\tmango\tpear\tapple\tmango\tpear\tapple\tmango\tpear\tapple\tmango\tpear\tapple\tmango\tpear\tapple\tmango\tpear\tapple\tmango\tpear\tapple\tmango\tpear\tapple\tmango\tpear\tapple\tmango\tpear\tapple\tmango\tpear\tapple\tmango\tpear\tapple\tmango\tpear\tapple\tmango\tpear\tapple\tmango\tpear\tapple\tmango\tpear\tapple\tmango\tpear\tapple\tmango\tpear\tapple\tmango\tpear\tapple\tmango\tpear\tapple\tmango\tpear\tapple\tmango\tpear\tapple\tmango\tpear\tapple\tmango\tpear\tapple\tmango\tpear\tapple\tmango\tpear\tapple\tmango\tpear\tapple\tmango\tpear\tapple\tmango\tpear\tapple\tmango\tpear\tapple\tmango\tpear\tapple\tmango\tpear\tapple\tmango\tpear\tapple\tmango\tpear\tapple\tmango\tpear\tapple\tmango\tpear\tapple\tmango\tpear\tapple\tmango\tpear\tapple\tmango\tpear\tapple\tmango\tpear\tapple\tmango\tpear\tapple\tmango\tpear\tapple\tmango\tpear\tapple\tmango\tpear\tapple\tmango\tpear\tapple\tmango\tpear\tapple\tmango\tpear\tapple\tmango\tpear\tapple\tmango\tpear\tapple\tmango\tpear\tapple\tmango\tpear\tapple\tmango\tpear\tapple\tmango\tpear\tapple\tmango\tpear\tapple\tmango\tpear\tapple\tmango\tpear\tapple\tmango\tpear\tapple\tmango\tpear\tapple\tmango\tpear\tapple\tmango\tpear\tapple\tmango\tpear\tapple\tmango\tpear\tapple\tmango\tpear\tapple\tmango\tpear\tapple\tmango\tpear\tapple\tmango\tpear\tapple\tmango\tpear\tapple\tmango\tpear\tapple\tmango\tpear\tapple\tmango\tpear\tapple\tmango\tpear\tapple\tmango\tpear\tapple\tmango\tpear\tapple\tmango\tpear\tapple\tmango\tpear\tapple\tmango\tpear\tapple\tmango\tpear\tapple\tmango\tpear\tapple\tmango\tpear\tapple\tmango\tpear\tapple\tmango\tpear\tapple\tmango\tpear\tapple\tmango\tpear\tapple\tmango\tpear\tapple\tmango\tpear\tapple\tmango\tpear\tapple\tmango\tpear\tapple\tmango\tpear\tapple\tmango\tpear\tapple\tmango\tpear\tapple\tmango\tpear\tapple\tmango\tpear\tapple\tmango\tpear\tapple\tmango\tpear\tapple\tmango\tpear\tapple\tmango\tpear\tapple\tmango\tpear\tapple\tmango\tpear\tapple\tmango\tpear\tapple\tmango\tpear\tapple\tmango\tpear\tapple\tmango\tpear\tapple\tmango\tpear\tapple\tmango\tpear\tapple\tmango\tpear\tapple\tmango\tpear\tapple\tmango\tpear\tapple\tmango\tpear\tapple\tmango\tpear\tapple\tmango\tpear\tapple\tmango\tpear\tapple\tmango\tpear\tapple\tmango\tpear\tapple\tmango\tpear\tapple\tmango\tpear\tapple\tmango\tpear\tapple\tmango\tpear\tapple\tmango\tpear\tapple\tmango\tpear\tapple\tmango\tpear\tapple\tmango\tpear\tapple\tmango\tpear\tapple\tmango\tpear\tapple\tmango\tpear\tapple\tmango\tpear\tapple\tmango\tpear\tapple\tmango\tpear\tapple\tmango\tpear\tapple\tmango\tpear\tapple\tmango\tpear\tapple\tmango\tpear\tapple\tmango\tpear\tapple\tmango\tpear\tapple\tmango\tpear\tapple\tmango\tpear\tapple\tmango\tpear\tapple\tmango\tpear\tapple\tmango\tpear\tapple\tmango\tpear\tapple\tmango\tpear\tapple\tmango\tpear\tapple\tmango\tpear\tapple\tmango\tpear\tapple\tmango\tpear\tapple\tmango\tpear\tapple\tmango\tpear\tapple\tmango\tpear\tapple\tmango\tpear\tapple\tmango\tpear\tapple\tmango\tpear\tapple\tmango\tpear\tapple\tmango\tpear\tapple\tmango\tpear\tapple\tmango\tpear\tapple\tmango\tpear\tapple\tmango\tpear\tapple\tmango\tpear\tapple\tmango\tpear\tapple\tmango\tpear\tapple\tmango\tpear\tapple\tmango\tpear\tapple\tmango\tpear\tapple\tmango\tpear\tapple\tmango\tpear\tapple\tmango\tpear\tapple\tmango\tpear\tapple\tmango\tpear\tapple\tmango\tpear\tapple\tmango\tpear\tapple\tmango\tpear\tapple\tmango\tpear\tapple\tmango\tpear\tapple\tmango\tpear\tapple\tmango\tpear\tapple\tmango\tpear\tapple\tmango\tpear\tapple\tmango\tpear\tapple\tmango\tpear\tapple\tmango\tpear\tapple\tmango\tpear\tapple\tmango\tpear\tapple\tmango\tpear\tapple\tmango\tpear\tapple\tmango\tpear\tapple\tmango\tpear\tapple\tmango\tpear\tapple\tmango\tpear\tapple\tmango\tpear\tapple\tmango\tpear\tapple\tmango\tpear\tapple\tmango\tpear\tapple\tmango\tpear\tapple\tmango\tpear\tapple\tmango\tpear\tapple\tmango\tpear\tapple\tmango\tpear\tapple\tmango\tpear\tapple\tmango\tpear\tapple\tmango\tpear\tapple\tmango\tpear\tapple\tmango\tpear\tapple\tmango\tpear\tapple\tmango\tpear\tapple\tmango\tpear\tapple\tmango\tpear\tapple\tmango\tpear\tapple\tmango\tpear\tapple\tmango\tpear\tapple\tmango\tpear\tapple\tmango\tpear\tapple\tmango\tpear\tapple\tmango\tpear\tapple\tmango\tpear\tapple\tmango\tpear\tapple\tmango\tpear\tapple\tmango\tpear\tapple\tmango\tpear\tapple\tmango\tpear\tapple\tmango\tpear\tapple\tmango\tpear\tapple\tmango\tpear\tapple\tmango\tpear\tapple\tmango\tpear\tapple\tmango\tpear\tapple\tmango\tpear\tapple\tmango\tpear\tapple\tmango\tpear\tapple\tmango\tpear\tapple\tmango\tpear\tapple\tmango\tpear\tapple\tmango\tpear\tapple\tmango\tpear\tapple\tmango\tpear\tapple\tmango\tpear\tapple\tmango\tpear\tapple\tmango\tpear\tapple\tmango\tpear\tapple\tmango\tpear\tapple\tmango\tpear\tapple\tmango\tpear\tapple\tmango\tpear\tapple\tmango\tpear\tapple\tmango\tpear\tapple\tmango\tpear\tapple\tmango\tpear\tapple\tmango\tpear\tapple\tmango\tpear\tapple\tmango\tpear\tapple\tmango\tpear\tapple\tmango\tpear\tapple\tmango\tpear\tapple\tmango\tpear\tapple\tmango\tpear\tapple\tmango\tpear\tapple\tmango\tpear\tapple\tmango\tpear\tapple\tmango\tpear\tapple\tmango\tpear\tapple\tmango\tpear\tapple\tmango\tpear\tapple\tmango\tpear\tapple\tmango\tpear\tapple\tmango\tpear\tapple\tmango\tpear\tapple\tmango\tpear\tapple\tmango\tpear\tapple\tmango\tpear\tapple\tmango\tpear\tapple\tmango\tpear\tapple\tmango\tpear\tapple\tmango\tpear\tapple\tmango\tpear\tapple\tmango\tpear\tapple\tmango\tpear\tapple\tmango\tpear\tapple\tmango\tpear\tapple\tmango\tpear\tapple\tmango\tpear\tapple\tmango\tpear\tapple\tmango\tpear\tapple\tmango\tpear\tapple\tmango\tpear\tapple\tmango\tpear\tapple\tmango\tpear\tapple\tmango\tpear\tapple\tmango\tpear\tapple\tmango\tpear\tapple\tmango\tpear\tapple\tmango\tpear\tapple\tmango\tpear\tapple\tmango\tpear\tapple\tmango\tpear\tapple\tmango\tpear\tapple\tmango\tpear\tapple\tmango\tpear\tapple\tmango\tpear\tapple\tmango\tpear\tapple\tmango\tpear\tapple\tmango\tpear\tapple\tmango\tpear\tapple\tmango\tpear"
     ]
    },
    {
     "name": "stdout",
     "output_type": "stream",
     "text": [
      "\tapple\tmango\tpear\tapple\tmango\tpear\tapple\tmango\tpear\tapple\tmango\tpear\tapple\tmango\tpear\tapple\tmango\tpear\tapple\tmango\tpear\tapple\tmango\tpear\tapple\tmango\tpear\tapple\tmango\tpear\tapple\tmango\tpear\tapple\tmango\tpear\tapple\tmango\tpear\tapple\tmango\tpear\tapple\tmango\tpear\tapple\tmango\tpear\tapple\tmango\tpear\tapple\tmango\tpear\tapple\tmango\tpear\tapple\tmango\tpear\tapple\tmango\tpear\tapple\tmango\tpear\tapple\tmango\tpear\tapple\tmango\tpear\tapple\tmango\tpear\tapple\tmango\tpear\tapple\tmango\tpear\tapple\tmango\tpear\tapple\tmango\tpear\tapple\tmango\tpear\tapple\tmango\tpear\tapple\tmango\tpear\tapple\tmango\tpear\tapple\tmango\tpear\tapple\tmango\tpear\tapple\tmango\tpear\tapple\tmango\tpear\tapple\tmango\tpear\tapple\tmango\tpear\tapple\tmango\tpear\tapple\tmango\tpear\tapple\tmango\tpear\tapple\tmango\tpear\tapple\tmango\tpear\tapple\tmango\tpear\tapple\tmango\tpear\tapple\tmango\tpear\tapple\tmango\tpear\tapple\tmango\tpear\tapple\tmango\tpear\tapple\tmango\tpear\tapple\tmango\tpear\tapple\tmango\tpear\tapple\tmango\tpear\tapple\tmango\tpear\tapple\tmango\tpear\tapple\tmango\tpear\tapple\tmango\tpear\tapple\tmango\tpear\tapple\tmango\tpear\tapple\tmango\tpear\tapple\tmango\tpear\tapple\tmango\tpear\tapple\tmango\tpear\tapple\tmango\tpear\tapple\tmango\tpear\tapple\tmango\tpear\tapple\tmango\tpear\tapple\tmango\tpear\tapple\tmango\tpear\tapple\tmango\tpear\tapple\tmango\tpear\tapple\tmango\tpear\tapple\tmango\tpear\tapple\tmango\tpear\tapple\tmango\tpear\tapple\tmango\tpear\tapple\tmango\tpear\tapple\tmango\tpear\tapple\tmango\tpear\tapple\tmango\tpear\tapple\tmango\tpear\tapple\tmango\tpear\tapple\tmango\tpear\tapple\tmango\tpear\tapple\tmango\tpear\tapple\tmango\tpear\tapple\tmango\tpear\tapple\tmango\tpear\tapple\tmango\tpear\tapple\tmango\tpear\tapple\tmango\tpear\tapple\tmango\tpear\tapple\tmango\tpear\tapple\tmango\tpear\tapple\tmango\tpear\tapple\tmango\tpear\tapple\tmango\tpear\tapple\tmango\tpear\tapple\tmango\tpear\tapple\tmango\tpear\tapple\tmango\tpear\tapple\tmango\tpear\tapple\tmango\tpear\tapple\tmango\tpear\tapple\tmango\tpear\tapple\tmango\tpear\tapple\tmango\tpear\tapple\tmango\tpear\tapple\tmango\tpear\tapple\tmango\tpear\tapple\tmango\tpear\tapple\tmango\tpear\tapple\tmango\tpear\tapple\tmango\tpear\tapple\tmango\tpear\tapple\tmango\tpear\tapple\tmango\tpear\tapple\tmango\tpear\tapple\tmango\tpear\tapple\tmango\tpear\tapple\tmango\tpear\tapple\tmango\tpear\tapple\tmango\tpear\tapple\tmango\tpear\tapple\tmango\tpear\tapple\tmango\tpear\tapple\tmango\tpear\tapple\tmango\tpear\tapple\tmango\tpear\tapple\tmango\tpear\tapple\tmango\tpear\tapple\tmango\tpear\tapple\tmango\tpear\tapple\tmango\tpear\tapple\tmango\tpear\tapple\tmango\tpear\tapple\tmango\tpear\tapple\tmango\tpear\tapple\tmango\tpear\tapple\tmango\tpear\tapple\tmango\tpear\tapple\tmango\tpear\tapple\tmango\tpear\tapple\tmango\tpear\tapple\tmango\tpear\tapple\tmango\tpear\tapple\tmango\tpear\tapple\tmango\tpear\tapple\tmango\tpear\tapple\tmango\tpear\tapple\tmango\tpear\tapple\tmango\tpear\tapple\tmango\tpear\tapple\tmango\tpear\tapple\tmango\tpear\tapple\tmango\tpear\tapple\tmango\tpear\tapple\tmango\tpear\tapple\tmango\tpear\tapple\tmango\tpear\tapple\tmango\tpear\tapple\tmango\tpear\tapple\tmango\tpear\tapple\tmango\tpear\tapple\tmango\tpear\tapple\tmango\tpear\tapple\tmango\tpear\tapple\tmango\tpear\tapple\tmango\tpear\tapple\tmango\tpear\tapple\tmango\tpear\tapple\tmango\tpear\tapple\tmango\tpear\tapple\tmango\tpear\tapple\tmango\tpear\tapple\tmango\tpear\tapple\tmango\tpear\tapple\tmango\tpear\tapple\tmango\tpear\tapple\tmango\tpear\tapple\tmango\tpear\tapple\tmango\tpear\tapple\tmango\tpear\tapple\tmango\tpear\tapple\tmango\tpear\tapple\tmango\tpear\tapple\tmango\tpear\tapple\tmango\tpear\tapple\tmango\tpear\tapple\tmango\tpear\tapple\tmango\tpear\tapple\tmango\tpear\tapple\tmango\tpear\tapple\tmango\tpear\tapple\tmango\tpear\tapple\tmango\tpear\tapple\tmango\tpear\tapple\tmango\tpear\tapple\tmango\tpear\tapple\tmango\tpear\tapple\tmango\tpear\tapple\tmango\tpear\tapple\tmango\tpear\tapple\tmango\tpear\tapple\tmango\tpear\tapple\tmango\tpear\tapple\tmango\tpear\tapple\tmango\tpear\tapple\tmango\tpear\tapple\tmango\tpear\tapple\tmango\tpear\tapple\tmango\tpear\tapple\tmango\tpear\tapple\tmango\tpear\tapple\tmango\tpear\tapple\tmango\tpear\tapple\tmango\tpear\tapple\tmango\tpear\tapple\tmango\tpear\tapple\tmango\tpear\tapple\tmango\tpear\tapple\tmango\tpear\tapple\tmango\tpear\tapple\tmango\tpear\tapple\tmango\tpear\tapple\tmango\tpear\tapple\tmango\tpear\tapple\tmango\tpear\tapple\tmango\tpear\tapple\tmango\tpear\tapple\tmango\tpear\tapple\tmango\tpear\tapple\tmango\tpear\tapple\tmango\tpear\tapple\tmango\tpear\tapple\tmango\tpear\tapple\tmango\tpear\tapple\tmango\tpear\tapple\tmango\tpear\tapple\tmango\tpear\tapple\tmango\tpear\tapple\tmango\tpear\tapple\tmango\tpear\tapple\tmango\tpear\tapple\tmango\tpear\tapple\tmango\tpear\tapple\tmango\tpear\tapple\tmango\tpear\tapple\tmango\tpear\tapple\tmango\tpear\tapple\tmango\tpear\tapple\tmango\tpear\tapple\tmango\tpear\tapple\tmango\tpear\tapple\tmango\tpear\tapple\tmango\tpear\tapple\tmango\tpear\tapple\tmango\tpear\tapple\tmango\tpear\tapple\tmango\tpear\tapple\tmango\tpear\tapple\tmango\tpear\tapple\tmango\tpear\tapple\tmango\tpear\tapple\tmango\tpear\tapple\tmango\tpear\tapple\tmango\tpear\tapple\tmango\tpear\tapple\tmango\tpear\tapple\tmango\tpear\tapple\tmango\tpear\tapple\tmango\tpear\tapple\tmango\tpear\tapple\tmango\tpear\tapple\tmango\tpear\tapple\tmango\tpear\tapple\tmango\tpear\tapple\tmango\tpear\tapple\tmango\tpear\tapple\tmango\tpear\tapple\tmango\tpear\tapple\tmango\tpear\tapple\tmango\tpear\tapple\tmango\tpear\tapple\tmango\tpear\tapple\tmango\tpear\tapple\tmango\tpear\tapple\tmango\tpear\tapple\tmango\tpear\tapple\tmango\tpear\tapple\tmango\tpear\tapple\tmango\tpear\tapple\tmango\tpear\tapple\tmango\tpear\tapple\tmango\tpear\tapple\tmango\tpear\tapple\tmango\tpear\tapple\tmango\tpear\tapple\tmango\tpear\tapple\tmango\tpear\tapple\tmango\tpear\tapple\tmango\tpear\tapple\tmango\tpear\tapple\tmango\tpear\tapple\tmango\tpear\tapple\tmango\tpear\tapple\tmango\tpear\tapple\tmango\tpear\tapple\tmango\tpear\tapple\tmango\tpear\tapple\tmango\tpear\tapple\tmango\tpear\tapple\tmango\tpear\tapple\tmango\tpear\tapple\tmango\tpear\tapple\tmango\tpear\tapple\tmango\tpear\tapple\tmango\tpear\tapple\tmango\tpear\tapple\tmango\tpear\tapple\tmango\tpear\tapple\tmango\tpear\tapple\tmango\tpear\tapple\tmango\tpear\tapple\tmango\tpear\tapple\tmango\tpear\tapple\tmango\tpear\tapple\tmango\tpear\tapple\tmango\tpear\tapple\tmango\tpear\tapple\tmango\tpear\tapple\tmango\tpear\tapple\tmango\tpear\tapple\tmango\tpear\tapple\tmango\tpear\tapple\tmango\tpear\tapple\tmango\tpear\tapple\tmango\tpear\tapple\tmango\tpear\tapple\tmango\tpear\tapple\tmango\tpear\tapple\tmango\tpear\tapple\tmango\tpear\tapple\tmango\tpear\tapple\tmango\tpear\tapple\tmango\tpear\tapple\tmango\tpear\tapple\tmango\tpear\tapple\tmango\tpear\tapple\tmango\tpear\tapple\tmango\tpear\tapple\tmango\tpear\tapple\tmango\tpear\tapple\tmango\tpear\tapple\tmango\tpear\tapple\tmango\tpear\tapple\tmango\tpear\tapple\tmango\tpear\tapple\tmango\tpear\tapple\tmango\tpear\tapple\tmango\tpear\tapple\tmango\tpear\tapple\tmango\tpear\tapple\tmango\tpear\tapple\tmango\tpear\tapple\tmango\tpear\tapple\tmango\tpear\tapple\tmango\tpear\tapple\tmango\tpear\tapple\tmango\tpear\tapple\tmango\tpear\tapple\tmango\tpear\tapple\tmango\tpear\tapple\tmango\tpear\tapple\tmango\tpear\tapple\tmango\tpear\tapple\tmango\tpear\tapple\tmango\tpear\tapple\tmango\tpear\tapple\tmango\tpear\tapple\tmango\tpear\tapple\tmango\tpear\tapple\tmango\tpear\tapple\tmango\tpear\tapple\tmango\tpear\tapple\tmango\tpear\tapple\tmango\tpear\tapple\tmango\tpear\tapple\tmango\tpear\tapple\tmango\tpear\tapple\tmango\tpear\tapple\tmango\tpear\tapple\tmango\tpear\tapple\tmango\tpear\tapple\tmango\tpear\tapple\tmango\tpear\tapple\tmango\tpear\tapple\tmango\tpear\tapple\tmango\tpear\tapple\tmango\tpear\tapple\tmango\tpear\tapple\tmango\tpear\tapple\tmango\tpear\tapple\tmango\tpear\tapple\tmango\tpear\tapple\tmango\tpear\tapple\tmango\tpear\tapple\tmango\tpear\tapple\tmango\tpear\tapple\tmango\tpear\tapple\tmango\tpear\tapple\tmango\tpear\tapple\tmango\tpear\tapple\tmango\tpear\tapple\tmango\tpear\tapple\tmango\tpear\tapple\tmango\tpear\tapple\tmango\tpear\tapple\tmango\tpear\tapple\tmango\tpear\tapple\tmango\tpear\tapple\tmango\tpear\tapple\tmango\tpear\tapple\tmango\tpear\tapple\tmango\tpear\tapple\tmango\tpear\tapple\tmango\tpear\tapple\tmango\tpear\tapple\tmango\tpear\tapple\tmango\tpear\tapple\tmango\tpear\tapple\tmango\tpear\tapple\tmango\tpear\tapple\tmango\tpear\tapple\tmango\tpear\tapple\tmango\tpear\tapple\tmango\tpear\tapple\tmango\tpear\tapple\tmango\tpear\tapple\tmango\tpear\tapple\tmango\tpear\tapple\tmango\tpear\tapple\tmango\tpear\tapple\tmango\tpear\tapple\tmango\tpear\tapple\tmango\tpear\tapple\tmango\tpear\tapple\tmango\tpear\tapple\tmango\tpear\tapple\tmango\tpear\tapple\tmango\tpear\tapple\tmango\tpear\tapple\tmango\tpear\tapple\tmango\tpear\tapple\tmango\tpear\tapple\tmango\tpear\tapple\tmango\tpear\tapple\tmango\tpear\tapple\tmango\tpear\tapple\tmango\tpear\tapple\tmango\tpear\tapple\tmango\tpear\tapple\tmango\tpear\tapple\tmango\tpear\tapple\tmango\tpear\tapple\tmango\tpear\tapple\tmango\tpear\tapple\tmango\tpear\tapple\tmango\tpear\tapple\tmango\tpear\tapple\tmango\tpear\tapple\tmango\tpear\tapple\tmango\tpear\tapple\tmango\tpear\tapple\tmango\tpear\tapple\tmango\tpear\tapple\tmango\tpear\tapple\tmango\tpear\tapple\tmango\tpear\tapple\tmango\tpear\tapple\tmango\tpear\tapple\tmango\tpear\tapple\tmango\tpear\tapple\tmango\tpear\tapple\tmango\tpear\tapple\tmango\tpear\tapple\tmango\tpear\tapple\tmango\tpear\tapple\tmango\tpear\tapple\tmango\tpear\tapple\tmango\tpear\tapple\tmango\tpear\tapple\tmango\tpear\tapple\tmango\tpear\tapple\tmango\tpear\tapple\tmango\tpear\tapple\tmango\tpear\tapple\tmango\tpear\tapple\t"
     ]
    },
    {
     "name": "stdout",
     "output_type": "stream",
     "text": [
      "mango\tpear\tapple\tmango\tpear\tapple\tmango\tpear\tapple\tmango\tpear\tapple\tmango\tpear\tapple\tmango\tpear\tapple\tmango\tpear\tapple\tmango\tpear\tapple\tmango\tpear\tapple\tmango\tpear\tapple\tmango\tpear\tapple\tmango\tpear\tapple\tmango\tpear\tapple\tmango\tpear\tapple\tmango\tpear\tapple\tmango\tpear\tapple\tmango\tpear\tapple\tmango\tpear\tapple\tmango\tpear\tapple\tmango\tpear\tapple\tmango\tpear\tapple\tmango\tpear\tapple\tmango\tpear\tapple\tmango\tpear\tapple\tmango\tpear\tapple\tmango\tpear\tapple\tmango\tpear\tapple\tmango\tpear\tapple\tmango\tpear\tapple\tmango\tpear\tapple\tmango\tpear\tapple\tmango\tpear\tapple\tmango\tpear\tapple\tmango\tpear\tapple\tmango\tpear\tapple\tmango\tpear\tapple\tmango\tpear\tapple\tmango\tpear\tapple\tmango\tpear\tapple\tmango\tpear\tapple\tmango\tpear\tapple\tmango\tpear\tapple\tmango\tpear\tapple\tmango\tpear\tapple\tmango\tpear\tapple\tmango\tpear\tapple\tmango\tpear\tapple\tmango\tpear\tapple\tmango\tpear\tapple\tmango\tpear\tapple\tmango\tpear\tapple\tmango\tpear\tapple\tmango\tpear\tapple\tmango\tpear\tapple\tmango\tpear\tapple\tmango\tpear\tapple\tmango\tpear\tapple\tmango\tpear\tapple\tmango\tpear\tapple\tmango\tpear\tapple\tmango\tpear\tapple\tmango\tpear\tapple\tmango\tpear\tapple\tmango\tpear\tapple\tmango\tpear\tapple\tmango\tpear\tapple\tmango\tpear\tapple\tmango\tpear\tapple\tmango\tpear\tapple\tmango\tpear\tapple\tmango\tpear\tapple\tmango\tpear\tapple\tmango\tpear\tapple\tmango\tpear\tapple\tmango\tpear\tapple\tmango\tpear\tapple\tmango\tpear\tapple\tmango\tpear\tapple\tmango\tpear\tapple\tmango\tpear\tapple\tmango\tpear\tapple\tmango\tpear\tapple\tmango\tpear\tapple\tmango\tpear\tapple\tmango\tpear\tapple\tmango\tpear\tapple\tmango\tpear\tapple\tmango\tpear\tapple\tmango\tpear\tapple\tmango\tpear\tapple\tmango\tpear\tapple\tmango\tpear\tapple\tmango\tpear\tapple\tmango\tpear\tapple\tmango\tpear\tapple\tmango\tpear\tapple\tmango\tpear\tapple\tmango\tpear\tapple\tmango\tpear\tapple\tmango\tpear\tapple\tmango\tpear\tapple\tmango\tpear\tapple\tmango\tpear\tapple\tmango\tpear\tapple\tmango\tpear\tapple\tmango\tpear\tapple\tmango\tpear\tapple\tmango\tpear\tapple\tmango\tpear\tapple\tmango\tpear\tapple\tmango\tpear\tapple\tmango\tpear\tapple\tmango\tpear\tapple\tmango\tpear\tapple\tmango\tpear\tapple\tmango\tpear\tapple\tmango\tpear\tapple\tmango\tpear\tapple\tmango\tpear\tapple\tmango\tpear\tapple\tmango\tpear\tapple\tmango\tpear\tapple\tmango\tpear\tapple\tmango\tpear\tapple\tmango\tpear\tapple\tmango\tpear\tapple\tmango\tpear\tapple\tmango\tpear\tapple\tmango\tpear\tapple\tmango\tpear\tapple\tmango\tpear\tapple\tmango\tpear\tapple\tmango\tpear\tapple\tmango\tpear\tapple\tmango\tpear\tapple\tmango\tpear\tapple\tmango\tpear\tapple\tmango\tpear\tapple\tmango\tpear\tapple\tmango\tpear\tapple\tmango\tpear\tapple\tmango\tpear\tapple\tmango\tpear\tapple\tmango\tpear\tapple\tmango\tpear\tapple\tmango\tpear\tapple\tmango\tpear\tapple\tmango\tpear\tapple\tmango\tpear\tapple\tmango\tpear\tapple\tmango\tpear\tapple\tmango\tpear\tapple\tmango\tpear\tapple\tmango\tpear\tapple\tmango\tpear\tapple\tmango\tpear\tapple\tmango\tpear\tapple\tmango\tpear\tapple\tmango\tpear\tapple\tmango\tpear\tapple\tmango\tpear\tapple\tmango\tpear\tapple\tmango\tpear\tapple\tmango\tpear\tapple\tmango\tpear\tapple\tmango\tpear\tapple\tmango\tpear\tapple\tmango\tpear\tapple\tmango\tpear\tapple\tmango\tpear\tapple\tmango\tpear\tapple\tmango\tpear\tapple\tmango\tpear\tapple\tmango\tpear\tapple\tmango\tpear\tapple\tmango\tpear\tapple\tmango\tpear\tapple\tmango\tpear\tapple\tmango\tpear\tapple\tmango\tpear\tapple\tmango\tpear\tapple\tmango\tpear\tapple\tmango\tpear\tapple\tmango\tpear\tapple\tmango\tpear\tapple\tmango\tpear\tapple\tmango\tpear\tapple\tmango\tpear\tapple\tmango\tpear\tapple\tmango\tpear\tapple\tmango\tpear\tapple\tmango\tpear\tapple\tmango\tpear\tapple\tmango\tpear\tapple\tmango\tpear\tapple\tmango\tpear\tapple\tmango\tpear\tapple\tmango\tpear\tapple\tmango\tpear\tapple\tmango\tpear\tapple\tmango\tpear\tapple\tmango\tpear\tapple\tmango\tpear\tapple\tmango\tpear\tapple\tmango\tpear\tapple\tmango\tpear\tapple\tmango\tpear\tapple\tmango\tpear\tapple\tmango\tpear\tapple\tmango\tpear\tapple\tmango\tpear\tapple\tmango\tpear\tapple\tmango\tpear\tapple\tmango\tpear\tapple\tmango\tpear\tapple\tmango\tpear\tapple\tmango\tpear\tapple\tmango\tpear\tapple\tmango\tpear\tapple\tmango\tpear\tapple\tmango\tpear\tapple\tmango\tpear\tapple\tmango\tpear\tapple\tmango\tpear\tapple\tmango\tpear\tapple\tmango\tpear\tapple\tmango\tpear\tapple\tmango\tpear\tapple\tmango\tpear\tapple\tmango\tpear\tapple\tmango\tpear\tapple\tmango\tpear\tapple\tmango\tpear\tapple\tmango\tpear\tapple\tmango\tpear\tapple\tmango\tpear\tapple\tmango\tpear\tapple\tmango\tpear\tapple\tmango\tpear\tapple\tmango\tpear\tapple\tmango\tpear\tapple\tmango\tpear\tapple\tmango\tpear\tapple\tmango\tpear\tapple\tmango\tpear\tapple\tmango\tpear\tapple\tmango\tpear\tapple\tmango\tpear\tapple\tmango\tpear\tapple\tmango\tpear\tapple\tmango\tpear\tapple\tmango\tpear\tapple\tmango\tpear\tapple\tmango\tpear\tapple\tmango\tpear\tapple\tmango\tpear\tapple\tmango\tpear\tapple\tmango\tpear\tapple\tmango\tpear\tapple\tmango\tpear\tapple\tmango\tpear\tapple\tmango\tpear\tapple\tmango\tpear\tapple\tmango\tpear\tapple\tmango\tpear\tapple\tmango\tpear\tapple\tmango\tpear\tapple\tmango\tpear\tapple\tmango\tpear\tapple\tmango\tpear\tapple\tmango\tpear\tapple\tmango\tpear\tapple\tmango\tpear\tapple\tmango\tpear\tapple\tmango\tpear\tapple\tmango\tpear\tapple\tmango\tpear\tapple\tmango\tpear\tapple\tmango\tpear\tapple\tmango\tpear\tapple\tmango\tpear\tapple\tmango\tpear\tapple\tmango\tpear\tapple\tmango\tpear\tapple\tmango\tpear\tapple\tmango\tpear\tapple\tmango\tpear\tapple\tmango\tpear\tapple\tmango\tpear\tapple\tmango\tpear\tapple\tmango\tpear\tapple\tmango\tpear\tapple\tmango\tpear\tapple\tmango\tpear\tapple\tmango\tpear\tapple\tmango\tpear\tapple\tmango\tpear\tapple\tmango\tpear\tapple\tmango\tpear\tapple\tmango\tpear\tapple\tmango\tpear\tapple\tmango\tpear\tapple\tmango\tpear\tapple\tmango\tpear\tapple\tmango\tpear\tapple\tmango\tpear\tapple\tmango\tpear\tapple\tmango\tpear\tapple\tmango\tpear\tapple\tmango\tpear\tapple\tmango\tpear\tapple\tmango\tpear\tapple\tmango\tpear\tapple\tmango\tpear\tapple\tmango\tpear\tapple\tmango\tpear\tapple\tmango\tpear\tapple\tmango\tpear\tapple\tmango\tpear\tapple\tmango\tpear\tapple\tmango\tpear\tapple\tmango\tpear\tapple\tmango\tpear\tapple\tmango\tpear\tapple\tmango\tpear\tapple\tmango\tpear\tapple\tmango\tpear\tapple\tmango\tpear\tapple\tmango\tpear\tapple\tmango\tpear\tapple\tmango\tpear\tapple\tmango\tpear\tapple\tmango\tpear\tapple\tmango\tpear\tapple\tmango\tpear\tapple\tmango\tpear\tapple\tmango\tpear\tapple\tmango\tpear\tapple\tmango\tpear\tapple\tmango\tpear\tapple\tmango\tpear\tapple\tmango\tpear\tapple\tmango\tpear\tapple\tmango\tpear\tapple\tmango\tpear\tapple\tmango\tpear\tapple\tmango\tpear\tapple\tmango\tpear\tapple\tmango\tpear\tapple\tmango\tpear\tapple\tmango\tpear\tapple\tmango\tpear\tapple\tmango\tpear\tapple\tmango\tpear\tapple\tmango\tpear\tapple\tmango\tpear\tapple\tmango\tpear\tapple\tmango\tpear\tapple\tmango\tpear\tapple\tmango\tpear\tapple\tmango\tpear\tapple\tmango\tpear\tapple\tmango\tpear\tapple\tmango\tpear\tapple\tmango\tpear\tapple\tmango\tpear\tapple\tmango\tpear\tapple\tmango\tpear\tapple\tmango\tpear\tapple\tmango\tpear\tapple\tmango\tpear\tapple\tmango\tpear\tapple\tmango\tpear\tapple\tmango\tpear\tapple\tmango\tpear\tapple\tmango\tpear\tapple\tmango\tpear\tapple\tmango\tpear\tapple\tmango\tpear\tapple\tmango\tpear\tapple\tmango\tpear\tapple\tmango\tpear\tapple\tmango\tpear\tapple\tmango\tpear\tapple\tmango\tpear\tapple\tmango\tpear\tapple\tmango\tpear\tapple\tmango\tpear\tapple\tmango\tpear\tapple\tmango\tpear\tapple\tmango\tpear\tapple\tmango\tpear\tapple\tmango\tpear\tapple\tmango\tpear\tapple\tmango\tpear\tapple\tmango\tpear\tapple\tmango\tpear\tapple\tmango\tpear\tapple\tmango\tpear\tapple\tmango\tpear\tapple\tmango\tpear\tapple\tmango\tpear\tapple\tmango\tpear\tapple\tmango\tpear\tapple\tmango\tpear\tapple\tmango\tpear\tapple\tmango\tpear\tapple\tmango\tpear\tapple\tmango\tpear\tapple\tmango\tpear\tapple\tmango\tpear\tapple\tmango\tpear\tapple\tmango\tpear\tapple\tmango\tpear\tapple\tmango\tpear\tapple\tmango\tpear\tapple\tmango\tpear\tapple\tmango\tpear\tapple\tmango\tpear\tapple\tmango\tpear\tapple\tmango\tpear\tapple\tmango\tpear\tapple\tmango\tpear\tapple\tmango\tpear\tapple\tmango\tpear\tapple\tmango\tpear\tapple\tmango\tpear\tapple\tmango\tpear\tapple\tmango\tpear\tapple\tmango\tpear\tapple\tmango\tpear\tapple\tmango\tpear\tapple\tmango\tpear\tapple\tmango\tpear\tapple\tmango\tpear\tapple\tmango\tpear\tapple\tmango\tpear\tapple\tmango\tpear\tapple\tmango\tpear\tapple\tmango\tpear\tapple\tmango\tpear\tapple\tmango\tpear\tapple\tmango\tpear\tapple\tmango\tpear\tapple\tmango\tpear\tapple\tmango\tpear\tapple\tmango\tpear\tapple\tmango\tpear\tapple\tmango\tpear\tapple\tmango\tpear\tapple\tmango\tpear\tapple\tmango\tpear\tapple\tmango\tpear\tapple\tmango\tpear\tapple\tmango\tpear\tapple\tmango\tpear\tapple\tmango\tpear\tapple\tmango\tpear\tapple\tmango\tpear\tapple\tmango\tpear\tapple\tmango\tpear\tapple\tmango\tpear\tapple\tmango\tpear\tapple\tmango\tpear\tapple\tmango\tpear\tapple\tmango\tpear\tapple\tmango\tpear\tapple\tmango\tpear\tapple\tmango\tpear\tapple\tmango\tpear\tapple\tmango\tpear\tapple\tmango\tpear\tapple\tmango\tpear\tapple\tmango\tpear\tapple\tmango\tpear\tapple\tmango\tpear\tapple\tmango\tpear\tapple\tmango\tpear\tapple\tmango\tpear\tapple\tmango\tpear\tapple\tmango\tpear\tapple\tmango\tpear\tapple\tmango\tpear\tapple\tmango\tpear\tapple\tmango\tpear\tapple\tmango\tpear\tapple\tmango\tpear\tapple\tmango\tpear\tapple\tmango\tpear\tapple\tmango\tpear\tapple\tmango\tpear\tapple\tmango\tpear\tapple\tmango\tpear\tapple\tmango\tpear\tapple\tmango\tpear\tapple\tmango\tpear\tapple\tmango\tpear\tapple\tmango\tpear\tapple\tmango\tpear\tapple\tmango\tpear"
     ]
    },
    {
     "name": "stdout",
     "output_type": "stream",
     "text": [
      "\tapple\tmango\tpear\tapple\tmango\tpear\tapple\tmango\tpear\tapple\tmango\tpear\tapple\tmango\tpear\tapple\tmango\tpear\tapple\tmango\tpear\tapple\tmango\tpear\tapple\tmango\tpear\tapple\tmango\tpear\tapple\tmango\tpear\tapple\tmango\tpear\tapple\tmango\tpear\tapple\tmango\tpear\tapple\tmango\tpear\tapple\tmango\tpear\tapple\tmango\tpear\tapple\tmango\tpear\tapple\tmango\tpear\tapple\tmango\tpear\tapple\tmango\tpear\tapple\tmango\tpear\tapple\tmango\tpear\tapple\tmango\tpear\tapple\tmango\tpear\tapple\tmango\tpear\tapple\tmango\tpear\tapple\tmango\tpear\tapple\tmango\tpear\tapple\tmango\tpear\tapple\tmango\tpear\tapple\tmango\tpear\tapple\tmango\tpear\tapple\tmango\tpear\tapple\tmango\tpear\tapple\tmango\tpear\tapple\tmango\tpear\tapple\tmango\tpear\tapple\tmango\tpear\tapple\tmango\tpear\tapple\tmango\tpear\tapple\tmango\tpear\tapple\tmango\tpear\tapple\tmango\tpear\tapple\tmango\tpear\tapple\tmango\tpear\tapple\tmango\tpear\tapple\tmango\tpear\tapple\tmango\tpear\tapple\tmango\tpear\tapple\tmango\tpear\tapple\tmango\tpear\tapple\tmango\tpear\tapple\tmango\tpear\tapple\tmango\tpear\tapple\tmango\tpear\tapple\tmango\tpear\tapple\tmango\tpear\tapple\tmango\tpear\tapple\tmango\tpear\tapple\tmango\tpear\tapple\tmango\tpear\tapple\tmango\tpear\tapple\tmango\tpear\tapple\tmango\tpear\tapple\tmango\tpear\tapple\tmango\tpear\tapple\tmango\tpear\tapple\tmango\tpear\tapple\tmango\tpear\tapple\tmango\tpear\tapple\tmango\tpear\tapple\tmango\tpear\tapple\tmango\tpear\tapple\tmango\tpear\tapple\tmango\tpear\tapple\tmango\tpear\tapple\tmango\tpear\tapple\tmango\tpear\tapple\tmango\tpear\tapple\tmango\tpear\tapple\tmango\tpear\tapple\tmango\tpear\tapple\tmango\tpear\tapple\tmango\tpear\tapple\tmango\tpear\tapple\tmango\tpear\tapple\tmango\tpear\tapple\tmango\tpear\tapple\tmango\tpear\tapple\tmango\tpear\tapple\tmango\tpear\tapple\tmango\tpear\tapple\tmango\tpear\tapple\tmango\tpear\tapple\tmango\tpear\tapple\tmango\tpear\tapple\tmango\tpear\tapple\tmango\tpear\tapple\tmango\tpear\tapple\tmango\tpear\tapple\tmango\tpear\tapple\tmango\tpear\tapple\tmango\tpear\tapple\tmango\tpear\tapple\tmango\tpear\tapple\tmango\tpear\tapple\tmango\tpear\tapple\tmango\tpear\tapple\tmango\tpear\tapple\tmango\tpear\tapple\tmango\tpear\tapple\tmango\tpear\tapple\tmango\tpear\tapple\tmango\tpear\tapple\tmango\tpear\tapple\tmango\tpear\tapple\tmango\tpear\tapple\tmango\tpear\tapple\tmango\tpear\tapple\tmango\tpear\tapple\tmango\tpear\tapple\tmango\tpear\tapple\tmango\tpear\tapple\tmango\tpear\tapple\tmango\tpear\tapple\tmango\tpear\tapple\tmango\tpear\tapple\tmango\tpear\tapple\tmango\tpear\tapple\tmango\tpear\tapple\tmango\tpear\tapple\tmango\tpear\tapple\tmango\tpear\tapple\tmango\tpear\tapple\tmango\tpear\tapple\tmango\tpear\tapple\tmango\tpear\tapple\tmango\tpear\tapple\tmango\tpear\tapple\tmango\tpear\tapple\tmango\tpear\tapple\tmango\tpear\tapple\tmango\tpear\tapple\tmango\tpear\tapple\tmango\tpear\tapple\tmango\tpear\tapple\tmango\tpear\tapple\tmango\tpear\tapple\tmango\tpear\tapple\tmango\tpear\tapple\tmango\tpear\tapple\tmango\tpear\tapple\tmango\tpear\tapple\tmango\tpear\tapple\tmango\tpear\tapple\tmango\tpear\tapple\tmango\tpear\tapple\tmango\tpear\tapple\tmango\tpear\tapple\tmango\tpear\tapple\tmango\tpear\tapple\tmango\tpear\tapple\tmango\tpear\tapple\tmango\tpear\tapple\tmango\tpear\tapple\tmango\tpear\tapple\tmango\tpear\tapple\tmango\tpear\tapple\tmango\tpear\tapple\tmango\tpear\tapple\tmango\tpear\tapple\tmango\tpear\tapple\tmango\tpear\tapple\tmango\tpear\tapple\tmango\tpear\tapple\tmango\tpear\tapple\tmango\tpear\tapple\tmango\tpear\tapple\tmango\tpear\tapple\tmango\tpear\tapple\tmango\tpear\tapple\tmango\tpear\tapple\tmango\tpear\tapple\tmango\tpear\tapple\tmango\tpear\tapple\tmango\tpear\tapple\tmango\tpear\tapple\tmango\tpear\tapple\tmango\tpear\tapple\tmango\tpear\tapple\tmango\tpear\tapple\tmango\tpear\tapple\tmango\tpear\tapple\tmango\tpear\tapple\tmango\tpear\tapple\tmango\tpear\tapple\tmango\tpear\tapple\tmango\tpear\tapple\tmango\tpear\tapple\tmango\tpear\tapple\tmango\tpear\tapple\tmango\tpear\tapple\tmango\tpear\tapple\tmango\tpear\tapple\tmango\tpear\tapple\tmango\tpear\tapple\tmango\tpear\tapple\tmango\tpear\tapple\tmango\tpear\tapple\tmango\tpear\tapple\tmango\tpear\tapple\tmango\tpear\tapple\tmango\tpear\tapple\tmango\tpear\tapple\tmango\tpear\tapple\tmango\tpear\tapple\tmango\tpear\tapple\tmango\tpear\tapple\tmango\tpear\tapple\tmango\tpear\tapple\tmango\tpear\tapple\tmango\tpear\tapple\tmango\tpear\tapple\tmango\tpear\tapple\tmango\tpear\tapple\tmango\tpear\tapple\tmango\tpear\tapple\tmango\tpear\tapple\tmango\tpear\tapple\tmango\tpear\tapple\tmango\tpear\tapple\tmango\tpear\tapple\tmango\tpear\tapple\tmango\tpear\tapple\tmango\tpear\tapple\tmango\tpear\tapple\tmango\tpear\tapple\tmango\tpear\tapple\tmango\tpear\tapple\tmango\tpear\tapple\tmango\tpear\tapple\tmango\tpear\tapple\tmango\tpear\tapple\tmango\tpear\tapple\tmango\tpear\tapple\tmango\tpear\tapple\tmango\tpear\tapple\tmango\tpear\tapple\tmango\tpear\tapple\tmango\tpear\tapple\tmango\tpear\tapple\tmango\tpear\tapple\tmango\tpear\tapple\tmango\tpear\tapple\tmango\tpear\tapple\tmango\tpear\tapple\tmango\tpear\tapple\tmango\tpear\tapple\tmango\tpear\tapple\tmango\tpear\tapple\tmango\tpear\tapple\tmango\tpear\tapple\tmango\tpear\tapple\tmango\tpear\tapple\tmango\tpear\tapple\tmango\tpear\tapple\tmango\tpear\tapple\tmango\tpear\tapple\tmango\tpear\tapple\tmango\tpear\tapple\tmango\tpear\tapple\tmango\tpear\tapple\tmango\tpear\tapple\tmango\tpear\tapple\tmango\tpear\tapple\tmango\tpear\tapple\tmango\tpear\tapple\tmango\tpear\tapple\tmango\tpear\tapple\tmango\tpear\tapple\tmango\tpear\tapple\tmango\tpear\tapple\tmango\tpear\tapple\tmango\tpear\tapple\tmango\tpear\tapple\tmango\tpear\tapple\tmango\tpear\tapple\tmango\tpear\tapple\tmango\tpear\tapple\tmango\tpear\tapple\tmango\tpear\tapple\tmango\tpear\tapple\tmango\tpear\tapple\tmango\tpear\tapple\tmango\tpear\tapple\tmango\tpear\tapple\tmango\tpear\tapple\tmango\tpear\tapple\tmango\tpear\tapple\tmango\tpear\tapple\tmango\tpear\tapple\tmango\tpear\tapple\tmango\tpear\tapple\tmango\tpear\tapple\tmango\tpear\tapple\tmango\tpear\tapple\tmango\tpear\tapple\tmango\tpear\tapple\tmango\tpear\tapple\tmango\tpear\tapple\tmango\tpear\tapple\tmango\tpear\tapple\tmango\tpear\tapple\tmango\tpear\tapple\tmango\tpear\tapple\tmango\tpear\tapple\tmango\tpear\tapple\tmango\tpear\tapple\tmango\tpear\tapple\tmango\tpear\tapple\tmango\tpear\tapple\tmango\tpear\tapple\tmango\tpear\tapple\tmango\tpear\tapple\tmango\tpear\tapple\tmango\tpear\tapple\tmango\tpear\tapple\tmango\tpear\tapple\tmango\tpear\tapple\tmango\tpear\tapple\tmango\tpear\tapple\tmango\tpear\tapple\tmango\tpear\tapple\tmango\tpear\tapple\tmango\tpear\tapple\tmango\tpear\tapple\tmango\tpear\tapple\tmango\tpear\tapple\tmango\tpear\tapple\tmango\tpear\tapple\tmango\tpear\tapple\tmango\tpear\tapple\tmango\tpear\tapple\tmango\tpear\tapple\tmango\tpear\tapple\tmango\tpear\tapple\tmango\tpear\tapple\tmango\tpear\tapple\tmango\tpear\tapple\tmango\tpear\tapple\tmango\tpear\tapple\tmango\tpear\tapple\tmango\tpear\tapple\tmango\tpear\tapple\tmango\tpear\tapple\tmango\tpear\tapple\tmango\tpear\tapple\tmango\tpear\tapple\tmango\tpear\tapple\tmango\tpear\tapple\tmango\tpear\tapple\tmango\tpear\tapple\tmango\tpear\tapple\tmango\tpear\tapple\tmango\tpear\tapple\tmango\tpear\tapple\tmango\tpear\tapple\tmango\tpear\tapple\tmango\tpear\tapple\tmango\tpear\tapple\tmango\tpear\tapple\tmango\tpear\tapple\tmango\tpear\tapple\tmango\tpear\tapple\tmango\tpear\tapple\tmango\tpear\tapple\tmango\tpear\tapple\tmango\tpear\tapple\tmango\tpear\tapple\tmango\tpear\tapple\tmango\tpear\tapple\tmango\tpear\tapple\tmango\tpear\tapple\tmango\tpear\tapple\tmango\tpear\tapple\tmango\tpear\tapple\tmango\tpear\tapple\tmango\tpear\tapple\tmango\tpear\tapple\tmango\tpear\tapple\tmango\tpear\tapple\tmango\tpear\tapple\tmango\tpear\tapple\tmango\tpear\tapple\tmango\tpear\tapple\tmango\tpear\tapple\tmango\tpear\tapple\tmango\tpear\tapple\tmango\tpear\tapple\tmango\tpear\tapple\tmango\tpear\tapple\tmango\tpear\tapple\tmango\tpear\tapple\tmango\tpear\tapple\tmango\tpear\tapple\tmango\tpear\tapple\tmango\tpear\tapple\tmango\tpear\tapple\tmango\tpear\tapple\tmango\tpear\tapple\tmango\tpear\tapple\tmango\tpear\tapple\tmango\tpear\tapple\tmango\tpear\tapple\tmango\tpear\tapple\tmango\tpear\tapple\tmango\tpear\tapple\tmango\tpear\tapple\tmango\tpear\tapple\tmango\tpear\tapple\tmango\tpear\tapple\tmango\tpear\tapple\tmango\tpear\tapple\tmango\tpear\tapple\tmango\tpear\tapple\tmango\tpear\tapple\tmango\tpear\tapple\tmango\tpear\tapple\tmango\tpear\tapple\tmango\tpear\tapple\tmango\tpear\tapple\tmango\tpear\tapple\tmango\tpear\tapple\tmango\tpear\tapple\tmango\tpear\tapple\tmango\tpear\tapple\tmango\tpear\tapple\tmango\tpear\tapple\tmango\tpear\tapple\tmango\tpear\tapple\tmango\tpear\tapple\tmango\tpear\tapple\tmango\tpear\tapple\tmango\tpear\tapple\tmango\tpear\tapple\tmango\tpear\tapple\tmango\tpear\tapple\tmango\tpear\tapple\tmango\tpear\tapple\tmango\tpear\tapple\tmango\tpear\tapple\tmango\tpear\tapple\tmango\tpear\tapple\tmango\tpear\tapple\tmango\tpear\tapple\tmango\tpear\tapple\tmango\tpear\tapple\tmango\tpear\tapple\tmango\tpear\tapple\tmango\tpear\tapple\tmango\tpear\tapple\tmango\tpear\tapple\tmango\tpear\tapple\tmango\tpear\tapple\tmango\tpear\tapple\tmango\tpear\tapple\tmango\tpear\tapple\tmango\tpear\tapple\tmango\tpear\tapple\tmango\tpear\tapple\tmango\tpear\tapple\tmango\tpear\tapple\tmango\tpear\tapple\tmango\tpear\tapple\tmango\tpear\tapple\tmango\tpear\tapple\tmango\tpear\tapple\tmango\tpear\tapple\tmango\tpear\tapple\tmango\tpear\tapple\tmango\tpear\tapple\tmango\tpear\tapple\tmango\tpear\tapple\tmango\tpear\tapple\tmango\tpear\tapple\tmango\tpear\tapple\tmango\tpear\tapple\tmango\tpear\tapple\tmango\tpear\tapple\tmango\tpear\tapple\tmango\tpear\tapple\tmango\tpear\tapple\tmango\tpear\tapple\tmango\tpear\tapple\tmango\tpear\tapple\tmango\tpear\tapple\tmango\tpear\tapple\tmango\tpear\tapple\t"
     ]
    },
    {
     "ename": "KeyboardInterrupt",
     "evalue": "",
     "output_type": "error",
     "traceback": [
      "\u001b[1;31m---------------------------------------------------------------------------\u001b[0m",
      "\u001b[1;31mKeyboardInterrupt\u001b[0m                         Traceback (most recent call last)",
      "\u001b[1;32m<ipython-input-11-e13c7337700f>\u001b[0m in \u001b[0;36m<module>\u001b[1;34m()\u001b[0m\n\u001b[0;32m      1\u001b[0m \u001b[0mfruits\u001b[0m \u001b[1;33m=\u001b[0m \u001b[1;33m[\u001b[0m\u001b[1;34m'apple'\u001b[0m\u001b[1;33m,\u001b[0m \u001b[1;34m'mango'\u001b[0m\u001b[1;33m,\u001b[0m \u001b[1;34m'pear'\u001b[0m\u001b[1;33m]\u001b[0m\u001b[1;33m\u001b[0m\u001b[0m\n\u001b[0;32m      2\u001b[0m \u001b[1;32mfor\u001b[0m \u001b[0mfrts\u001b[0m \u001b[1;32min\u001b[0m \u001b[0mitertools\u001b[0m\u001b[1;33m.\u001b[0m\u001b[0mcycle\u001b[0m\u001b[1;33m(\u001b[0m\u001b[0mfruits\u001b[0m\u001b[1;33m)\u001b[0m\u001b[1;33m:\u001b[0m\u001b[1;33m\u001b[0m\u001b[0m\n\u001b[1;32m----> 3\u001b[1;33m     \u001b[0mprint\u001b[0m\u001b[1;33m(\u001b[0m\u001b[0mfrts\u001b[0m\u001b[1;33m,\u001b[0m\u001b[0mend\u001b[0m\u001b[1;33m=\u001b[0m\u001b[1;34m\"\\t\"\u001b[0m\u001b[1;33m)\u001b[0m\u001b[1;33m\u001b[0m\u001b[0m\n\u001b[0m",
      "\u001b[1;32mC:\\ProgramData\\Anaconda3\\lib\\site-packages\\ipykernel\\iostream.py\u001b[0m in \u001b[0;36mwrite\u001b[1;34m(self, string)\u001b[0m\n\u001b[0;32m    374\u001b[0m             \u001b[0mis_child\u001b[0m \u001b[1;33m=\u001b[0m \u001b[1;33m(\u001b[0m\u001b[1;32mnot\u001b[0m \u001b[0mself\u001b[0m\u001b[1;33m.\u001b[0m\u001b[0m_is_master_process\u001b[0m\u001b[1;33m(\u001b[0m\u001b[1;33m)\u001b[0m\u001b[1;33m)\u001b[0m\u001b[1;33m\u001b[0m\u001b[0m\n\u001b[0;32m    375\u001b[0m             \u001b[1;31m# only touch the buffer in the IO thread to avoid races\u001b[0m\u001b[1;33m\u001b[0m\u001b[1;33m\u001b[0m\u001b[0m\n\u001b[1;32m--> 376\u001b[1;33m             \u001b[0mself\u001b[0m\u001b[1;33m.\u001b[0m\u001b[0mpub_thread\u001b[0m\u001b[1;33m.\u001b[0m\u001b[0mschedule\u001b[0m\u001b[1;33m(\u001b[0m\u001b[1;32mlambda\u001b[0m \u001b[1;33m:\u001b[0m \u001b[0mself\u001b[0m\u001b[1;33m.\u001b[0m\u001b[0m_buffer\u001b[0m\u001b[1;33m.\u001b[0m\u001b[0mwrite\u001b[0m\u001b[1;33m(\u001b[0m\u001b[0mstring\u001b[0m\u001b[1;33m)\u001b[0m\u001b[1;33m)\u001b[0m\u001b[1;33m\u001b[0m\u001b[0m\n\u001b[0m\u001b[0;32m    377\u001b[0m             \u001b[1;32mif\u001b[0m \u001b[0mis_child\u001b[0m\u001b[1;33m:\u001b[0m\u001b[1;33m\u001b[0m\u001b[0m\n\u001b[0;32m    378\u001b[0m                 \u001b[1;31m# newlines imply flush in subprocesses\u001b[0m\u001b[1;33m\u001b[0m\u001b[1;33m\u001b[0m\u001b[0m\n",
      "\u001b[1;32mC:\\ProgramData\\Anaconda3\\lib\\site-packages\\ipykernel\\iostream.py\u001b[0m in \u001b[0;36mschedule\u001b[1;34m(self, f)\u001b[0m\n\u001b[0;32m    201\u001b[0m             \u001b[0mself\u001b[0m\u001b[1;33m.\u001b[0m\u001b[0m_events\u001b[0m\u001b[1;33m.\u001b[0m\u001b[0mappend\u001b[0m\u001b[1;33m(\u001b[0m\u001b[0mf\u001b[0m\u001b[1;33m)\u001b[0m\u001b[1;33m\u001b[0m\u001b[0m\n\u001b[0;32m    202\u001b[0m             \u001b[1;31m# wake event thread (message content is ignored)\u001b[0m\u001b[1;33m\u001b[0m\u001b[1;33m\u001b[0m\u001b[0m\n\u001b[1;32m--> 203\u001b[1;33m             \u001b[0mself\u001b[0m\u001b[1;33m.\u001b[0m\u001b[0m_event_pipe\u001b[0m\u001b[1;33m.\u001b[0m\u001b[0msend\u001b[0m\u001b[1;33m(\u001b[0m\u001b[1;34mb''\u001b[0m\u001b[1;33m)\u001b[0m\u001b[1;33m\u001b[0m\u001b[0m\n\u001b[0m\u001b[0;32m    204\u001b[0m         \u001b[1;32melse\u001b[0m\u001b[1;33m:\u001b[0m\u001b[1;33m\u001b[0m\u001b[0m\n\u001b[0;32m    205\u001b[0m             \u001b[0mf\u001b[0m\u001b[1;33m(\u001b[0m\u001b[1;33m)\u001b[0m\u001b[1;33m\u001b[0m\u001b[0m\n",
      "\u001b[1;32mC:\\ProgramData\\Anaconda3\\lib\\site-packages\\zmq\\sugar\\socket.py\u001b[0m in \u001b[0;36msend\u001b[1;34m(self, data, flags, copy, track, routing_id, group)\u001b[0m\n\u001b[0;32m    389\u001b[0m                                  copy_threshold=self.copy_threshold)\n\u001b[0;32m    390\u001b[0m             \u001b[0mdata\u001b[0m\u001b[1;33m.\u001b[0m\u001b[0mgroup\u001b[0m \u001b[1;33m=\u001b[0m \u001b[0mgroup\u001b[0m\u001b[1;33m\u001b[0m\u001b[0m\n\u001b[1;32m--> 391\u001b[1;33m         \u001b[1;32mreturn\u001b[0m \u001b[0msuper\u001b[0m\u001b[1;33m(\u001b[0m\u001b[0mSocket\u001b[0m\u001b[1;33m,\u001b[0m \u001b[0mself\u001b[0m\u001b[1;33m)\u001b[0m\u001b[1;33m.\u001b[0m\u001b[0msend\u001b[0m\u001b[1;33m(\u001b[0m\u001b[0mdata\u001b[0m\u001b[1;33m,\u001b[0m \u001b[0mflags\u001b[0m\u001b[1;33m=\u001b[0m\u001b[0mflags\u001b[0m\u001b[1;33m,\u001b[0m \u001b[0mcopy\u001b[0m\u001b[1;33m=\u001b[0m\u001b[0mcopy\u001b[0m\u001b[1;33m,\u001b[0m \u001b[0mtrack\u001b[0m\u001b[1;33m=\u001b[0m\u001b[0mtrack\u001b[0m\u001b[1;33m)\u001b[0m\u001b[1;33m\u001b[0m\u001b[0m\n\u001b[0m\u001b[0;32m    392\u001b[0m \u001b[1;33m\u001b[0m\u001b[0m\n\u001b[0;32m    393\u001b[0m     \u001b[1;32mdef\u001b[0m \u001b[0msend_multipart\u001b[0m\u001b[1;33m(\u001b[0m\u001b[0mself\u001b[0m\u001b[1;33m,\u001b[0m \u001b[0mmsg_parts\u001b[0m\u001b[1;33m,\u001b[0m \u001b[0mflags\u001b[0m\u001b[1;33m=\u001b[0m\u001b[1;36m0\u001b[0m\u001b[1;33m,\u001b[0m \u001b[0mcopy\u001b[0m\u001b[1;33m=\u001b[0m\u001b[1;32mTrue\u001b[0m\u001b[1;33m,\u001b[0m \u001b[0mtrack\u001b[0m\u001b[1;33m=\u001b[0m\u001b[1;32mFalse\u001b[0m\u001b[1;33m,\u001b[0m \u001b[1;33m**\u001b[0m\u001b[0mkwargs\u001b[0m\u001b[1;33m)\u001b[0m\u001b[1;33m:\u001b[0m\u001b[1;33m\u001b[0m\u001b[0m\n",
      "\u001b[1;32mzmq/backend/cython/socket.pyx\u001b[0m in \u001b[0;36mzmq.backend.cython.socket.Socket.send\u001b[1;34m()\u001b[0m\n",
      "\u001b[1;32mzmq/backend/cython/socket.pyx\u001b[0m in \u001b[0;36mzmq.backend.cython.socket.Socket.send\u001b[1;34m()\u001b[0m\n",
      "\u001b[1;32mzmq/backend/cython/socket.pyx\u001b[0m in \u001b[0;36mzmq.backend.cython.socket._send_copy\u001b[1;34m()\u001b[0m\n",
      "\u001b[1;32mC:\\ProgramData\\Anaconda3\\lib\\site-packages\\zmq\\backend\\cython\\checkrc.pxd\u001b[0m in \u001b[0;36mzmq.backend.cython.checkrc._check_rc\u001b[1;34m()\u001b[0m\n",
      "\u001b[1;31mKeyboardInterrupt\u001b[0m: "
     ]
    }
   ],
   "source": [
    "fruits = ['apple', 'mango', 'pear']\n",
    "for frts in itertools.cycle(fruits):\n",
    "    print(frts,end=\"\\t\")"
   ]
  },
  {
   "cell_type": "markdown",
   "metadata": {},
   "source": [
    "# chain()"
   ]
  },
  {
   "cell_type": "markdown",
   "metadata": {},
   "source": [
    "itertools.chain(*iterables) --> chain object\n",
    "\n",
    "chains all iterables into one iterable"
   ]
  },
  {
   "cell_type": "code",
   "execution_count": 2,
   "metadata": {},
   "outputs": [
    {
     "name": "stdout",
     "output_type": "stream",
     "text": [
      "apple\tmango\tpear\torange\tpineapple\tbanana\t"
     ]
    }
   ],
   "source": [
    "fruits = ['apple', 'mango', 'pear']\n",
    "more_fruits = ['orange','pineapple','banana']\n",
    "\n",
    "all_fruits = itertools.chain(fruits,more_fruits)\n",
    "for frts in all_fruits:\n",
    "    print(frts,end=\"\\t\")"
   ]
  },
  {
   "cell_type": "code",
   "execution_count": 3,
   "metadata": {},
   "outputs": [
    {
     "name": "stdout",
     "output_type": "stream",
     "text": [
      "apple\tmango\tpear\torange\tpineapple\tbanana\t"
     ]
    }
   ],
   "source": [
    "for frts in itertools.chain(fruits,more_fruits):\n",
    "    print(frts,end=\"\\t\")"
   ]
  },
  {
   "cell_type": "markdown",
   "metadata": {},
   "source": [
    "# repeat()"
   ]
  },
  {
   "cell_type": "code",
   "execution_count": 4,
   "metadata": {},
   "outputs": [
    {
     "name": "stdout",
     "output_type": "stream",
     "text": [
      "['apple', 'mango', 'pear']\t['apple', 'mango', 'pear']\t['apple', 'mango', 'pear']\t['apple', 'mango', 'pear']\t"
     ]
    }
   ],
   "source": [
    "for frts in itertools.repeat(fruits,4):\n",
    "    print(frts,end=\"\\t\")"
   ]
  },
  {
   "cell_type": "markdown",
   "metadata": {},
   "source": [
    "# compress()"
   ]
  },
  {
   "cell_type": "markdown",
   "metadata": {},
   "source": [
    "compress(data, selectors) --> iterator over selected data\n",
    "\n",
    "Return data elements corresponding to true selector elements.\n",
    "Forms a shorter iterator from selected data elements using the\n",
    "selectors to choose the data elements."
   ]
  },
  {
   "cell_type": "code",
   "execution_count": 6,
   "metadata": {},
   "outputs": [
    {
     "name": "stdout",
     "output_type": "stream",
     "text": [
      "apple\torange\tpineapple\t"
     ]
    }
   ],
   "source": [
    "fruits = ['apple', 'mango', 'pear','orange','pineapple','banana']\n",
    "selector=[True,False,False,True,True,False]\n",
    "itr = itertools.compress(fruits,selector)\n",
    "\n",
    "for frts in itr:\n",
    "    print(frts,end=\"\\t\")\n",
    "\n",
    "# only elements corresponding to True elements in selector \n",
    "# are returned from data"
   ]
  },
  {
   "cell_type": "markdown",
   "metadata": {},
   "source": [
    "# dropwhile()"
   ]
  },
  {
   "cell_type": "markdown",
   "metadata": {},
   "source": [
    "dropwhile(predicate, iterable) --> dropwhile object\n",
    "\n",
    "Drop items from the iterable while predicate(item) is true.\n",
    "Afterwards, return every element until the iterable is exhausted."
   ]
  },
  {
   "cell_type": "code",
   "execution_count": 9,
   "metadata": {},
   "outputs": [
    {
     "name": "stdout",
     "output_type": "stream",
     "text": [
      "5\t6\t7\t8\t9\t10\t1\t"
     ]
    }
   ],
   "source": [
    "data = [1, 2, 3, 4, 5, 6, 7, 8, 9, 10, 1]\n",
    "itr = itertools.dropwhile(lambda x: x<5, data)\n",
    "for i in itr:\n",
    "    print(i,end=\"\\t\")"
   ]
  },
  {
   "cell_type": "code",
   "execution_count": 12,
   "metadata": {},
   "outputs": [
    {
     "name": "stdout",
     "output_type": "stream",
     "text": [
      "['t', 'h', 'o', 'n']\n"
     ]
    }
   ],
   "source": [
    "print( list(itertools.dropwhile(lambda x : x != 't', 'python')))"
   ]
  },
  {
   "cell_type": "markdown",
   "metadata": {},
   "source": [
    "# takewhile"
   ]
  },
  {
   "cell_type": "markdown",
   "metadata": {},
   "source": [
    "takewhile(predicate, iterable) --> takewhile object\n",
    "\n",
    "Return successive entries from an iterable as long as the \n",
    "predicate evaluates to true for each entry."
   ]
  },
  {
   "cell_type": "code",
   "execution_count": 13,
   "metadata": {},
   "outputs": [
    {
     "name": "stdout",
     "output_type": "stream",
     "text": [
      "1\t2\t3\t4\t"
     ]
    }
   ],
   "source": [
    "data = [1, 2, 3, 4, 5, 6, 7, 8, 9, 10, 1]\n",
    "itr = itertools.takewhile(lambda x: x<5, data)\n",
    "for i in itr:\n",
    "    print(i,end=\"\\t\")"
   ]
  },
  {
   "cell_type": "code",
   "execution_count": 14,
   "metadata": {},
   "outputs": [
    {
     "name": "stdout",
     "output_type": "stream",
     "text": [
      "['p', 'y']\n"
     ]
    }
   ],
   "source": [
    "print( list(itertools.takewhile(lambda x : x != 't', 'python')))"
   ]
  },
  {
   "cell_type": "markdown",
   "metadata": {},
   "source": [
    "# filterfalse()"
   ]
  },
  {
   "cell_type": "markdown",
   "metadata": {},
   "source": [
    "filterfalse(function or None, sequence) --> filterfalse object\n",
    "\n",
    "Return those items of sequence for which function(item) is false.\n",
    "If function is None, return the items that are false."
   ]
  },
  {
   "cell_type": "code",
   "execution_count": 15,
   "metadata": {},
   "outputs": [
    {
     "name": "stdout",
     "output_type": "stream",
     "text": [
      "5\t6\t7\t8\t9\t10\t"
     ]
    }
   ],
   "source": [
    "data = [1, 2, 3, 4, 5, 6, 7, 8, 9, 10, 1]\n",
    "itr = itertools.filterfalse(lambda x: x<5, data)\n",
    "for i in itr:\n",
    "    print(i,end=\"\\t\")"
   ]
  },
  {
   "cell_type": "code",
   "execution_count": 16,
   "metadata": {},
   "outputs": [
    {
     "name": "stdout",
     "output_type": "stream",
     "text": [
      "['t']\n"
     ]
    }
   ],
   "source": [
    "print( list(itertools.filterfalse(lambda x : x != 't', 'python')))"
   ]
  },
  {
   "cell_type": "markdown",
   "metadata": {},
   "source": [
    "# groupby()"
   ]
  },
  {
   "cell_type": "markdown",
   "metadata": {},
   "source": [
    "groupby(iterable, key=None) -> make an iterator that returns consecutive\n",
    "keys and groups from the iterable.  If the key function is not specified or\n",
    "is None, the element itself is used for grouping."
   ]
  },
  {
   "cell_type": "code",
   "execution_count": 21,
   "metadata": {},
   "outputs": [
    {
     "name": "stdout",
     "output_type": "stream",
     "text": [
      "autobot\n",
      "[{'name': 'blaster', 'faction': 'autobot'}]\n",
      "decepticon\n",
      "[{'name': 'galvatron', 'faction': 'decepticon'}]\n",
      "autobot\n",
      "[{'name': 'jazz', 'faction': 'autobot'}, {'name': 'metroplex', 'faction': 'autobot'}]\n",
      "decepticon\n",
      "[{'name': 'megatron', 'faction': 'decepticon'}, {'name': 'starcream', 'faction': 'decepticon'}]\n",
      "[('autobot', <itertools._grouper object at 0x000000EE7E9309E8>), ('decepticon', <itertools._grouper object at 0x000000EE7E930A20>), ('autobot', <itertools._grouper object at 0x000000EE7E930A58>), ('decepticon', <itertools._grouper object at 0x000000EE7E930A90>)]\n"
     ]
    }
   ],
   "source": [
    "robots = [{\n",
    "    'name': 'blaster',\n",
    "    'faction': 'autobot'\n",
    "}, {\n",
    "    'name': 'galvatron',\n",
    "    'faction': 'decepticon'\n",
    "}, {\n",
    "    'name': 'jazz',\n",
    "    'faction': 'autobot'\n",
    "}, {\n",
    "    'name': 'metroplex',\n",
    "    'faction': 'autobot'\n",
    "}, {\n",
    "    'name': 'megatron',\n",
    "    'faction': 'decepticon'\n",
    "}, {\n",
    "    'name': 'starcream',\n",
    "    'faction': 'decepticon'\n",
    "}]\n",
    "for key, group in itertools.groupby(robots, key=lambda x: x['faction']):\n",
    "    print(key)\n",
    "    print(list(group))\n",
    "print(list(itertools.groupby(robots, key=lambda x: x['faction'])))"
   ]
  },
  {
   "cell_type": "code",
   "execution_count": 22,
   "metadata": {},
   "outputs": [
    {
     "name": "stdout",
     "output_type": "stream",
     "text": [
      "autobot\n",
      "[{'name': 'blaster', 'faction': 'autobot'}, {'name': 'jazz', 'faction': 'autobot'}, {'name': 'metroplex', 'faction': 'autobot'}]\n",
      "decepticon\n",
      "[{'name': 'galvatron', 'faction': 'decepticon'}, {'name': 'megatron', 'faction': 'decepticon'}, {'name': 'starcream', 'faction': 'decepticon'}]\n",
      "[('autobot', <itertools._grouper object at 0x000000EE7E930908>), ('decepticon', <itertools._grouper object at 0x000000EE7E930E48>)]\n"
     ]
    }
   ],
   "source": [
    "robots = [{\n",
    "    'name': 'blaster',\n",
    "    'faction': 'autobot'\n",
    "}, {\n",
    "    'name': 'galvatron',\n",
    "    'faction': 'decepticon'\n",
    "}, {\n",
    "    'name': 'jazz',\n",
    "    'faction': 'autobot'\n",
    "}, {\n",
    "    'name': 'metroplex',\n",
    "    'faction': 'autobot'\n",
    "}, {\n",
    "    'name': 'megatron',\n",
    "    'faction': 'decepticon'\n",
    "}, {\n",
    "    'name': 'starcream',\n",
    "    'faction': 'decepticon'\n",
    "}]\n",
    "\n",
    "robots.sort(key=lambda x: x['faction'])\n",
    "\n",
    "for key, group in itertools.groupby(robots, key=lambda x: x['faction']):\n",
    "    print(key)\n",
    "    print(list(group))\n",
    "print(list(itertools.groupby(robots, key=lambda x: x['faction'])))"
   ]
  },
  {
   "cell_type": "code",
   "execution_count": 13,
   "metadata": {},
   "outputs": [],
   "source": [
    "countries=[{\n",
    "    'name': 'USA',\n",
    "    'continent': 'North America'\n",
    "}, {\n",
    "    'name': 'India',\n",
    "    'continent': 'Asia'\n",
    "}, {\n",
    "    'name': 'UK',\n",
    "    'continent': 'Europe'\n",
    "}, {\n",
    "    'name': 'Russia',\n",
    "    'continent': 'Asia'\n",
    "}, {\n",
    "    'name': 'China',\n",
    "    'continent': 'Asia'\n",
    "}, {\n",
    "    'name': 'Canada',\n",
    "    'continent': 'North America'\n",
    "}]"
   ]
  },
  {
   "cell_type": "code",
   "execution_count": 5,
   "metadata": {},
   "outputs": [
    {
     "name": "stdout",
     "output_type": "stream",
     "text": [
      "[('North America', <itertools._grouper object at 0x0000000D80BB9F60>), ('Asia', <itertools._grouper object at 0x0000000D8005C668>), ('Europe', <itertools._grouper object at 0x0000000D8005C6A0>), ('Asia', <itertools._grouper object at 0x0000000D8005C6D8>), ('North America', <itertools._grouper object at 0x0000000D8005C710>)]\n"
     ]
    }
   ],
   "source": [
    "print(list(itertools.groupby(countries, key=lambda x: x['continent'])))"
   ]
  },
  {
   "cell_type": "code",
   "execution_count": 14,
   "metadata": {},
   "outputs": [
    {
     "name": "stdout",
     "output_type": "stream",
     "text": [
      "North America : [{'name': 'USA', 'continent': 'North America'}]\n",
      "Asia : [{'name': 'India', 'continent': 'Asia'}]\n",
      "Europe : [{'name': 'UK', 'continent': 'Europe'}]\n",
      "Asia : [{'name': 'Russia', 'continent': 'Asia'}, {'name': 'China', 'continent': 'Asia'}]\n",
      "North America : [{'name': 'Canada', 'continent': 'North America'}]\n"
     ]
    }
   ],
   "source": [
    "for key, group in itertools.groupby(countries, key=lambda x: x['continent']):\n",
    "    print(key + ' : ',end='') \n",
    "    print(list(group))"
   ]
  },
  {
   "cell_type": "code",
   "execution_count": 16,
   "metadata": {},
   "outputs": [],
   "source": [
    "countries.sort(key=lambda x: x['continent'])"
   ]
  },
  {
   "cell_type": "code",
   "execution_count": 17,
   "metadata": {},
   "outputs": [
    {
     "name": "stdout",
     "output_type": "stream",
     "text": [
      "Asia : [{'name': 'India', 'continent': 'Asia'}, {'name': 'Russia', 'continent': 'Asia'}, {'name': 'China', 'continent': 'Asia'}]\n",
      "Europe : [{'name': 'UK', 'continent': 'Europe'}]\n",
      "North America : [{'name': 'USA', 'continent': 'North America'}, {'name': 'Canada', 'continent': 'North America'}]\n"
     ]
    }
   ],
   "source": [
    "for key, group in itertools.groupby(countries, key=lambda x: x['continent']):\n",
    "    print(key + ' : ',end='')\n",
    "    print(list(group))"
   ]
  },
  {
   "cell_type": "code",
   "execution_count": null,
   "metadata": {},
   "outputs": [],
   "source": []
  }
 ],
 "metadata": {
  "kernelspec": {
   "display_name": "Python 3",
   "language": "python",
   "name": "python3"
  },
  "language_info": {
   "codemirror_mode": {
    "name": "ipython",
    "version": 3
   },
   "file_extension": ".py",
   "mimetype": "text/x-python",
   "name": "python",
   "nbconvert_exporter": "python",
   "pygments_lexer": "ipython3",
   "version": "3.6.5"
  }
 },
 "nbformat": 4,
 "nbformat_minor": 2
}
