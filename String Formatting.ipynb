{
 "cells": [
  {
   "cell_type": "markdown",
   "metadata": {},
   "source": [
    "# String Formatting"
   ]
  },
  {
   "cell_type": "code",
   "execution_count": 1,
   "metadata": {},
   "outputs": [],
   "source": [
    "weight = 74"
   ]
  },
  {
   "cell_type": "code",
   "execution_count": 2,
   "metadata": {},
   "outputs": [
    {
     "ename": "TypeError",
     "evalue": "must be str, not int",
     "output_type": "error",
     "traceback": [
      "\u001b[1;31m---------------------------------------------------------------------------\u001b[0m",
      "\u001b[1;31mTypeError\u001b[0m                                 Traceback (most recent call last)",
      "\u001b[1;32m<ipython-input-2-6e03622b3a6f>\u001b[0m in \u001b[0;36m<module>\u001b[1;34m()\u001b[0m\n\u001b[0;32m      1\u001b[0m \u001b[1;31m#trying to concatenate number with string\u001b[0m\u001b[1;33m\u001b[0m\u001b[1;33m\u001b[0m\u001b[0m\n\u001b[1;32m----> 2\u001b[1;33m \u001b[0mprint\u001b[0m\u001b[1;33m(\u001b[0m\u001b[1;34m\"My weight is \"\u001b[0m \u001b[1;33m+\u001b[0m \u001b[0mweight\u001b[0m \u001b[1;33m+\u001b[0m \u001b[1;34m\"Kg\"\u001b[0m\u001b[1;33m)\u001b[0m\u001b[1;33m\u001b[0m\u001b[0m\n\u001b[0m",
      "\u001b[1;31mTypeError\u001b[0m: must be str, not int"
     ]
    }
   ],
   "source": [
    "# trying to concatenate number with string\n",
    "print(\"My weight is \" + weight + \"Kg\") "
   ]
  },
  {
   "cell_type": "code",
   "execution_count": 9,
   "metadata": {},
   "outputs": [
    {
     "name": "stdout",
     "output_type": "stream",
     "text": [
      "My weight is 74kg\n"
     ]
    }
   ],
   "source": [
    "# Throws Error\n",
    "# First we need to convert number to string\n",
    "# then we can concatenate\n",
    "# to convert number to string\n",
    "# we use str() function\n",
    "print(\"My weight is \" + str(weight) + \"kg\")"
   ]
  },
  {
   "cell_type": "code",
   "execution_count": 5,
   "metadata": {},
   "outputs": [
    {
     "name": "stdout",
     "output_type": "stream",
     "text": [
      "My weight is 74kg\n"
     ]
    }
   ],
   "source": [
    "# format() method \n",
    "# acts on the basis of placeholders\n",
    "print(\"My weight is {0}kg\".format(weight))"
   ]
  },
  {
   "cell_type": "code",
   "execution_count": 8,
   "metadata": {},
   "outputs": [
    {
     "name": "stdout",
     "output_type": "stream",
     "text": [
      "My weight was 74 last week and now 70 in this week\n"
     ]
    }
   ],
   "source": [
    "# this can be used with multiple placeholders\n",
    "# placeholder digits should be in sync with \n",
    "# data to be displayed\n",
    "print(\"My weight was {0} {1} and now {2} in {3}\".format(weight,\"last week\",70,\"this week\"))"
   ]
  },
  {
   "cell_type": "code",
   "execution_count": 11,
   "metadata": {},
   "outputs": [
    {
     "name": "stdout",
     "output_type": "stream",
     "text": [
      "My weight was 74 last week and now 70 in this week\n"
     ]
    }
   ],
   "source": [
    "# % operator is also used to format data with strings\n",
    "# in this case string contains \"argument specifiers\" as below\n",
    "# %s - String (or any object with a string representation, like numbers)\n",
    "# %d - Integers\n",
    "# %f - Floating point numbers\n",
    "# %.<number of digits>f - Floating point numbers with a fixed amount of digits to the right of the dot.\n",
    "print(\"My weight was %d %s and now %d in %s\" %(weight,\"last week\",70,\"this week\"))"
   ]
  },
  {
   "cell_type": "code",
   "execution_count": 13,
   "metadata": {},
   "outputs": [
    {
     "name": "stdout",
     "output_type": "stream",
     "text": [
      "My weight was   74 last week and now   70 in this week\n"
     ]
    }
   ],
   "source": [
    "# number of characters can be specified by\n",
    "# providing digits in \"argument specifiers\"\n",
    "print(\"My weight was %4d %s and now %4d in %s\" %(weight,\"last week\",70,\"this week\"))"
   ]
  },
  {
   "cell_type": "code",
   "execution_count": 25,
   "metadata": {},
   "outputs": [
    {
     "name": "stdout",
     "output_type": "stream",
     "text": [
      "My weight was 74.00 last week and now 70.890 in this week\n"
     ]
    }
   ],
   "source": [
    "# specifiying number of digits after decimal in floats\n",
    "print(\"My weight was %.2f %s and now %.3f in %s\" %(weight,\"last week\",70.89,\"this week\"))"
   ]
  },
  {
   "cell_type": "markdown",
   "metadata": {},
   "source": [
    "mostly floating point numbers use the format %n1.n2f \n",
    "n1 = total number of digits the string should contain \n",
    "(these may be filled with whitespace if the entire number does not have this many digits.)\n",
    "n2 = placeholder stands for how many numbers to show past the decimal point."
   ]
  },
  {
   "cell_type": "code",
   "execution_count": 27,
   "metadata": {},
   "outputs": [
    {
     "name": "stdout",
     "output_type": "stream",
     "text": [
      "pi is approx     3.1429\n"
     ]
    }
   ],
   "source": [
    "# take example of pi which is 22/7\n",
    "print(\"pi is approx %10.4f\" %(22/7))"
   ]
  },
  {
   "cell_type": "code",
   "execution_count": 28,
   "metadata": {},
   "outputs": [],
   "source": [
    "# Notice the extra spaces in above code before 3.1429\n",
    "# when i write %10.4f -> 10 specifies total characters\n",
    "# in the number -- it will take white spaces if there \n",
    "# are not sufficient characters"
   ]
  },
  {
   "cell_type": "code",
   "execution_count": 29,
   "metadata": {},
   "outputs": [
    {
     "name": "stdout",
     "output_type": "stream",
     "text": [
      "pi is approx 3.1428571428571427937015414499910548329353\n"
     ]
    }
   ],
   "source": [
    "print(\"pi is approx %1.40f\" %(22/7))"
   ]
  },
  {
   "cell_type": "code",
   "execution_count": 1,
   "metadata": {},
   "outputs": [
    {
     "name": "stdout",
     "output_type": "stream",
     "text": [
      "pi is approx 3\n"
     ]
    }
   ],
   "source": [
    "print(\"pi is approx %1.0f\" %(22/7))"
   ]
  },
  {
   "cell_type": "code",
   "execution_count": 2,
   "metadata": {},
   "outputs": [
    {
     "name": "stdout",
     "output_type": "stream",
     "text": [
      "pi is approx 3.1428571429\n"
     ]
    }
   ],
   "source": [
    "print(\"pi is approx %1.10f\" %(22/7))"
   ]
  },
  {
   "cell_type": "code",
   "execution_count": 3,
   "metadata": {},
   "outputs": [
    {
     "name": "stdout",
     "output_type": "stream",
     "text": [
      "pi is approx                                        3\n"
     ]
    }
   ],
   "source": [
    "print(\"pi is approx %40.0f\" %(22/7))"
   ]
  },
  {
   "cell_type": "code",
   "execution_count": 4,
   "metadata": {},
   "outputs": [
    {
     "name": "stdout",
     "output_type": "stream",
     "text": [
      "pi is approx                                  3.14286\n"
     ]
    }
   ],
   "source": [
    "print(\"pi is approx %40.5f\" %(22/7))"
   ]
  },
  {
   "cell_type": "code",
   "execution_count": null,
   "metadata": {},
   "outputs": [],
   "source": []
  }
 ],
 "metadata": {
  "kernelspec": {
   "display_name": "Python 3",
   "language": "python",
   "name": "python3"
  },
  "language_info": {
   "codemirror_mode": {
    "name": "ipython",
    "version": 3
   },
   "file_extension": ".py",
   "mimetype": "text/x-python",
   "name": "python",
   "nbconvert_exporter": "python",
   "pygments_lexer": "ipython3",
   "version": "3.6.5"
  }
 },
 "nbformat": 4,
 "nbformat_minor": 2
}
